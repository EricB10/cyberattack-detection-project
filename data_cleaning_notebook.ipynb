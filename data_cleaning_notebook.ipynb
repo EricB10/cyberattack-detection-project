{
 "cells": [
  {
   "cell_type": "markdown",
   "metadata": {},
   "source": [
    "# Imports"
   ]
  },
  {
   "cell_type": "code",
   "execution_count": 1,
   "metadata": {},
   "outputs": [],
   "source": [
    "import numpy as np\n",
    "import pandas as pd\n",
    "\n",
    "import os\n",
    "\n",
    "from datetime import datetime"
   ]
  },
  {
   "cell_type": "code",
   "execution_count": 2,
   "metadata": {},
   "outputs": [],
   "source": [
    "from functions import clean_cols"
   ]
  },
  {
   "cell_type": "markdown",
   "metadata": {},
   "source": [
    "# Clean Columns"
   ]
  },
  {
   "cell_type": "code",
   "execution_count": 3,
   "metadata": {},
   "outputs": [
    {
     "name": "stdout",
     "output_type": "stream",
     "text": [
      "19:38:47.479462 - benign.csv\n",
      "Shape:  (3577296, 87)\n",
      "Protocols:  [ 6 17  0]\n",
      "Labels:  ['BENIGN']\n",
      "19:42:10.851804 - Saved!\n",
      "\n"
     ]
    }
   ],
   "source": [
    "# Clean benign dataset\n",
    "df = pd.read_csv('Datasets/benign.csv')\n",
    "print(datetime.now().time(), '- benign.csv')\n",
    "print('Shape: ', df.shape)\n",
    "print('Protocols: ', df['Protocol'].unique())\n",
    "print('Labels: ', df['Label'].unique())\n",
    "df = clean_cols(df)\n",
    "df.to_csv('Datasets/Cleaned/clean_benign.csv')\n",
    "print(datetime.now().time(), '- Saved!\\n')\n",
    "del df"
   ]
  },
  {
   "cell_type": "code",
   "execution_count": 4,
   "metadata": {},
   "outputs": [
    {
     "name": "stdout",
     "output_type": "stream",
     "text": [
      "DrDoS_NTP.csv\n",
      "Syn.csv\n",
      "DrDoS_DNS.csv\n",
      "TFTP.csv\n",
      "UDPLag.csv\n",
      "DrDoS_SSDP.csv\n",
      "DrDoS_NetBIOS.csv\n",
      "DrDoS_MSSQL.csv\n",
      "DrDoS_UDP.csv\n",
      "DrDoS_LDAP.csv\n",
      "DrDoS_SNMP.csv\n"
     ]
    }
   ],
   "source": [
    "# List 2019.01.12 files\n",
    "for file in os.listdir('Datasets/01-12/'):\n",
    "    print(file)"
   ]
  },
  {
   "cell_type": "code",
   "execution_count": 5,
   "metadata": {},
   "outputs": [
    {
     "name": "stderr",
     "output_type": "stream",
     "text": [
      "/Users/eric/opt/anaconda3/lib/python3.7/site-packages/IPython/core/interactiveshell.py:3063: DtypeWarning: Columns (85) have mixed types.Specify dtype option on import or set low_memory=False.\n",
      "  interactivity=interactivity, compiler=compiler, result=result)\n",
      "/Users/eric/opt/anaconda3/lib/python3.7/site-packages/numpy/lib/arraysetops.py:569: FutureWarning: elementwise comparison failed; returning scalar instead, but in the future will perform elementwise comparison\n",
      "  mask |= (ar1 == a)\n"
     ]
    },
    {
     "name": "stdout",
     "output_type": "stream",
     "text": [
      "19:42:22.676585 - DrDoS_NTP.csv\n",
      "Shape:  (1217007, 87)\n",
      "Protocols:  [ 6  0 17]\n",
      "Labels:  ['DrDoS_NTP' 'BENIGN']\n",
      "19:44:13.592049 - Saved!\n",
      "\n",
      "19:44:25.663128 - Syn.csv\n",
      "Shape:  (1582681, 87)\n",
      "Protocols:  [ 6  0 17]\n",
      "Labels:  ['Syn' 'BENIGN']\n",
      "19:46:36.180959 - Saved!\n",
      "\n",
      "19:47:20.508913 - DrDoS_DNS.csv\n",
      "Shape:  (5074413, 87)\n",
      "Protocols:  [17  0  6]\n",
      "Labels:  ['DrDoS_DNS' 'BENIGN']\n",
      "19:54:54.552525 - Saved!\n",
      "\n",
      "19:58:44.639591 - TFTP.csv\n",
      "Shape:  (20107827, 87)\n",
      "Protocols:  [ 6 17  0]\n",
      "Labels:  ['TFTP' 'BENIGN']\n",
      "21:07:29.483631 - Saved!\n",
      "\n",
      "21:07:36.055796 - UDPLag.csv\n",
      "Shape:  (370605, 87)\n",
      "Protocols:  [17  0  6]\n",
      "Labels:  ['UDP-lag' 'BENIGN' 'WebDDoS']\n",
      "21:07:59.620620 - Saved!\n",
      "\n",
      "21:08:21.588839 - DrDoS_SSDP.csv\n",
      "Shape:  (2611374, 87)\n",
      "Protocols:  [ 0 17  6]\n",
      "Labels:  ['DrDoS_SSDP' 'BENIGN']\n",
      "21:12:06.946562 - Saved!\n",
      "\n",
      "21:12:39.059363 - DrDoS_NetBIOS.csv\n",
      "Shape:  (4094986, 87)\n",
      "Protocols:  [17  0  6]\n",
      "Labels:  ['DrDoS_NetBIOS' 'BENIGN']\n",
      "21:18:24.405621 - Saved!\n",
      "\n",
      "21:19:00.151471 - DrDoS_MSSQL.csv\n",
      "Shape:  (4524498, 87)\n",
      "Protocols:  [ 0 17  6]\n",
      "Labels:  ['DrDoS_MSSQL' 'BENIGN']\n",
      "21:25:36.540734 - Saved!\n",
      "\n",
      "21:26:05.382785 - DrDoS_UDP.csv\n",
      "Shape:  (3136802, 87)\n",
      "Protocols:  [17  0  6]\n",
      "Labels:  ['DrDoS_UDP' 'BENIGN']\n",
      "21:30:51.824123 - Saved!\n",
      "\n",
      "21:31:08.679343 - DrDoS_LDAP.csv\n",
      "Shape:  (2181542, 87)\n",
      "Protocols:  [ 0 17  6]\n",
      "Labels:  ['DrDoS_LDAP' 'BENIGN']\n",
      "21:34:13.501458 - Saved!\n",
      "\n",
      "21:34:54.784172 - DrDoS_SNMP.csv\n",
      "Shape:  (5161377, 87)\n",
      "Protocols:  [17  6  0]\n",
      "Labels:  ['DrDoS_SNMP' 'BENIGN']\n",
      "21:42:32.209807 - Saved!\n",
      "\n"
     ]
    }
   ],
   "source": [
    "# Clean 2019.01.12 datasets\n",
    "for file in os.listdir('Datasets/01-12/'):\n",
    "    if file[0] == '.':\n",
    "        print('Dot File\\n')\n",
    "        pass\n",
    "    else:\n",
    "        df = pd.read_csv(f'Datasets/01-12/{file}', index_col=0)\n",
    "        print(datetime.now().time(), '-', file)\n",
    "        print('Shape: ', df.shape)\n",
    "        print('Protocols: ', df[' Protocol'].unique())\n",
    "        print('Labels: ', df[' Label'].unique())\n",
    "        df = clean_cols(df)\n",
    "        df.to_csv(f'Datasets/Cleaned/clean_01-12_{file}')\n",
    "        print(datetime.now().time(), '- Saved!\\n')\n",
    "        del df"
   ]
  },
  {
   "cell_type": "code",
   "execution_count": 6,
   "metadata": {},
   "outputs": [
    {
     "name": "stdout",
     "output_type": "stream",
     "text": [
      "21:42:32.682757\n"
     ]
    }
   ],
   "source": [
    "print(datetime.now().time())"
   ]
  },
  {
   "cell_type": "code",
   "execution_count": 7,
   "metadata": {},
   "outputs": [
    {
     "name": "stdout",
     "output_type": "stream",
     "text": [
      "Syn.csv\n",
      "MSSQL.csv\n",
      "UDPLag.csv\n",
      "LDAP.csv\n",
      "UDP.csv\n",
      "Portmap.csv\n",
      "NetBIOS.csv\n",
      ".~lock.UDPLag.csv#\n"
     ]
    }
   ],
   "source": [
    "# List 2019.03.11 files\n",
    "for file in os.listdir('Datasets/03-11/'):\n",
    "    print(file)"
   ]
  },
  {
   "cell_type": "code",
   "execution_count": 8,
   "metadata": {},
   "outputs": [
    {
     "name": "stdout",
     "output_type": "stream",
     "text": [
      "21:43:09.432607 - Syn.csv\n",
      "Shape:  (4320541, 87)\n",
      "Protocols:  [ 6 17  0]\n",
      "Labels:  ['Syn' 'BENIGN']\n",
      "21:49:37.406391 - Saved!\n",
      "\n",
      "21:50:25.242840 - MSSQL.csv\n",
      "Shape:  (5775786, 87)\n",
      "Protocols:  [17  0  6]\n",
      "Labels:  ['LDAP' 'BENIGN' 'MSSQL']\n",
      "21:59:01.353304 - Saved!\n",
      "\n",
      "21:59:07.593757 - UDPLag.csv\n",
      "Shape:  (725165, 87)\n",
      "Protocols:  [17  6  0]\n",
      "Labels:  ['UDP' 'BENIGN' 'UDPLag' 'Syn']\n",
      "22:00:07.352170 - Saved!\n",
      "\n",
      "22:00:23.379443 - LDAP.csv\n",
      "Shape:  (2113234, 87)\n",
      "Protocols:  [17  6  0]\n",
      "Labels:  ['NetBIOS' 'BENIGN' 'LDAP']\n",
      "22:03:14.450349 - Saved!\n",
      "\n",
      "22:03:46.420077 - UDP.csv\n",
      "Shape:  (3782206, 87)\n",
      "Protocols:  [17  0  6]\n",
      "Labels:  ['MSSQL' 'BENIGN' 'UDP']\n",
      "22:09:30.822873 - Saved!\n",
      "\n",
      "22:09:32.529464 - Portmap.csv\n",
      "Shape:  (191694, 87)\n",
      "Protocols:  [ 0  6 17]\n",
      "Labels:  ['BENIGN' 'Portmap']\n",
      "22:09:44.890125 - Saved!\n",
      "\n",
      "22:10:11.568484 - NetBIOS.csv\n",
      "Shape:  (3455899, 87)\n",
      "Protocols:  [17  0  6]\n",
      "Labels:  ['NetBIOS' 'BENIGN']\n",
      "22:15:10.030030 - Saved!\n",
      "\n",
      "Dot File\n",
      "\n"
     ]
    }
   ],
   "source": [
    "# Clean 2019.03.11 datasets\n",
    "for file in os.listdir('Datasets/03-11/'):\n",
    "    if file[0] == '.':\n",
    "        print('Dot File\\n')\n",
    "        pass\n",
    "    else:\n",
    "        df = pd.read_csv(f'Datasets/03-11/{file}', index_col=0)\n",
    "        print(datetime.now().time(), '-', file)\n",
    "        print('Shape: ', df.shape)\n",
    "        print('Protocols: ', df[' Protocol'].unique())\n",
    "        print('Labels: ', df[' Label'].unique())\n",
    "        df = clean_cols(df)\n",
    "        df.to_csv(f'Datasets/Cleaned/clean_03-11_{file}')\n",
    "        print(datetime.now().time(), '- Saved!\\n')\n",
    "        del df"
   ]
  },
  {
   "cell_type": "code",
   "execution_count": 9,
   "metadata": {},
   "outputs": [
    {
     "name": "stdout",
     "output_type": "stream",
     "text": [
      "22:15:10.249173\n"
     ]
    }
   ],
   "source": [
    "print(datetime.now().time())"
   ]
  },
  {
   "cell_type": "code",
   "execution_count": null,
   "metadata": {},
   "outputs": [],
   "source": []
  },
  {
   "cell_type": "code",
   "execution_count": null,
   "metadata": {},
   "outputs": [],
   "source": []
  }
 ],
 "metadata": {
  "kernelspec": {
   "display_name": "Python 3",
   "language": "python",
   "name": "python3"
  },
  "language_info": {
   "codemirror_mode": {
    "name": "ipython",
    "version": 3
   },
   "file_extension": ".py",
   "mimetype": "text/x-python",
   "name": "python",
   "nbconvert_exporter": "python",
   "pygments_lexer": "ipython3",
   "version": "3.7.7"
  }
 },
 "nbformat": 4,
 "nbformat_minor": 4
}
