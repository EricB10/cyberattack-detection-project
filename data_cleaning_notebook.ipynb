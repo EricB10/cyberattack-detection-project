{
 "cells": [
  {
   "cell_type": "markdown",
   "metadata": {},
   "source": [
    "# Imports"
   ]
  },
  {
   "cell_type": "code",
   "execution_count": 1,
   "metadata": {},
   "outputs": [],
   "source": [
    "import numpy as np\n",
    "import pandas as pd\n",
    "\n",
    "import os\n",
    "\n",
    "from datetime import datetime\n",
    "\n",
    "import matplotlib\n",
    "import matplotlib.pyplot as plt\n",
    "%matplotlib inline\n",
    "\n",
    "import seaborn as sns"
   ]
  },
  {
   "cell_type": "code",
   "execution_count": 2,
   "metadata": {},
   "outputs": [],
   "source": [
    "from functions import clean_cols"
   ]
  },
  {
   "cell_type": "markdown",
   "metadata": {},
   "source": [
    "# Clean Columns"
   ]
  },
  {
   "cell_type": "code",
   "execution_count": 3,
   "metadata": {},
   "outputs": [
    {
     "name": "stdout",
     "output_type": "stream",
     "text": [
      "16:09:09.111892 - benign.csv\n",
      "Protocols:  [ 6 17  0]\n",
      "Labels:  ['BENIGN']\n",
      "16:12:32.312246 - Saved!\n",
      "\n"
     ]
    }
   ],
   "source": [
    "# Clean benign dataset\n",
    "df = pd.read_csv('Datasets/benign.csv')\n",
    "print(datetime.now().time(), '- benign.csv')\n",
    "print('Protocols: ', df['Protocol'].unique())\n",
    "print('Labels: ', df['Label'].unique())\n",
    "df = clean_cols(df)\n",
    "df.to_csv('Datasets/Cleaned/clean_benign.csv')\n",
    "print(datetime.now().time(), '- Saved!\\n')\n",
    "del df"
   ]
  },
  {
   "cell_type": "code",
   "execution_count": 4,
   "metadata": {},
   "outputs": [
    {
     "name": "stdout",
     "output_type": "stream",
     "text": [
      "DrDoS_NTP.csv\n",
      "Syn.csv\n",
      "DrDoS_DNS.csv\n",
      "TFTP.csv\n",
      "UDPLag.csv\n",
      "DrDoS_SSDP.csv\n",
      "DrDoS_NetBIOS.csv\n",
      "DrDoS_MSSQL.csv\n",
      "DrDoS_UDP.csv\n",
      "DrDoS_LDAP.csv\n",
      "DrDoS_SNMP.csv\n"
     ]
    }
   ],
   "source": [
    "# List 2019.01.12 files\n",
    "for file in os.listdir('Datasets/01-12/'):\n",
    "    print(file)"
   ]
  },
  {
   "cell_type": "code",
   "execution_count": 5,
   "metadata": {},
   "outputs": [
    {
     "name": "stderr",
     "output_type": "stream",
     "text": [
      "/Users/eric/opt/anaconda3/lib/python3.7/site-packages/IPython/core/interactiveshell.py:3063: DtypeWarning: Columns (85) have mixed types.Specify dtype option on import or set low_memory=False.\n",
      "  interactivity=interactivity, compiler=compiler, result=result)\n",
      "/Users/eric/opt/anaconda3/lib/python3.7/site-packages/numpy/lib/arraysetops.py:569: FutureWarning: elementwise comparison failed; returning scalar instead, but in the future will perform elementwise comparison\n",
      "  mask |= (ar1 == a)\n"
     ]
    },
    {
     "name": "stdout",
     "output_type": "stream",
     "text": [
      "16:13:11.198210 - DrDoS_NTP.csv\n",
      "Protocols:  [ 6  0 17]\n",
      "Labels:  ['DrDoS_NTP' 'BENIGN']\n",
      "16:15:08.741218 - Saved!\n",
      "\n",
      "16:15:22.827551 - Syn.csv\n",
      "Protocols:  [ 6  0 17]\n",
      "Labels:  ['Syn' 'BENIGN']\n",
      "16:17:47.934409 - Saved!\n",
      "\n",
      "16:18:41.136931 - DrDoS_DNS.csv\n",
      "Protocols:  [17  0  6]\n",
      "Labels:  ['DrDoS_DNS' 'BENIGN']\n",
      "16:26:52.572285 - Saved!\n",
      "\n",
      "16:31:13.144723 - TFTP.csv\n",
      "Protocols:  [ 6 17  0]\n",
      "Labels:  ['TFTP' 'BENIGN']\n",
      "17:43:19.754558 - Saved!\n",
      "\n",
      "17:43:25.157656 - UDPLag.csv\n",
      "Protocols:  [17  0  6]\n",
      "Labels:  ['UDP-lag' 'BENIGN' 'WebDDoS']\n",
      "17:43:51.703876 - Saved!\n",
      "\n",
      "17:44:16.215306 - DrDoS_SSDP.csv\n",
      "Protocols:  [ 0 17  6]\n",
      "Labels:  ['DrDoS_SSDP' 'BENIGN']\n",
      "17:48:34.245091 - Saved!\n",
      "\n",
      "17:49:06.060656 - DrDoS_NetBIOS.csv\n",
      "Protocols:  [17  0  6]\n",
      "Labels:  ['DrDoS_NetBIOS' 'BENIGN']\n",
      "17:55:09.586757 - Saved!\n",
      "\n",
      "17:55:46.509368 - DrDoS_MSSQL.csv\n",
      "Protocols:  [ 0 17  6]\n",
      "Labels:  ['DrDoS_MSSQL' 'BENIGN']\n",
      "18:02:14.680490 - Saved!\n",
      "\n",
      "18:02:44.216447 - DrDoS_UDP.csv\n",
      "Protocols:  [17  0  6]\n",
      "Labels:  ['DrDoS_UDP' 'BENIGN']\n",
      "18:07:27.348308 - Saved!\n",
      "\n",
      "18:07:44.030159 - DrDoS_LDAP.csv\n",
      "Protocols:  [ 0 17  6]\n",
      "Labels:  ['DrDoS_LDAP' 'BENIGN']\n",
      "18:10:44.874914 - Saved!\n",
      "\n",
      "18:11:26.303638 - DrDoS_SNMP.csv\n",
      "Protocols:  [17  6  0]\n",
      "Labels:  ['DrDoS_SNMP' 'BENIGN']\n",
      "18:19:01.885467 - Saved!\n",
      "\n"
     ]
    }
   ],
   "source": [
    "# Clean 2019.01.12 datasets\n",
    "for file in os.listdir('Datasets/01-12/'):\n",
    "    if file[0] == '.':\n",
    "        print('Dot File\\n')\n",
    "        pass\n",
    "    else:\n",
    "        df = pd.read_csv(f'Datasets/01-12/{file}', index_col=0)\n",
    "        print(datetime.now().time(), '-', file)\n",
    "        print('Protocols: ', df[' Protocol'].unique())\n",
    "        print('Labels: ', df[' Label'].unique())\n",
    "        df = clean_cols(df)\n",
    "        df.to_csv(f'Datasets/Cleaned/clean_01-12_{file}')\n",
    "        print(datetime.now().time(), '- Saved!\\n')\n",
    "        del df"
   ]
  },
  {
   "cell_type": "code",
   "execution_count": 6,
   "metadata": {},
   "outputs": [
    {
     "name": "stdout",
     "output_type": "stream",
     "text": [
      "18:19:03.057206\n"
     ]
    }
   ],
   "source": [
    "print(datetime.now().time())"
   ]
  },
  {
   "cell_type": "code",
   "execution_count": 7,
   "metadata": {},
   "outputs": [
    {
     "name": "stdout",
     "output_type": "stream",
     "text": [
      "Syn.csv\n",
      "MSSQL.csv\n",
      "UDPLag.csv\n",
      "LDAP.csv\n",
      "UDP.csv\n",
      "Portmap.csv\n",
      "NetBIOS.csv\n",
      ".~lock.UDPLag.csv#\n"
     ]
    }
   ],
   "source": [
    "# List 2019.03.11 files\n",
    "for file in os.listdir('Datasets/03-11/'):\n",
    "    print(file)"
   ]
  },
  {
   "cell_type": "code",
   "execution_count": 8,
   "metadata": {},
   "outputs": [
    {
     "name": "stderr",
     "output_type": "stream",
     "text": [
      "/Users/eric/opt/anaconda3/lib/python3.7/site-packages/IPython/core/interactiveshell.py:3063: DtypeWarning: Columns (85) have mixed types.Specify dtype option on import or set low_memory=False.\n",
      "  interactivity=interactivity, compiler=compiler, result=result)\n",
      "/Users/eric/opt/anaconda3/lib/python3.7/site-packages/numpy/lib/arraysetops.py:569: FutureWarning: elementwise comparison failed; returning scalar instead, but in the future will perform elementwise comparison\n",
      "  mask |= (ar1 == a)\n"
     ]
    },
    {
     "name": "stdout",
     "output_type": "stream",
     "text": [
      "18:19:39.432613 - Syn.csv\n",
      "Protocols:  [ 6 17  0]\n",
      "Labels:  ['Syn' 'BENIGN']\n",
      "18:26:03.263227 - Saved!\n",
      "\n",
      "18:26:51.741122 - MSSQL.csv\n",
      "Protocols:  [17  0  6]\n",
      "Labels:  ['LDAP' 'BENIGN' 'MSSQL']\n",
      "18:35:22.302045 - Saved!\n",
      "\n",
      "18:35:28.286018 - UDPLag.csv\n",
      "Protocols:  [17  6  0]\n",
      "Labels:  ['UDP' 'BENIGN' 'UDPLag' 'Syn']\n",
      "18:36:27.853021 - Saved!\n",
      "\n",
      "18:36:43.615244 - LDAP.csv\n",
      "Protocols:  [17  6  0]\n",
      "Labels:  ['NetBIOS' 'BENIGN' 'LDAP']\n",
      "18:39:36.005226 - Saved!\n",
      "\n",
      "18:40:08.014592 - UDP.csv\n",
      "Protocols:  [17  0  6]\n",
      "Labels:  ['MSSQL' 'BENIGN' 'UDP']\n",
      "18:45:49.277518 - Saved!\n",
      "\n",
      "18:45:50.828029 - Portmap.csv\n",
      "Protocols:  [ 0  6 17]\n",
      "Labels:  ['BENIGN' 'Portmap']\n",
      "18:46:03.065948 - Saved!\n",
      "\n",
      "18:46:30.298342 - NetBIOS.csv\n",
      "Protocols:  [17  0  6]\n",
      "Labels:  ['NetBIOS' 'BENIGN']\n",
      "18:51:27.448635 - Saved!\n",
      "\n",
      "Dot File\n",
      "\n"
     ]
    }
   ],
   "source": [
    "# Clean 2019.03.11 datasets\n",
    "for file in os.listdir('Datasets/03-11/'):\n",
    "    if file[0] == '.':\n",
    "        print('Dot File\\n')\n",
    "        pass\n",
    "    else:\n",
    "        df = pd.read_csv(f'Datasets/03-11/{file}', index_col=0)\n",
    "        print(datetime.now().time(), '-', file)\n",
    "        print('Protocols: ', df[' Protocol'].unique())\n",
    "        print('Labels: ', df[' Label'].unique())\n",
    "        df = clean_cols(df)\n",
    "        df.to_csv(f'Datasets/Cleaned/clean_03-11_{file}')\n",
    "        print(datetime.now().time(), '- Saved!\\n')\n",
    "        del df"
   ]
  },
  {
   "cell_type": "code",
   "execution_count": 9,
   "metadata": {},
   "outputs": [
    {
     "name": "stdout",
     "output_type": "stream",
     "text": [
      "18:51:27.585265\n"
     ]
    }
   ],
   "source": [
    "print(datetime.now().time())"
   ]
  },
  {
   "cell_type": "code",
   "execution_count": null,
   "metadata": {},
   "outputs": [],
   "source": []
  }
 ],
 "metadata": {
  "kernelspec": {
   "display_name": "Python 3",
   "language": "python",
   "name": "python3"
  },
  "language_info": {
   "codemirror_mode": {
    "name": "ipython",
    "version": 3
   },
   "file_extension": ".py",
   "mimetype": "text/x-python",
   "name": "python",
   "nbconvert_exporter": "python",
   "pygments_lexer": "ipython3",
   "version": "3.7.7"
  }
 },
 "nbformat": 4,
 "nbformat_minor": 4
}
