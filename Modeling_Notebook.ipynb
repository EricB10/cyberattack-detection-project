{
 "cells": [
  {
   "cell_type": "markdown",
   "metadata": {},
   "source": [
    "# Imports"
   ]
  },
  {
   "cell_type": "code",
   "execution_count": null,
   "metadata": {},
   "outputs": [],
   "source": [
    "import numpy as np\n",
    "import pandas as pd\n",
    "import sqlalchemy\n",
    "\n",
    "import itertools\n",
    "import os\n",
    "from datetime import datetime\n",
    "\n",
    "\n",
    "from sklearn.model_selection import train_test_split\n",
    "from sklearn.preprocessing import StandardScaler\n",
    "\n",
    "from sklearn.dummy import DummyClassifier\n",
    "from sklearn.naive_bayes import GaussianNB\n",
    "from sklearn.tree import DecisionTreeClassifier\n",
    "from sklearn.neighbors import KNeighborsClassifier\n",
    "from sklearn.ensemble import RandomForestClassifier\n",
    "\n",
    "from xgboost import XGBClassifier\n",
    "\n",
    "from sklearn.metrics import accuracy_score\n",
    "from sklearn.metrics import precision_score\n",
    "from sklearn.metrics import recall_score\n",
    "from sklearn.metrics import f1_score\n",
    "from sklearn.metrics import confusion_matrix\n",
    "\n",
    "\n",
    "import matplotlib\n",
    "import matplotlib.pyplot as plt\n",
    "%matplotlib inline\n",
    "\n",
    "import seaborn as sns "
   ]
  },
  {
   "cell_type": "code",
   "execution_count": null,
   "metadata": {},
   "outputs": [],
   "source": [
    "from functions import load_balanced_df, load_balanced_df2, confusion_matrix"
   ]
  },
  {
   "cell_type": "markdown",
   "metadata": {},
   "source": [
    "# Balanced Dataset"
   ]
  },
  {
   "cell_type": "markdown",
   "metadata": {},
   "source": [
    "Load and combine files for from each protocol"
   ]
  },
  {
   "cell_type": "code",
   "execution_count": 45,
   "metadata": {},
   "outputs": [
    {
     "data": {
      "text/plain": [
       "(2558, 83)"
      ]
     },
     "execution_count": 45,
     "metadata": {},
     "output_type": "execute_result"
    }
   ],
   "source": [
    "HOPOPT_df = load_balanced_df(directory='HOPOPT', sample_size=1000)\n",
    "HOPOPT_df.shape"
   ]
  },
  {
   "cell_type": "code",
   "execution_count": 46,
   "metadata": {},
   "outputs": [
    {
     "data": {
      "text/plain": [
       "(18482, 83)"
      ]
     },
     "execution_count": 46,
     "metadata": {},
     "output_type": "execute_result"
    }
   ],
   "source": [
    "TCP_df = load_balanced_df(directory='TCP', sample_size=1000)\n",
    "TCP_df.shape"
   ]
  },
  {
   "cell_type": "code",
   "execution_count": 47,
   "metadata": {},
   "outputs": [
    {
     "data": {
      "text/plain": [
       "(55000, 83)"
      ]
     },
     "execution_count": 47,
     "metadata": {},
     "output_type": "execute_result"
    }
   ],
   "source": [
    "UDP_df = load_balanced_df(directory='UDP', sample_size=1000)\n",
    "UDP_df.shape"
   ]
  },
  {
   "cell_type": "markdown",
   "metadata": {},
   "source": [
    "Combine all protocols into balanced dataset"
   ]
  },
  {
   "cell_type": "code",
   "execution_count": 48,
   "metadata": {},
   "outputs": [
    {
     "data": {
      "text/plain": [
       "(76040, 83)"
      ]
     },
     "execution_count": 48,
     "metadata": {},
     "output_type": "execute_result"
    }
   ],
   "source": [
    "balanced_df = pd.concat([HOPOPT_df, TCP_df, UDP_df])\n",
    "del HOPOPT_df, TCP_df, UDP_df\n",
    "balanced_df.reset_index(drop=True, inplace=True)\n",
    "balanced_df.shape"
   ]
  },
  {
   "cell_type": "code",
   "execution_count": 49,
   "metadata": {
    "scrolled": false
   },
   "outputs": [
    {
     "data": {
      "text/plain": [
       "Index(['Flow_ID', 'Flow_Duration', 'Fwd_Total_Pkts', 'Bwd_Total_Pkts',\n",
       "       'Fwd_Total_Bytes', 'Bwd_Total_Bytes', 'Fwd_Pkt_Length_Max',\n",
       "       'Fwd_Pkt_Length_Min', 'Fwd_Pkt_Length_Mean', 'Fwd_Pkt_Length_Std',\n",
       "       'Bwd_Pkt_Length_Max', 'Bwd_Pkt_Length_Min', 'Bwd_Pkt_Length_Mean',\n",
       "       'Bwd_Pkt_Length_Std', 'Flow_Bytes_Sec', 'Flow_Pkts_Sec',\n",
       "       'Flow_IAT_Mean', 'Flow_IAT_Std', 'Flow_IAT_Max', 'Flow_IAT_Min',\n",
       "       'Fwd_IAT_Total', 'Fwd_IAT_Mean', 'Fwd_IAT_Std', 'Fwd_IAT_Max',\n",
       "       'Fwd_IAT_Min', 'Bwd_IAT_Total', 'Bwd_IAT_Mean', 'Bwd_IAT_Std',\n",
       "       'Bwd_IAT_Max', 'Bwd_IAT_Min', 'Fwd_PSH_Flags', 'Bwd_PSH_Flags',\n",
       "       'Fwd_URG_Flags', 'Bwd_URG_Flags', 'Fwd_Header_Length',\n",
       "       'Bwd_Header_Length', 'Fwd_Pkts_Sec', 'Bwd_Pkts_Sec', 'Pkt_Length_Min',\n",
       "       'Pkt_Length_Max', 'Pkt_Length_Mean', 'Pkt_Length_Std', 'Pkt_Length_Var',\n",
       "       'FIN_Flag_Count', 'SYN_Flag_Count', 'RST_Flag_Count', 'PSH_Flag_Count',\n",
       "       'ACK_Flag_Count', 'URG_Flag_Count', 'CWE_Flag_Count', 'ECE_Flag_Count',\n",
       "       'Down_Up_Ratio', 'Pkt_Size_Mean', 'Fwd_Segment_Size_Mean',\n",
       "       'Bwd_Segment_Size_Mean', 'Fwd_Header_Length_1',\n",
       "       'Fwd_Byte_Bulk_Rate_Mean', 'Fwd_Pkt_Bulk_Rate_Mean',\n",
       "       'Fwd_Num_Bulk_Rate_Mean', 'Bwd_Byte_Bulk_Rate_Mean',\n",
       "       'Bwd_Pkt_Bulk_Rate_Mean', 'Bwd_Num_Bulk_Rate_Mean', 'Fwd_Subflow_Pkts',\n",
       "       'Fwd_Subflow_Bytes', 'Bwd_Subflow_Pkts', 'Bwd_Subflow_Bytes',\n",
       "       'Fwd_Init_Win_Bytes', 'Bwd_Init_Win_Bytes', 'Fwd_Act_Data_Pkt',\n",
       "       'Fwd_Seg_Size_Min', 'Time_Active_Mean', 'Time_Active_Std',\n",
       "       'Time_Active_Max', 'Time_Active_Min', 'Time_Idle_Mean', 'Time_Idle_Std',\n",
       "       'Time_Idle_Max', 'Time_Idle_Min', 'Label', 'HOPOPT', 'TCP', 'UDP',\n",
       "       'Malicious'],\n",
       "      dtype='object')"
      ]
     },
     "execution_count": 49,
     "metadata": {},
     "output_type": "execute_result"
    }
   ],
   "source": [
    "balanced_df.columns"
   ]
  },
  {
   "cell_type": "markdown",
   "metadata": {},
   "source": [
    "Change all benign lables to simply 'benign'"
   ]
  },
  {
   "cell_type": "code",
   "execution_count": 50,
   "metadata": {},
   "outputs": [],
   "source": [
    "benign_filt = balanced_df['Malicious'] == 0\n",
    "balanced_df['Label'] = np.where(benign_filt, 'Benign', balanced_df['Label'])"
   ]
  },
  {
   "cell_type": "markdown",
   "metadata": {},
   "source": [
    "Check target distributions"
   ]
  },
  {
   "cell_type": "code",
   "execution_count": 51,
   "metadata": {},
   "outputs": [
    {
     "data": {
      "text/plain": [
       "1    38020\n",
       "0    38020\n",
       "Name: Malicious, dtype: int64"
      ]
     },
     "execution_count": 51,
     "metadata": {},
     "output_type": "execute_result"
    }
   ],
   "source": [
    "balanced_df['Malicious'].value_counts()"
   ]
  },
  {
   "cell_type": "code",
   "execution_count": 52,
   "metadata": {},
   "outputs": [
    {
     "data": {
      "text/plain": [
       "Benign     38020\n",
       "TFTP        3791\n",
       "Syn         3710\n",
       "DNS         3695\n",
       "NTP         3656\n",
       "NetBIOS     3594\n",
       "SNMP        3591\n",
       "UDP         3564\n",
       "MSSQL       3187\n",
       "LDAP        3177\n",
       "Portmap     3055\n",
       "SSDP        3000\n",
       "Name: Label, dtype: int64"
      ]
     },
     "execution_count": 52,
     "metadata": {},
     "output_type": "execute_result"
    }
   ],
   "source": [
    "balanced_df['Label'].value_counts()"
   ]
  },
  {
   "cell_type": "code",
   "execution_count": null,
   "metadata": {},
   "outputs": [],
   "source": []
  },
  {
   "cell_type": "code",
   "execution_count": null,
   "metadata": {},
   "outputs": [],
   "source": []
  },
  {
   "cell_type": "code",
   "execution_count": null,
   "metadata": {},
   "outputs": [],
   "source": []
  },
  {
   "cell_type": "code",
   "execution_count": 3,
   "metadata": {},
   "outputs": [
    {
     "data": {
      "text/plain": [
       "(22000, 83)"
      ]
     },
     "execution_count": 3,
     "metadata": {},
     "output_type": "execute_result"
    }
   ],
   "source": [
    "balanced_df = load_balanced_df2(sample_size=1000)\n",
    "balanced_df.shape"
   ]
  },
  {
   "cell_type": "markdown",
   "metadata": {},
   "source": [
    "Change all benign lables to simply 'benign'"
   ]
  },
  {
   "cell_type": "code",
   "execution_count": 4,
   "metadata": {},
   "outputs": [],
   "source": [
    "benign_filt = balanced_df['Malicious'] == 0\n",
    "balanced_df['Label'] = np.where(benign_filt, 'Benign', balanced_df['Label'])"
   ]
  },
  {
   "cell_type": "markdown",
   "metadata": {},
   "source": [
    "Check target distributions"
   ]
  },
  {
   "cell_type": "code",
   "execution_count": 5,
   "metadata": {},
   "outputs": [
    {
     "data": {
      "text/plain": [
       "1    11000\n",
       "0    11000\n",
       "Name: Malicious, dtype: int64"
      ]
     },
     "execution_count": 5,
     "metadata": {},
     "output_type": "execute_result"
    }
   ],
   "source": [
    "balanced_df['Malicious'].value_counts()"
   ]
  },
  {
   "cell_type": "code",
   "execution_count": 6,
   "metadata": {},
   "outputs": [
    {
     "data": {
      "text/plain": [
       "Benign     11000\n",
       "LDAP        1000\n",
       "TFTP        1000\n",
       "Syn         1000\n",
       "Portmap     1000\n",
       "UDP         1000\n",
       "SSDP        1000\n",
       "NTP         1000\n",
       "DNS         1000\n",
       "SNMP        1000\n",
       "MSSQL       1000\n",
       "NetBIOS     1000\n",
       "Name: Label, dtype: int64"
      ]
     },
     "execution_count": 6,
     "metadata": {},
     "output_type": "execute_result"
    }
   ],
   "source": [
    "balanced_df['Label'].value_counts()"
   ]
  },
  {
   "cell_type": "markdown",
   "metadata": {},
   "source": [
    "## Binary Classification (Balanced)"
   ]
  },
  {
   "cell_type": "markdown",
   "metadata": {},
   "source": [
    "### Train Test Split"
   ]
  },
  {
   "cell_type": "code",
   "execution_count": 7,
   "metadata": {},
   "outputs": [],
   "source": [
    "bal_binary_X = balanced_df.drop(['Flow_ID', 'Label', 'HOPOPT', 'Malicious'], axis=1)\n",
    "bal_binary_y = balanced_df['Malicious']\n",
    "\n",
    "bal_binary_X_train, bal_binary_X_test, bal_binary_y_train, bal_binary_y_test = train_test_split(\n",
    "    bal_binary_X, bal_binary_y, test_size = 0.25, random_state = 0)"
   ]
  },
  {
   "cell_type": "markdown",
   "metadata": {},
   "source": [
    "### Standard Scalar"
   ]
  },
  {
   "cell_type": "code",
   "execution_count": 8,
   "metadata": {},
   "outputs": [],
   "source": [
    "std_scaler = StandardScaler()\n",
    "\n",
    "bal_binary_X_train_scl = std_scaler.fit_transform(bal_binary_X_train)\n",
    "bal_binary_X_test_scl = std_scaler.transform(bal_binary_X_test)"
   ]
  },
  {
   "cell_type": "markdown",
   "metadata": {},
   "source": [
    "### Dummy Classifier"
   ]
  },
  {
   "cell_type": "code",
   "execution_count": 9,
   "metadata": {},
   "outputs": [
    {
     "name": "stderr",
     "output_type": "stream",
     "text": [
      "/Users/eric/opt/anaconda3/lib/python3.7/site-packages/sklearn/dummy.py:132: FutureWarning: The default value of strategy will change from stratified to prior in 0.24.\n",
      "  \"stratified to prior in 0.24.\", FutureWarning)\n"
     ]
    }
   ],
   "source": [
    "bal_binary_dummy = DummyClassifier()\n",
    "bal_binary_dummy.fit(bal_binary_X_train_scl, bal_binary_y_train)\n",
    "bal_binary_dummy_preds = bal_binary_dummy.predict(bal_binary_X_test_scl)"
   ]
  },
  {
   "cell_type": "code",
   "execution_count": 10,
   "metadata": {},
   "outputs": [
    {
     "name": "stdout",
     "output_type": "stream",
     "text": [
      "Accuracy: 0.4950909090909091\n",
      "      F1: 0.49554950045413265\n"
     ]
    }
   ],
   "source": [
    "bal_binary_dummy_acc = accuracy_score(bal_binary_dummy_preds, bal_binary_y_test)\n",
    "bal_binary_dummy_f1 = f1_score(bal_binary_dummy_preds, bal_binary_y_test)\n",
    "\n",
    "print('Accuracy:', bal_binary_dummy_acc)\n",
    "print('      F1:', bal_binary_dummy_f1)"
   ]
  },
  {
   "cell_type": "markdown",
   "metadata": {},
   "source": [
    "### Gaussian Naive Bayes "
   ]
  },
  {
   "cell_type": "code",
   "execution_count": 11,
   "metadata": {},
   "outputs": [],
   "source": [
    "bal_binary_gnb = GaussianNB()\n",
    "bal_binary_gnb.fit(bal_binary_X_train_scl, bal_binary_y_train)\n",
    "bal_binary_gnb_preds = bal_binary_gnb.predict(bal_binary_X_test_scl)"
   ]
  },
  {
   "cell_type": "code",
   "execution_count": 12,
   "metadata": {},
   "outputs": [
    {
     "name": "stdout",
     "output_type": "stream",
     "text": [
      "Accuracy: 0.8223636363636364\n",
      "      F1: 0.8438548825315646\n"
     ]
    }
   ],
   "source": [
    "bal_binary_gnb_acc = accuracy_score(bal_binary_gnb_preds, bal_binary_y_test)\n",
    "bal_binary_gnb_f1 = f1_score(bal_binary_gnb_preds, bal_binary_y_test)\n",
    "\n",
    "print('Accuracy:', bal_binary_gnb_acc)\n",
    "print('      F1:', bal_binary_gnb_f1)"
   ]
  },
  {
   "cell_type": "markdown",
   "metadata": {},
   "source": [
    "### Decision Tree"
   ]
  },
  {
   "cell_type": "code",
   "execution_count": 13,
   "metadata": {},
   "outputs": [],
   "source": [
    "bal_binary_dt = DecisionTreeClassifier(random_state=0)\n",
    "bal_binary_dt.fit(bal_binary_X_train_scl, bal_binary_y_train)\n",
    "bal_binary_dt_preds = bal_binary_dt.predict(bal_binary_X_test_scl)"
   ]
  },
  {
   "cell_type": "code",
   "execution_count": 14,
   "metadata": {},
   "outputs": [
    {
     "name": "stdout",
     "output_type": "stream",
     "text": [
      "Accuracy: 0.9990909090909091\n",
      "      F1: 0.9990830735375024\n"
     ]
    }
   ],
   "source": [
    "bal_binary_dt_acc = accuracy_score(bal_binary_dt_preds, bal_binary_y_test)\n",
    "bal_binary_dt_f1 = f1_score(bal_binary_dt_preds, bal_binary_y_test)\n",
    "\n",
    "print('Accuracy:', bal_binary_dt_acc)\n",
    "print('      F1:', bal_binary_dt_f1)"
   ]
  },
  {
   "cell_type": "markdown",
   "metadata": {},
   "source": [
    "### K Nearest Neighbors"
   ]
  },
  {
   "cell_type": "code",
   "execution_count": 15,
   "metadata": {},
   "outputs": [],
   "source": [
    "bal_binary_knn = KNeighborsClassifier()\n",
    "bal_binary_knn.fit(bal_binary_X_train_scl, bal_binary_y_train)\n",
    "bal_binary_knn_preds = bal_binary_knn.predict(bal_binary_X_test_scl)"
   ]
  },
  {
   "cell_type": "code",
   "execution_count": 16,
   "metadata": {},
   "outputs": [
    {
     "name": "stdout",
     "output_type": "stream",
     "text": [
      "Accuracy: 0.9972727272727273\n",
      "      F1: 0.9972542559033498\n"
     ]
    }
   ],
   "source": [
    "bal_binary_knn_acc = accuracy_score(bal_binary_knn_preds, bal_binary_y_test)\n",
    "bal_binary_knn_f1 = f1_score(bal_binary_knn_preds, bal_binary_y_test)\n",
    "\n",
    "print('Accuracy:', bal_binary_knn_acc)\n",
    "print('      F1:', bal_binary_knn_f1)"
   ]
  },
  {
   "cell_type": "markdown",
   "metadata": {},
   "source": [
    "### Random Forest"
   ]
  },
  {
   "cell_type": "code",
   "execution_count": 17,
   "metadata": {},
   "outputs": [],
   "source": [
    "bal_binary_rf = RandomForestClassifier(random_state=0, n_jobs=-1)\n",
    "bal_binary_rf.fit(bal_binary_X_train_scl, bal_binary_y_train)\n",
    "bal_binary_rf_preds = bal_binary_rf.predict(bal_binary_X_test_scl)"
   ]
  },
  {
   "cell_type": "code",
   "execution_count": 18,
   "metadata": {},
   "outputs": [
    {
     "name": "stdout",
     "output_type": "stream",
     "text": [
      "Accuracy: 0.9987272727272727\n",
      "      F1: 0.9987153606166268\n"
     ]
    }
   ],
   "source": [
    "bal_binary_rf_acc = accuracy_score(bal_binary_rf_preds, bal_binary_y_test)\n",
    "bal_binary_rf_f1 = f1_score(bal_binary_rf_preds, bal_binary_y_test)\n",
    "\n",
    "print('Accuracy:', bal_binary_rf_acc)\n",
    "print('      F1:', bal_binary_rf_f1)"
   ]
  },
  {
   "cell_type": "markdown",
   "metadata": {},
   "source": [
    "### XGBoost"
   ]
  },
  {
   "cell_type": "code",
   "execution_count": 19,
   "metadata": {},
   "outputs": [],
   "source": [
    "bal_binary_xgb = XGBClassifier(random_state=0, n_jobs=-1)\n",
    "bal_binary_xgb.fit(bal_binary_X_train_scl, bal_binary_y_train)\n",
    "bal_binary_xgb_preds = bal_binary_xgb.predict(bal_binary_X_test_scl)"
   ]
  },
  {
   "cell_type": "code",
   "execution_count": 20,
   "metadata": {},
   "outputs": [
    {
     "name": "stdout",
     "output_type": "stream",
     "text": [
      "Accuracy: 1.0\n",
      "      F1: 1.0\n"
     ]
    }
   ],
   "source": [
    "bal_binary_xgb_acc = accuracy_score(bal_binary_xgb_preds, bal_binary_y_test)\n",
    "bal_binary_xgb_f1 = f1_score(bal_binary_xgb_preds, bal_binary_y_test)\n",
    "\n",
    "print('Accuracy:', bal_binary_xgb_acc)\n",
    "print('      F1:', bal_binary_xgb_f1)"
   ]
  },
  {
   "cell_type": "markdown",
   "metadata": {},
   "source": [
    "### Feature Importances"
   ]
  },
  {
   "cell_type": "markdown",
   "metadata": {},
   "source": [
    "Decision Tree"
   ]
  },
  {
   "cell_type": "code",
   "execution_count": 21,
   "metadata": {},
   "outputs": [
    {
     "data": {
      "text/plain": [
       "[('Fwd_Init_Win_Bytes', 0.6428306338135531),\n",
       " ('Pkt_Size_Mean', 0.1930210912747058),\n",
       " ('ACK_Flag_Count', 0.06833403894335129),\n",
       " ('URG_Flag_Count', 0.018841893148837326),\n",
       " ('Fwd_IAT_Std', 0.0170630742980684),\n",
       " ('Flow_IAT_Max', 0.01288170243231033),\n",
       " ('PSH_Flag_Count', 0.011608792134848533),\n",
       " ('Fwd_PSH_Flags', 0.007789010462476875),\n",
       " ('Fwd_Total_Pkts', 0.006817833494654901),\n",
       " ('Flow_IAT_Min', 0.006603003802723726)]"
      ]
     },
     "execution_count": 21,
     "metadata": {},
     "output_type": "execute_result"
    }
   ],
   "source": [
    "bal_binary_dt_features = dict(zip(bal_binary_X.columns, bal_binary_dt.feature_importances_))\n",
    "bal_binary_dt_features = sorted(bal_binary_dt_features.items(), key=lambda x: x[1], reverse=True)\n",
    "bal_binary_dt_features[:10]"
   ]
  },
  {
   "cell_type": "markdown",
   "metadata": {},
   "source": [
    "Random Forest"
   ]
  },
  {
   "cell_type": "code",
   "execution_count": 22,
   "metadata": {},
   "outputs": [
    {
     "data": {
      "text/plain": [
       "[('Fwd_Init_Win_Bytes', 0.13006379633919796),\n",
       " ('TCP', 0.07753190823840336),\n",
       " ('Pkt_Length_Min', 0.06621859113300392),\n",
       " ('UDP', 0.05545832025128266),\n",
       " ('PSH_Flag_Count', 0.04537413078590603),\n",
       " ('URG_Flag_Count', 0.04036536486130466),\n",
       " ('Fwd_Pkt_Length_Min', 0.03883967725701086),\n",
       " ('Pkt_Size_Mean', 0.032571640316125056),\n",
       " ('Fwd_IAT_Total', 0.02891790669537423),\n",
       " ('ACK_Flag_Count', 0.02445749558583487)]"
      ]
     },
     "execution_count": 22,
     "metadata": {},
     "output_type": "execute_result"
    }
   ],
   "source": [
    "bal_binary_rf_features = dict(zip(bal_binary_X.columns, bal_binary_rf.feature_importances_))\n",
    "bal_binary_rf_features = sorted(bal_binary_rf_features.items(), key=lambda x: x[1], reverse=True)\n",
    "bal_binary_rf_features[:10]"
   ]
  },
  {
   "cell_type": "markdown",
   "metadata": {},
   "source": [
    "XGBoost"
   ]
  },
  {
   "cell_type": "code",
   "execution_count": 23,
   "metadata": {},
   "outputs": [
    {
     "data": {
      "text/plain": [
       "[('Pkt_Size_Mean', 0.36486617),\n",
       " ('CWE_Flag_Count', 0.14011626),\n",
       " ('Fwd_Init_Win_Bytes', 0.13416831),\n",
       " ('Fwd_Seg_Size_Min', 0.116157554),\n",
       " ('Fwd_PSH_Flags', 0.06968633),\n",
       " ('URG_Flag_Count', 0.038217895),\n",
       " ('Flow_Duration', 0.02600883),\n",
       " ('PSH_Flag_Count', 0.017169759),\n",
       " ('Bwd_IAT_Min', 0.016114924),\n",
       " ('Flow_IAT_Min', 0.015088932)]"
      ]
     },
     "execution_count": 23,
     "metadata": {},
     "output_type": "execute_result"
    }
   ],
   "source": [
    "bal_binary_xgb_features = dict(zip(bal_binary_X.columns, bal_binary_xgb.feature_importances_))\n",
    "bal_binary_xgb_features = sorted(bal_binary_xgb_features.items(), key=lambda x: x[1], reverse=True)\n",
    "bal_binary_xgb_features[:10]"
   ]
  },
  {
   "cell_type": "markdown",
   "metadata": {},
   "source": [
    "## Multiclass Classification (Balanced)"
   ]
  },
  {
   "cell_type": "markdown",
   "metadata": {},
   "source": [
    "### Train Test Split"
   ]
  },
  {
   "cell_type": "code",
   "execution_count": 24,
   "metadata": {},
   "outputs": [],
   "source": [
    "bal_multi_X = balanced_df.drop(['Flow_ID', 'Label', 'HOPOPT', 'Malicious'], axis=1)\n",
    "bal_multi_y = balanced_df['Label']\n",
    "\n",
    "bal_multi_X_train, bal_multi_X_test, bal_multi_y_train, bal_multi_y_test = train_test_split(\n",
    "    bal_multi_X, bal_multi_y, test_size = 0.25, random_state = 0)"
   ]
  },
  {
   "cell_type": "markdown",
   "metadata": {},
   "source": [
    "### Standard Scalar"
   ]
  },
  {
   "cell_type": "code",
   "execution_count": 25,
   "metadata": {},
   "outputs": [],
   "source": [
    "std_scaler = StandardScaler()\n",
    "\n",
    "bal_multi_X_train_scl = std_scaler.fit_transform(bal_multi_X_train)\n",
    "bal_multi_X_test_scl = std_scaler.transform(bal_multi_X_test)"
   ]
  },
  {
   "cell_type": "markdown",
   "metadata": {},
   "source": [
    "### Dummy Classifier"
   ]
  },
  {
   "cell_type": "code",
   "execution_count": 26,
   "metadata": {},
   "outputs": [
    {
     "name": "stderr",
     "output_type": "stream",
     "text": [
      "/Users/eric/opt/anaconda3/lib/python3.7/site-packages/sklearn/dummy.py:132: FutureWarning: The default value of strategy will change from stratified to prior in 0.24.\n",
      "  \"stratified to prior in 0.24.\", FutureWarning)\n"
     ]
    }
   ],
   "source": [
    "bal_multi_dummy = DummyClassifier()\n",
    "bal_multi_dummy.fit(bal_multi_X_train_scl, bal_multi_y_train)\n",
    "bal_multi_dummy_preds = bal_multi_dummy.predict(bal_multi_X_test_scl)"
   ]
  },
  {
   "cell_type": "code",
   "execution_count": 27,
   "metadata": {},
   "outputs": [
    {
     "name": "stdout",
     "output_type": "stream",
     "text": [
      "Accuracy: 0.0\n",
      "      F1: 0.2687701809280785\n"
     ]
    }
   ],
   "source": [
    "bal_multi_dummy_acc = accuracy_score(bal_multi_dummy_preds, bal_binary_y_test)\n",
    "bal_multi_dummy_f1 = f1_score(bal_multi_dummy_preds, bal_multi_y_test, average='weighted')\n",
    "\n",
    "print('Accuracy:', bal_multi_dummy_acc)\n",
    "print('      F1:', bal_multi_dummy_f1)"
   ]
  },
  {
   "cell_type": "markdown",
   "metadata": {},
   "source": [
    "### Gaussian Naive Bayes"
   ]
  },
  {
   "cell_type": "code",
   "execution_count": 28,
   "metadata": {},
   "outputs": [],
   "source": [
    "bal_multi_gnb = GaussianNB()\n",
    "bal_multi_gnb.fit(bal_multi_X_train_scl, bal_multi_y_train)\n",
    "bal_multi_gnb_preds = bal_multi_gnb.predict(bal_multi_X_test_scl)"
   ]
  },
  {
   "cell_type": "code",
   "execution_count": 29,
   "metadata": {},
   "outputs": [
    {
     "name": "stdout",
     "output_type": "stream",
     "text": [
      "Accuracy: 0.6616363636363637\n",
      "      F1: 0.6475816235772198\n"
     ]
    }
   ],
   "source": [
    "bal_multi_gnb_acc = accuracy_score(bal_multi_gnb_preds, bal_multi_y_test)\n",
    "bal_multi_gnb_f1 = f1_score(bal_multi_gnb_preds, bal_multi_y_test, average='weighted')\n",
    "\n",
    "print('Accuracy:', bal_multi_gnb_acc)\n",
    "print('      F1:', bal_multi_gnb_f1)"
   ]
  },
  {
   "cell_type": "markdown",
   "metadata": {},
   "source": [
    "### Decision Tree"
   ]
  },
  {
   "cell_type": "code",
   "execution_count": 30,
   "metadata": {},
   "outputs": [],
   "source": [
    "bal_multi_dt = DecisionTreeClassifier(random_state=0)\n",
    "bal_multi_dt.fit(bal_multi_X_train_scl, bal_multi_y_train)\n",
    "bal_multi_dt_preds = bal_multi_dt.predict(bal_multi_X_test_scl)"
   ]
  },
  {
   "cell_type": "code",
   "execution_count": 31,
   "metadata": {},
   "outputs": [
    {
     "name": "stdout",
     "output_type": "stream",
     "text": [
      "Accuracy: 0.924\n",
      "      F1: 0.9326734573116471\n"
     ]
    }
   ],
   "source": [
    "bal_multi_dt_acc = accuracy_score(bal_multi_dt_preds, bal_multi_y_test)\n",
    "bal_multi_dt_f1 = f1_score(bal_multi_dt_preds, bal_multi_y_test, average='weighted')\n",
    "\n",
    "print('Accuracy:', bal_multi_dt_acc)\n",
    "print('      F1:', bal_multi_dt_f1)"
   ]
  },
  {
   "cell_type": "markdown",
   "metadata": {},
   "source": [
    "### K Nearest Neighbors"
   ]
  },
  {
   "cell_type": "code",
   "execution_count": 32,
   "metadata": {},
   "outputs": [],
   "source": [
    "bal_multi_knn = KNeighborsClassifier()\n",
    "bal_multi_knn.fit(bal_multi_X_train_scl, bal_multi_y_train)\n",
    "bal_multi_knn_preds = bal_multi_knn.predict(bal_multi_X_test_scl)"
   ]
  },
  {
   "cell_type": "code",
   "execution_count": 33,
   "metadata": {},
   "outputs": [
    {
     "name": "stdout",
     "output_type": "stream",
     "text": [
      "Accuracy: 0.9196363636363636\n",
      "      F1: 0.9262123423027895\n"
     ]
    }
   ],
   "source": [
    "bal_multi_knn_acc = accuracy_score(bal_multi_knn_preds, bal_multi_y_test)\n",
    "bal_multi_knn_f1 = f1_score(bal_multi_knn_preds, bal_multi_y_test, average='weighted')\n",
    "\n",
    "print('Accuracy:', bal_multi_knn_acc)\n",
    "print('      F1:', bal_multi_knn_f1)"
   ]
  },
  {
   "cell_type": "markdown",
   "metadata": {},
   "source": [
    "### Random Forest"
   ]
  },
  {
   "cell_type": "code",
   "execution_count": 34,
   "metadata": {},
   "outputs": [],
   "source": [
    "bal_multi_rf = RandomForestClassifier(random_state=0, n_jobs=-1)\n",
    "bal_multi_rf.fit(bal_multi_X_train_scl, bal_multi_y_train)\n",
    "bal_multi_rf_preds = bal_multi_rf.predict(bal_multi_X_test_scl)"
   ]
  },
  {
   "cell_type": "code",
   "execution_count": 35,
   "metadata": {},
   "outputs": [
    {
     "name": "stdout",
     "output_type": "stream",
     "text": [
      "Accuracy: 0.928\n",
      "      F1: 0.9368365960547292\n"
     ]
    }
   ],
   "source": [
    "bal_multi_rf_acc = accuracy_score(bal_multi_rf_preds, bal_multi_y_test)\n",
    "bal_multi_rf_f1 = f1_score(bal_multi_rf_preds, bal_multi_y_test, average='weighted')\n",
    "\n",
    "print('Accuracy:', bal_multi_rf_acc)\n",
    "print('      F1:', bal_multi_rf_f1)"
   ]
  },
  {
   "cell_type": "markdown",
   "metadata": {},
   "source": [
    "### XGBoost"
   ]
  },
  {
   "cell_type": "code",
   "execution_count": 36,
   "metadata": {},
   "outputs": [],
   "source": [
    "bal_multi_xgb = XGBClassifier(random_state=0, n_jobs=-1)\n",
    "bal_multi_xgb.fit(bal_multi_X_train_scl, bal_multi_y_train)\n",
    "bal_multi_xgb_preds = bal_multi_xgb.predict(bal_multi_X_test_scl)"
   ]
  },
  {
   "cell_type": "code",
   "execution_count": 37,
   "metadata": {},
   "outputs": [
    {
     "name": "stdout",
     "output_type": "stream",
     "text": [
      "Accuracy: 0.9294545454545454\n",
      "      F1: 0.9381131323927182\n"
     ]
    }
   ],
   "source": [
    "bal_multi_xgb_acc = accuracy_score(bal_multi_xgb_preds, bal_multi_y_test)\n",
    "bal_multi_xgb_f1 = f1_score(bal_multi_xgb_preds, bal_multi_y_test, average='weighted')\n",
    "\n",
    "print('Accuracy:', bal_multi_xgb_acc)\n",
    "print('      F1:', bal_multi_xgb_f1)"
   ]
  },
  {
   "cell_type": "markdown",
   "metadata": {},
   "source": [
    "### Feature Importances"
   ]
  },
  {
   "cell_type": "markdown",
   "metadata": {},
   "source": [
    "Decision Tree"
   ]
  },
  {
   "cell_type": "code",
   "execution_count": 38,
   "metadata": {},
   "outputs": [
    {
     "data": {
      "text/plain": [
       "[('Fwd_Init_Win_Bytes', 0.3760219415463435),\n",
       " ('Pkt_Size_Mean', 0.2068695948593409),\n",
       " ('Pkt_Length_Max', 0.07462927073131587),\n",
       " ('Fwd_Pkt_Length_Min', 0.06567930518050154),\n",
       " ('Fwd_IAT_Max', 0.05131909490594675),\n",
       " ('CWE_Flag_Count', 0.04801601448392197),\n",
       " ('Flow_Bytes_Sec', 0.02923465408370106),\n",
       " ('Bwd_IAT_Min', 0.026934902799784933),\n",
       " ('Fwd_IAT_Total', 0.02527804240840626),\n",
       " ('Flow_Duration', 0.012433011294675196)]"
      ]
     },
     "execution_count": 38,
     "metadata": {},
     "output_type": "execute_result"
    }
   ],
   "source": [
    "bal_multi_dt_features = dict(zip(bal_multi_X.columns, bal_multi_dt.feature_importances_))\n",
    "bal_multi_dt_features = sorted(bal_multi_dt_features.items(), key=lambda x: x[1], reverse=True)\n",
    "bal_multi_dt_features[:10]"
   ]
  },
  {
   "cell_type": "markdown",
   "metadata": {},
   "source": [
    "Random Forest"
   ]
  },
  {
   "cell_type": "code",
   "execution_count": 39,
   "metadata": {},
   "outputs": [
    {
     "data": {
      "text/plain": [
       "[('Fwd_Init_Win_Bytes', 0.09528108518799236),\n",
       " ('Pkt_Length_Min', 0.05587349828782531),\n",
       " ('Pkt_Size_Mean', 0.04205806720737576),\n",
       " ('Fwd_Pkt_Length_Min', 0.042047606803231656),\n",
       " ('TCP', 0.04123283077516715),\n",
       " ('Pkt_Length_Mean', 0.037273473862429074),\n",
       " ('Fwd_Pkt_Length_Mean', 0.03577847026175828),\n",
       " ('Fwd_Subflow_Bytes', 0.034537030127593266),\n",
       " ('Fwd_Pkt_Length_Max', 0.034192827957829186),\n",
       " ('Fwd_Segment_Size_Mean', 0.032660903738813744)]"
      ]
     },
     "execution_count": 39,
     "metadata": {},
     "output_type": "execute_result"
    }
   ],
   "source": [
    "bal_multi_rf_features = dict(zip(bal_multi_X.columns, bal_multi_rf.feature_importances_))\n",
    "bal_multi_rf_features = sorted(bal_multi_rf_features.items(), key=lambda x: x[1], reverse=True)\n",
    "bal_multi_rf_features[:10]"
   ]
  },
  {
   "cell_type": "markdown",
   "metadata": {},
   "source": [
    "XGBoost"
   ]
  },
  {
   "cell_type": "code",
   "execution_count": 40,
   "metadata": {},
   "outputs": [
    {
     "data": {
      "text/plain": [
       "[('Time_Idle_Std', 0.5322768),\n",
       " ('CWE_Flag_Count', 0.09333151),\n",
       " ('Fwd_Pkt_Length_Std', 0.060551565),\n",
       " ('Fwd_Init_Win_Bytes', 0.039122608),\n",
       " ('Pkt_Length_Min', 0.034679733),\n",
       " ('URG_Flag_Count', 0.032568526),\n",
       " ('Down_Up_Ratio', 0.02600687),\n",
       " ('Bwd_Pkt_Length_Min', 0.025988687),\n",
       " ('Fwd_Seg_Size_Min', 0.019281603),\n",
       " ('Bwd_IAT_Min', 0.017087637)]"
      ]
     },
     "execution_count": 40,
     "metadata": {},
     "output_type": "execute_result"
    }
   ],
   "source": [
    "bal_multi_xgb_features = dict(zip(bal_multi_X.columns, bal_multi_xgb.feature_importances_))\n",
    "bal_multi_xgb_features = sorted(bal_multi_xgb_features.items(), key=lambda x: x[1], reverse=True)\n",
    "bal_multi_xgb_features[:10]"
   ]
  },
  {
   "cell_type": "markdown",
   "metadata": {},
   "source": [
    "## Confusion Matrix"
   ]
  },
  {
   "cell_type": "code",
   "execution_count": 50,
   "metadata": {},
   "outputs": [
    {
     "name": "stdout",
     "output_type": "stream",
     "text": [
      "Normalized confusion matrix\n",
      "[[1.         0.         0.         0.         0.         0.\n",
      "  0.         0.         0.         0.         0.         0.        ]\n",
      " [0.00434783 0.87391304 0.         0.         0.04347826 0.0173913\n",
      "  0.01304348 0.         0.04782609 0.         0.         0.        ]\n",
      " [0.         0.         0.65758755 0.05836576 0.         0.\n",
      "  0.         0.         0.28404669 0.         0.         0.        ]\n",
      " [0.         0.         0.62288136 0.09322034 0.         0.00423729\n",
      "  0.00423729 0.         0.27542373 0.         0.         0.        ]\n",
      " [0.00806452 0.02016129 0.         0.         0.95564516 0.\n",
      "  0.01612903 0.         0.         0.         0.         0.        ]\n",
      " [0.         0.00383142 0.00383142 0.         0.         0.95402299\n",
      "  0.01149425 0.         0.01915709 0.         0.         0.00766284]\n",
      " [0.         0.         0.         0.         0.02531646 0.\n",
      "  0.97468354 0.         0.         0.         0.         0.        ]\n",
      " [0.         0.         0.         0.         0.         0.\n",
      "  0.         1.         0.         0.         0.         0.        ]\n",
      " [0.         0.02016129 0.04032258 0.03629032 0.         0.01209677\n",
      "  0.         0.         0.89112903 0.         0.         0.        ]\n",
      " [0.         0.         0.         0.         0.         0.\n",
      "  0.         0.         0.         1.         0.         0.        ]\n",
      " [0.         0.         0.         0.         0.         0.\n",
      "  0.         0.         0.         0.         1.         0.        ]\n",
      " [0.         0.00390625 0.         0.         0.         0.\n",
      "  0.         0.         0.         0.         0.         0.99609375]]\n"
     ]
    },
    {
     "data": {
      "image/png": "[encoded data removed]",
      "text/plain": [
       "<Figure size 1440x1440 with 2 Axes>"
      ]
     },
     "metadata": {
      "needs_background": "dark"
     },
     "output_type": "display_data"
    }
   ],
   "source": [
    "cm_dt_mm_scl = confusion_matrix(bal_multi_y_test, bal_multi_xgb_preds)\n",
    "classes = balanced_df['Label'].unique()\n",
    "plot_confusion_matrix(cm_dt_mm_scl, classes, normalize=True,\n",
    "                      title='XGBoost Confusion Matrix', cmap=plt.cm.Blues)\n",
    "\n",
    "# plt.savefig('Images/xgb_conf_matrix.png', dpi = 100)"
   ]
  },
  {
   "cell_type": "markdown",
   "metadata": {},
   "source": [
    "# Anomaly Dataset"
   ]
  },
  {
   "cell_type": "code",
   "execution_count": null,
   "metadata": {},
   "outputs": [],
   "source": []
  },
  {
   "cell_type": "code",
   "execution_count": null,
   "metadata": {},
   "outputs": [],
   "source": []
  },
  {
   "cell_type": "markdown",
   "metadata": {},
   "source": [
    "# Export Model Results"
   ]
  },
  {
   "cell_type": "markdown",
   "metadata": {},
   "source": [
    "Scores"
   ]
  },
  {
   "cell_type": "code",
   "execution_count": 95,
   "metadata": {},
   "outputs": [
    {
     "data": {
      "text/html": [
       "<div>\n",
       "<style scoped>\n",
       "    .dataframe tbody tr th:only-of-type {\n",
       "        vertical-align: middle;\n",
       "    }\n",
       "\n",
       "    .dataframe tbody tr th {\n",
       "        vertical-align: top;\n",
       "    }\n",
       "\n",
       "    .dataframe thead th {\n",
       "        text-align: right;\n",
       "    }\n",
       "</style>\n",
       "<table border=\"1\" class=\"dataframe\">\n",
       "  <thead>\n",
       "    <tr style=\"text-align: right;\">\n",
       "      <th></th>\n",
       "      <th>Score</th>\n",
       "      <th>Bal_Binary_Dummy</th>\n",
       "      <th>Bal_Binary_GNB</th>\n",
       "      <th>Bal_Binary_DT</th>\n",
       "      <th>Bal_Binary_KNN</th>\n",
       "      <th>Bal_Binary_RF</th>\n",
       "      <th>Bal_Binary_XGB</th>\n",
       "      <th>Bal_Multicalss_Dummy</th>\n",
       "      <th>Bal_Multiclass_GNB</th>\n",
       "      <th>Bal_Multiclass_DT</th>\n",
       "      <th>Bal_Multiclass_KNN</th>\n",
       "      <th>Bal_Multiclass_RF</th>\n",
       "      <th>Bal_Multiclass_XGB</th>\n",
       "    </tr>\n",
       "  </thead>\n",
       "  <tbody>\n",
       "    <tr>\n",
       "      <th>0</th>\n",
       "      <td>Accuracy</td>\n",
       "      <td>0.512182</td>\n",
       "      <td>0.822364</td>\n",
       "      <td>0.999091</td>\n",
       "      <td>0.997273</td>\n",
       "      <td>0.998727</td>\n",
       "      <td>1.0</td>\n",
       "      <td>0.000000</td>\n",
       "      <td>0.661636</td>\n",
       "      <td>0.924000</td>\n",
       "      <td>0.919636</td>\n",
       "      <td>0.928000</td>\n",
       "      <td>0.929455</td>\n",
       "    </tr>\n",
       "    <tr>\n",
       "      <th>1</th>\n",
       "      <td>F1_Score</td>\n",
       "      <td>0.512979</td>\n",
       "      <td>0.843855</td>\n",
       "      <td>0.999083</td>\n",
       "      <td>0.997254</td>\n",
       "      <td>0.998715</td>\n",
       "      <td>1.0</td>\n",
       "      <td>0.273325</td>\n",
       "      <td>0.843855</td>\n",
       "      <td>0.932673</td>\n",
       "      <td>0.926212</td>\n",
       "      <td>0.936837</td>\n",
       "      <td>0.938113</td>\n",
       "    </tr>\n",
       "  </tbody>\n",
       "</table>\n",
       "</div>"
      ],
      "text/plain": [
       "      Score  Bal_Binary_Dummy  Bal_Binary_GNB  Bal_Binary_DT  Bal_Binary_KNN  \\\n",
       "0  Accuracy          0.512182        0.822364       0.999091        0.997273   \n",
       "1  F1_Score          0.512979        0.843855       0.999083        0.997254   \n",
       "\n",
       "   Bal_Binary_RF  Bal_Binary_XGB  Bal_Multicalss_Dummy  Bal_Multiclass_GNB  \\\n",
       "0       0.998727             1.0              0.000000            0.661636   \n",
       "1       0.998715             1.0              0.273325            0.843855   \n",
       "\n",
       "   Bal_Multiclass_DT  Bal_Multiclass_KNN  Bal_Multiclass_RF  \\\n",
       "0           0.924000            0.919636           0.928000   \n",
       "1           0.932673            0.926212           0.936837   \n",
       "\n",
       "   Bal_Multiclass_XGB  \n",
       "0            0.929455  \n",
       "1            0.938113  "
      ]
     },
     "execution_count": 95,
     "metadata": {},
     "output_type": "execute_result"
    }
   ],
   "source": [
    "model_scores = pd.DataFrame({\n",
    "    'Score':['Accuracy', 'F1_Score'],\n",
    "    'Bal_Binary_Dummy':[bal_binary_dummy_acc, bal_binary_dummy_f1],\n",
    "    'Bal_Binary_GNB':[bal_binary_gnb_acc, bal_binary_gnb_f1],\n",
    "    'Bal_Binary_DT':[bal_binary_dt_acc, bal_binary_dt_f1],\n",
    "    'Bal_Binary_KNN':[bal_binary_knn_acc, bal_binary_knn_f1],\n",
    "    'Bal_Binary_RF':[bal_binary_rf_acc, bal_binary_rf_f1],\n",
    "    'Bal_Binary_XGB':[bal_binary_xgb_acc, bal_binary_xgb_f1],\n",
    "    'Bal_Multicalss_Dummy':[bal_multi_dummy_acc, bal_multi_dummy_f1],\n",
    "    'Bal_Multiclass_GNB':[bal_multi_gnb_acc, bal_binary_gnb_f1],\n",
    "    'Bal_Multiclass_DT':[bal_multi_dt_acc, bal_multi_dt_f1],\n",
    "    'Bal_Multiclass_KNN':[bal_multi_knn_acc, bal_multi_knn_f1],\n",
    "    'Bal_Multiclass_RF':[bal_multi_rf_acc, bal_multi_rf_f1],\n",
    "    'Bal_Multiclass_XGB':[bal_multi_xgb_acc, bal_multi_xgb_f1]\n",
    "})\n",
    "\n",
    "model_scores"
   ]
  },
  {
   "cell_type": "code",
   "execution_count": 96,
   "metadata": {},
   "outputs": [],
   "source": [
    "# model_scores.to_csv('Model_Results/Model_Scores.csv')"
   ]
  },
  {
   "cell_type": "markdown",
   "metadata": {},
   "source": [
    "Feature importances"
   ]
  },
  {
   "cell_type": "code",
   "execution_count": 87,
   "metadata": {},
   "outputs": [],
   "source": [
    "features = []\n",
    "for i in range(1, len(bal_binary_dt_features)+1):\n",
    "    features.append(f'Feature_{i}')"
   ]
  },
  {
   "cell_type": "code",
   "execution_count": 90,
   "metadata": {},
   "outputs": [
    {
     "data": {
      "text/html": [
       "<div>\n",
       "<style scoped>\n",
       "    .dataframe tbody tr th:only-of-type {\n",
       "        vertical-align: middle;\n",
       "    }\n",
       "\n",
       "    .dataframe tbody tr th {\n",
       "        vertical-align: top;\n",
       "    }\n",
       "\n",
       "    .dataframe thead th {\n",
       "        text-align: right;\n",
       "    }\n",
       "</style>\n",
       "<table border=\"1\" class=\"dataframe\">\n",
       "  <thead>\n",
       "    <tr style=\"text-align: right;\">\n",
       "      <th></th>\n",
       "      <th>Feature</th>\n",
       "      <th>Bal_Binary_DT</th>\n",
       "      <th>Bal_Binary_RF</th>\n",
       "      <th>Bal_Binary_XGB</th>\n",
       "      <th>Bal_Multiclass_DT</th>\n",
       "      <th>Bal_Multiclass_RF</th>\n",
       "      <th>Bal_Multiclass_XGB</th>\n",
       "    </tr>\n",
       "  </thead>\n",
       "  <tbody>\n",
       "    <tr>\n",
       "      <th>0</th>\n",
       "      <td>Feature_1</td>\n",
       "      <td>(Fwd_Init_Win_Bytes, 0.6428306338135531)</td>\n",
       "      <td>(Fwd_Init_Win_Bytes, 0.13006379633919796)</td>\n",
       "      <td>(Pkt_Size_Mean, 0.36486617)</td>\n",
       "      <td>(Fwd_Init_Win_Bytes, 0.3760219415463435)</td>\n",
       "      <td>(Fwd_Init_Win_Bytes, 0.09528108518799236)</td>\n",
       "      <td>(Time_Idle_Std, 0.5322768)</td>\n",
       "    </tr>\n",
       "    <tr>\n",
       "      <th>1</th>\n",
       "      <td>Feature_2</td>\n",
       "      <td>(Pkt_Size_Mean, 0.1930210912747058)</td>\n",
       "      <td>(TCP, 0.07753190823840336)</td>\n",
       "      <td>(CWE_Flag_Count, 0.14011626)</td>\n",
       "      <td>(Pkt_Size_Mean, 0.2068695948593409)</td>\n",
       "      <td>(Pkt_Length_Min, 0.05587349828782531)</td>\n",
       "      <td>(CWE_Flag_Count, 0.09333151)</td>\n",
       "    </tr>\n",
       "    <tr>\n",
       "      <th>2</th>\n",
       "      <td>Feature_3</td>\n",
       "      <td>(ACK_Flag_Count, 0.06833403894335129)</td>\n",
       "      <td>(Pkt_Length_Min, 0.06621859113300392)</td>\n",
       "      <td>(Fwd_Init_Win_Bytes, 0.13416831)</td>\n",
       "      <td>(Pkt_Length_Max, 0.07462927073131587)</td>\n",
       "      <td>(Pkt_Size_Mean, 0.04205806720737576)</td>\n",
       "      <td>(Fwd_Pkt_Length_Std, 0.060551565)</td>\n",
       "    </tr>\n",
       "    <tr>\n",
       "      <th>3</th>\n",
       "      <td>Feature_4</td>\n",
       "      <td>(URG_Flag_Count, 0.018841893148837326)</td>\n",
       "      <td>(UDP, 0.05545832025128266)</td>\n",
       "      <td>(Fwd_Seg_Size_Min, 0.116157554)</td>\n",
       "      <td>(Fwd_Pkt_Length_Min, 0.06567930518050154)</td>\n",
       "      <td>(Fwd_Pkt_Length_Min, 0.042047606803231656)</td>\n",
       "      <td>(Fwd_Init_Win_Bytes, 0.039122608)</td>\n",
       "    </tr>\n",
       "    <tr>\n",
       "      <th>4</th>\n",
       "      <td>Feature_5</td>\n",
       "      <td>(Fwd_IAT_Std, 0.0170630742980684)</td>\n",
       "      <td>(PSH_Flag_Count, 0.04537413078590603)</td>\n",
       "      <td>(Fwd_PSH_Flags, 0.06968633)</td>\n",
       "      <td>(Fwd_IAT_Max, 0.05131909490594675)</td>\n",
       "      <td>(TCP, 0.04123283077516715)</td>\n",
       "      <td>(Pkt_Length_Min, 0.034679733)</td>\n",
       "    </tr>\n",
       "  </tbody>\n",
       "</table>\n",
       "</div>"
      ],
      "text/plain": [
       "     Feature                             Bal_Binary_DT  \\\n",
       "0  Feature_1  (Fwd_Init_Win_Bytes, 0.6428306338135531)   \n",
       "1  Feature_2       (Pkt_Size_Mean, 0.1930210912747058)   \n",
       "2  Feature_3     (ACK_Flag_Count, 0.06833403894335129)   \n",
       "3  Feature_4    (URG_Flag_Count, 0.018841893148837326)   \n",
       "4  Feature_5         (Fwd_IAT_Std, 0.0170630742980684)   \n",
       "\n",
       "                               Bal_Binary_RF  \\\n",
       "0  (Fwd_Init_Win_Bytes, 0.13006379633919796)   \n",
       "1                 (TCP, 0.07753190823840336)   \n",
       "2      (Pkt_Length_Min, 0.06621859113300392)   \n",
       "3                 (UDP, 0.05545832025128266)   \n",
       "4      (PSH_Flag_Count, 0.04537413078590603)   \n",
       "\n",
       "                     Bal_Binary_XGB  \\\n",
       "0       (Pkt_Size_Mean, 0.36486617)   \n",
       "1      (CWE_Flag_Count, 0.14011626)   \n",
       "2  (Fwd_Init_Win_Bytes, 0.13416831)   \n",
       "3   (Fwd_Seg_Size_Min, 0.116157554)   \n",
       "4       (Fwd_PSH_Flags, 0.06968633)   \n",
       "\n",
       "                           Bal_Multiclass_DT  \\\n",
       "0   (Fwd_Init_Win_Bytes, 0.3760219415463435)   \n",
       "1        (Pkt_Size_Mean, 0.2068695948593409)   \n",
       "2      (Pkt_Length_Max, 0.07462927073131587)   \n",
       "3  (Fwd_Pkt_Length_Min, 0.06567930518050154)   \n",
       "4         (Fwd_IAT_Max, 0.05131909490594675)   \n",
       "\n",
       "                            Bal_Multiclass_RF  \\\n",
       "0   (Fwd_Init_Win_Bytes, 0.09528108518799236)   \n",
       "1       (Pkt_Length_Min, 0.05587349828782531)   \n",
       "2        (Pkt_Size_Mean, 0.04205806720737576)   \n",
       "3  (Fwd_Pkt_Length_Min, 0.042047606803231656)   \n",
       "4                  (TCP, 0.04123283077516715)   \n",
       "\n",
       "                  Bal_Multiclass_XGB  \n",
       "0         (Time_Idle_Std, 0.5322768)  \n",
       "1       (CWE_Flag_Count, 0.09333151)  \n",
       "2  (Fwd_Pkt_Length_Std, 0.060551565)  \n",
       "3  (Fwd_Init_Win_Bytes, 0.039122608)  \n",
       "4      (Pkt_Length_Min, 0.034679733)  "
      ]
     },
     "execution_count": 90,
     "metadata": {},
     "output_type": "execute_result"
    }
   ],
   "source": [
    "feature_importances = pd.DataFrame({\n",
    "    'Feature':features,\n",
    "    'Bal_Binary_DT':bal_binary_dt_features,\n",
    "    'Bal_Binary_RF':bal_binary_rf_features,\n",
    "    'Bal_Binary_XGB':bal_binary_xgb_features,\n",
    "    'Bal_Multiclass_DT':bal_multi_dt_features,\n",
    "    'Bal_Multiclass_RF':bal_multi_rf_features,\n",
    "    'Bal_Multiclass_XGB':bal_multi_xgb_features\n",
    "})\n",
    "\n",
    "feature_importances.head()"
   ]
  },
  {
   "cell_type": "code",
   "execution_count": 91,
   "metadata": {},
   "outputs": [],
   "source": [
    "# feature_importances.to_csv('Model_Results/Feature_Importances.csv')"
   ]
  },
  {
   "cell_type": "code",
   "execution_count": null,
   "metadata": {},
   "outputs": [],
   "source": []
  }
 ],
 "metadata": {
  "kernelspec": {
   "display_name": "Python 3",
   "language": "python",
   "name": "python3"
  },
  "language_info": {
   "codemirror_mode": {
    "name": "ipython",
    "version": 3
   },
   "file_extension": ".py",
   "mimetype": "text/x-python",
   "name": "python",
   "nbconvert_exporter": "python",
   "pygments_lexer": "ipython3",
   "version": "3.7.7"
  }
 },
 "nbformat": 4,
 "nbformat_minor": 4
}
