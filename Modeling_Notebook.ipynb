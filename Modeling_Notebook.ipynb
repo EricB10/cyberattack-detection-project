{
 "cells": [
  {
   "cell_type": "markdown",
   "metadata": {},
   "source": [
    "# Imports"
   ]
  },
  {
   "cell_type": "code",
   "execution_count": 1,
   "metadata": {},
   "outputs": [],
   "source": [
    "import numpy as np\n",
    "import pandas as pd\n",
    "import sqlalchemy\n",
    "\n",
    "import itertools\n",
    "import os\n",
    "from datetime import datetime\n",
    "\n",
    "\n",
    "from sklearn.model_selection import train_test_split\n",
    "from sklearn.preprocessing import StandardScaler\n",
    "\n",
    "from sklearn.dummy import DummyClassifier\n",
    "from sklearn.naive_bayes import GaussianNB\n",
    "from sklearn.naive_bayes import MultinomialNB\n",
    "from sklearn.naive_bayes import ComplementNB\n",
    "from sklearn.tree import DecisionTreeClassifier\n",
    "from sklearn.neighbors import KNeighborsClassifier\n",
    "from sklearn.ensemble import RandomForestClassifier\n",
    "\n",
    "from xgboost import XGBClassifier\n",
    "\n",
    "from sklearn.metrics import accuracy_score\n",
    "from sklearn.metrics import precision_score\n",
    "from sklearn.metrics import recall_score\n",
    "from sklearn.metrics import f1_score\n",
    "from sklearn.metrics import confusion_matrix\n",
    "\n",
    "\n",
    "import matplotlib\n",
    "import matplotlib.pyplot as plt\n",
    "%matplotlib inline\n",
    "\n",
    "import seaborn as sns "
   ]
  },
  {
   "cell_type": "code",
   "execution_count": 2,
   "metadata": {},
   "outputs": [],
   "source": [
    "from functions import load_malicious_df, load_benign_df"
   ]
  },
  {
   "cell_type": "markdown",
   "metadata": {},
   "source": [
    "# Load & Combine Datasets"
   ]
  },
  {
   "cell_type": "markdown",
   "metadata": {},
   "source": [
    "Load malicious datasets from each protocol"
   ]
  },
  {
   "cell_type": "code",
   "execution_count": 34,
   "metadata": {},
   "outputs": [
    {
     "data": {
      "text/plain": [
       "(1279, 83)"
      ]
     },
     "execution_count": 34,
     "metadata": {},
     "output_type": "execute_result"
    }
   ],
   "source": [
    "malicious_HOPOPT = load_malicious_df(directory='HOPOPT', sample_size=1000)\n",
    "malicious_HOPOPT.shape"
   ]
  },
  {
   "cell_type": "code",
   "execution_count": 35,
   "metadata": {},
   "outputs": [
    {
     "data": {
      "text/plain": [
       "(9241, 83)"
      ]
     },
     "execution_count": 35,
     "metadata": {},
     "output_type": "execute_result"
    }
   ],
   "source": [
    "malicious_TCP = load_malicious_df(directory='TCP', sample_size=1000)\n",
    "malicious_TCP.shape"
   ]
  },
  {
   "cell_type": "code",
   "execution_count": 30,
   "metadata": {},
   "outputs": [
    {
     "data": {
      "text/plain": [
       "(11000, 83)"
      ]
     },
     "execution_count": 30,
     "metadata": {},
     "output_type": "execute_result"
    }
   ],
   "source": [
    "malicious_UDP = load_malicious_df(directory='UDP', sample_size=1000)\n",
    "malicious_UDP.shape"
   ]
  },
  {
   "cell_type": "markdown",
   "metadata": {},
   "source": [
    "Load benign datasets from each protocol for balanced dataset"
   ]
  },
  {
   "cell_type": "code",
   "execution_count": 31,
   "metadata": {},
   "outputs": [
    {
     "data": {
      "text/plain": [
       "(1279, 83)"
      ]
     },
     "execution_count": 31,
     "metadata": {},
     "output_type": "execute_result"
    }
   ],
   "source": [
    "bal_benign_HOPOPT = load_benign_df(directory='HOPOPT', sample_size=len(malicious_HOPOPT))\n",
    "bal_benign_HOPOPT.shape"
   ]
  },
  {
   "cell_type": "code",
   "execution_count": 32,
   "metadata": {},
   "outputs": [
    {
     "data": {
      "text/plain": [
       "(9241, 83)"
      ]
     },
     "execution_count": 32,
     "metadata": {},
     "output_type": "execute_result"
    }
   ],
   "source": [
    "bal_benign_TCP = load_benign_df(directory='TCP', sample_size=len(malicious_TCP))\n",
    "bal_benign_TCP.shape"
   ]
  },
  {
   "cell_type": "code",
   "execution_count": 33,
   "metadata": {},
   "outputs": [
    {
     "data": {
      "text/plain": [
       "(11000, 83)"
      ]
     },
     "execution_count": 33,
     "metadata": {},
     "output_type": "execute_result"
    }
   ],
   "source": [
    "bal_benign_UDP = load_benign_df(directory='UDP', sample_size=len(malicious_UDP))\n",
    "bal_benign_UDP.shape"
   ]
  },
  {
   "cell_type": "markdown",
   "metadata": {},
   "source": [
    "Load benign datasets from each protocol for anomaly detection dataset"
   ]
  },
  {
   "cell_type": "code",
   "execution_count": 75,
   "metadata": {},
   "outputs": [
    {
     "data": {
      "text/plain": [
       "(4310, 83)"
      ]
     },
     "execution_count": 75,
     "metadata": {},
     "output_type": "execute_result"
    }
   ],
   "source": [
    "anom_benign_HOPOPT = load_benign_df(directory='HOPOPT', sample_size=200*len(malicious_HOPOPT))\n",
    "anom_benign_HOPOPT.shape"
   ]
  },
  {
   "cell_type": "code",
   "execution_count": 76,
   "metadata": {},
   "outputs": [
    {
     "data": {
      "text/plain": [
       "(1848200, 83)"
      ]
     },
     "execution_count": 76,
     "metadata": {},
     "output_type": "execute_result"
    }
   ],
   "source": [
    "anom_benign_TCP = load_benign_df(directory='TCP', sample_size=200*len(malicious_TCP))\n",
    "anom_benign_TCP.shape"
   ]
  },
  {
   "cell_type": "code",
   "execution_count": 77,
   "metadata": {},
   "outputs": [
    {
     "data": {
      "text/plain": [
       "(40295, 83)"
      ]
     },
     "execution_count": 77,
     "metadata": {},
     "output_type": "execute_result"
    }
   ],
   "source": [
    "anom_benign_UDP = load_benign_df(directory='UDP', sample_size=200*len(malicious_UDP))\n",
    "anom_benign_UDP.shape"
   ]
  },
  {
   "cell_type": "markdown",
   "metadata": {},
   "source": [
    "Combine into balanced and anomaly detection dataframes"
   ]
  },
  {
   "cell_type": "code",
   "execution_count": 78,
   "metadata": {},
   "outputs": [
    {
     "data": {
      "text/plain": [
       "(43040, 83)"
      ]
     },
     "execution_count": 78,
     "metadata": {},
     "output_type": "execute_result"
    }
   ],
   "source": [
    "balanced_df = pd.concat([malicious_HOPOPT, malicious_TCP, malicious_UDP, bal_benign_HOPOPT, bal_benign_TCP, bal_benign_UDP])\n",
    "balanced_df.reset_index(drop=True, inplace=True)\n",
    "balanced_df.shape"
   ]
  },
  {
   "cell_type": "code",
   "execution_count": 79,
   "metadata": {},
   "outputs": [
    {
     "data": {
      "text/plain": [
       "(1914325, 83)"
      ]
     },
     "execution_count": 79,
     "metadata": {},
     "output_type": "execute_result"
    }
   ],
   "source": [
    "anomaly_df = pd.concat([malicious_HOPOPT, malicious_TCP, malicious_UDP, anom_benign_HOPOPT, anom_benign_TCP, anom_benign_UDP])\n",
    "anomaly_df.reset_index(drop=True, inplace=True)\n",
    "anomaly_df.shape"
   ]
  },
  {
   "cell_type": "markdown",
   "metadata": {},
   "source": [
    "Change all benign lables to simply 'benign'"
   ]
  },
  {
   "cell_type": "code",
   "execution_count": 80,
   "metadata": {},
   "outputs": [],
   "source": [
    "bal_benign_filt = balanced_df['Malicious'] == 0\n",
    "balanced_df['Label'] = np.where(benign_filt, 'Benign', balanced_df['Label'])\n",
    "\n",
    "anom_benign_filt = anomaly_df['Malicious'] == 0\n",
    "anomaly_df['Label'] = np.where(anom_benign_filt, 'Benign', anomaly_df['Label'])"
   ]
  },
  {
   "cell_type": "markdown",
   "metadata": {},
   "source": [
    "Check target distributions"
   ]
  },
  {
   "cell_type": "code",
   "execution_count": 81,
   "metadata": {},
   "outputs": [
    {
     "data": {
      "text/plain": [
       "1    21520\n",
       "0    21520\n",
       "Name: Malicious, dtype: int64"
      ]
     },
     "execution_count": 81,
     "metadata": {},
     "output_type": "execute_result"
    }
   ],
   "source": [
    "balanced_df['Malicious'].value_counts()"
   ]
  },
  {
   "cell_type": "code",
   "execution_count": 82,
   "metadata": {},
   "outputs": [
    {
     "data": {
      "text/plain": [
       "0    1892805\n",
       "1      21520\n",
       "Name: Malicious, dtype: int64"
      ]
     },
     "execution_count": 82,
     "metadata": {},
     "output_type": "execute_result"
    }
   ],
   "source": [
    "anomaly_df['Malicious'].value_counts()"
   ]
  },
  {
   "cell_type": "code",
   "execution_count": 84,
   "metadata": {},
   "outputs": [
    {
     "data": {
      "text/plain": [
       "Benign     21520\n",
       "TFTP        2291\n",
       "Syn         2210\n",
       "DNS         2195\n",
       "NTP         2156\n",
       "NetBIOS     2094\n",
       "SNMP        2091\n",
       "UDP         2064\n",
       "MSSQL       1687\n",
       "LDAP        1677\n",
       "Portmap     1555\n",
       "SSDP        1500\n",
       "Name: Label, dtype: int64"
      ]
     },
     "execution_count": 84,
     "metadata": {},
     "output_type": "execute_result"
    }
   ],
   "source": [
    "balanced_df['Label'].value_counts()"
   ]
  },
  {
   "cell_type": "code",
   "execution_count": 85,
   "metadata": {},
   "outputs": [
    {
     "data": {
      "text/plain": [
       "Benign     1892805\n",
       "TFTP          2291\n",
       "Syn           2210\n",
       "DNS           2195\n",
       "NTP           2156\n",
       "NetBIOS       2094\n",
       "SNMP          2091\n",
       "UDP           2064\n",
       "MSSQL         1687\n",
       "LDAP          1677\n",
       "Portmap       1555\n",
       "SSDP          1500\n",
       "Name: Label, dtype: int64"
      ]
     },
     "execution_count": 85,
     "metadata": {},
     "output_type": "execute_result"
    }
   ],
   "source": [
    "anomaly_df['Label'].value_counts()"
   ]
  },
  {
   "cell_type": "code",
   "execution_count": null,
   "metadata": {},
   "outputs": [],
   "source": []
  },
  {
   "cell_type": "code",
   "execution_count": null,
   "metadata": {},
   "outputs": [],
   "source": []
  },
  {
   "cell_type": "code",
   "execution_count": null,
   "metadata": {},
   "outputs": [],
   "source": []
  },
  {
   "cell_type": "code",
   "execution_count": null,
   "metadata": {},
   "outputs": [],
   "source": []
  },
  {
   "cell_type": "markdown",
   "metadata": {},
   "source": [
    "Load and combine files for from each protocol"
   ]
  },
  {
   "cell_type": "code",
   "execution_count": 13,
   "metadata": {},
   "outputs": [
    {
     "data": {
      "text/plain": [
       "(2558, 83)"
      ]
     },
     "execution_count": 13,
     "metadata": {},
     "output_type": "execute_result"
    }
   ],
   "source": [
    "bal_HOPOPT_df = load_balanced_df(directory='HOPOPT', sample_size=1000)\n",
    "bal_HOPOPT_df.shape"
   ]
  },
  {
   "cell_type": "code",
   "execution_count": 14,
   "metadata": {},
   "outputs": [
    {
     "data": {
      "text/plain": [
       "(18482, 83)"
      ]
     },
     "execution_count": 14,
     "metadata": {},
     "output_type": "execute_result"
    }
   ],
   "source": [
    "bal_TCP_df = load_balanced_df(directory='TCP', sample_size=1000)\n",
    "bal_TCP_df.shape"
   ]
  },
  {
   "cell_type": "code",
   "execution_count": 15,
   "metadata": {},
   "outputs": [
    {
     "data": {
      "text/plain": [
       "(22000, 83)"
      ]
     },
     "execution_count": 15,
     "metadata": {},
     "output_type": "execute_result"
    }
   ],
   "source": [
    "bal_UDP_df = load_balanced_df(directory='UDP', sample_size=1000)\n",
    "bal_UDP_df.shape"
   ]
  },
  {
   "cell_type": "markdown",
   "metadata": {},
   "source": [
    "Combine all protocols into balanced dataset"
   ]
  },
  {
   "cell_type": "code",
   "execution_count": 18,
   "metadata": {},
   "outputs": [
    {
     "data": {
      "text/plain": [
       "(43040, 83)"
      ]
     },
     "execution_count": 18,
     "metadata": {},
     "output_type": "execute_result"
    }
   ],
   "source": [
    "balanced_df = pd.concat([bal_HOPOPT_df, bal_TCP_df, bal_UDP_df])\n",
    "balanced_df.reset_index(drop=True, inplace=True)\n",
    "del bal_HOPOPT_df, bal_TCP_df, bal_UDP_df\n",
    "balanced_df.shape"
   ]
  },
  {
   "cell_type": "code",
   "execution_count": 19,
   "metadata": {
    "scrolled": false
   },
   "outputs": [
    {
     "data": {
      "text/plain": [
       "Index(['Flow_ID', 'Flow_Duration', 'Fwd_Total_Pkts', 'Bwd_Total_Pkts',\n",
       "       'Fwd_Total_Bytes', 'Bwd_Total_Bytes', 'Fwd_Pkt_Length_Max',\n",
       "       'Fwd_Pkt_Length_Min', 'Fwd_Pkt_Length_Mean', 'Fwd_Pkt_Length_Std',\n",
       "       'Bwd_Pkt_Length_Max', 'Bwd_Pkt_Length_Min', 'Bwd_Pkt_Length_Mean',\n",
       "       'Bwd_Pkt_Length_Std', 'Flow_Bytes_Sec', 'Flow_Pkts_Sec',\n",
       "       'Flow_IAT_Mean', 'Flow_IAT_Std', 'Flow_IAT_Max', 'Flow_IAT_Min',\n",
       "       'Fwd_IAT_Total', 'Fwd_IAT_Mean', 'Fwd_IAT_Std', 'Fwd_IAT_Max',\n",
       "       'Fwd_IAT_Min', 'Bwd_IAT_Total', 'Bwd_IAT_Mean', 'Bwd_IAT_Std',\n",
       "       'Bwd_IAT_Max', 'Bwd_IAT_Min', 'Fwd_PSH_Flags', 'Bwd_PSH_Flags',\n",
       "       'Fwd_URG_Flags', 'Bwd_URG_Flags', 'Fwd_Header_Length',\n",
       "       'Bwd_Header_Length', 'Fwd_Pkts_Sec', 'Bwd_Pkts_Sec', 'Pkt_Length_Min',\n",
       "       'Pkt_Length_Max', 'Pkt_Length_Mean', 'Pkt_Length_Std', 'Pkt_Length_Var',\n",
       "       'FIN_Flag_Count', 'SYN_Flag_Count', 'RST_Flag_Count', 'PSH_Flag_Count',\n",
       "       'ACK_Flag_Count', 'URG_Flag_Count', 'CWE_Flag_Count', 'ECE_Flag_Count',\n",
       "       'Down_Up_Ratio', 'Pkt_Size_Mean', 'Fwd_Segment_Size_Mean',\n",
       "       'Bwd_Segment_Size_Mean', 'Fwd_Header_Length_1',\n",
       "       'Fwd_Byte_Bulk_Rate_Mean', 'Fwd_Pkt_Bulk_Rate_Mean',\n",
       "       'Fwd_Num_Bulk_Rate_Mean', 'Bwd_Byte_Bulk_Rate_Mean',\n",
       "       'Bwd_Pkt_Bulk_Rate_Mean', 'Bwd_Num_Bulk_Rate_Mean', 'Fwd_Subflow_Pkts',\n",
       "       'Fwd_Subflow_Bytes', 'Bwd_Subflow_Pkts', 'Bwd_Subflow_Bytes',\n",
       "       'Fwd_Init_Win_Bytes', 'Bwd_Init_Win_Bytes', 'Fwd_Act_Data_Pkt',\n",
       "       'Fwd_Seg_Size_Min', 'Time_Active_Mean', 'Time_Active_Std',\n",
       "       'Time_Active_Max', 'Time_Active_Min', 'Time_Idle_Mean', 'Time_Idle_Std',\n",
       "       'Time_Idle_Max', 'Time_Idle_Min', 'Label', 'HOPOPT', 'TCP', 'UDP',\n",
       "       'Malicious'],\n",
       "      dtype='object')"
      ]
     },
     "execution_count": 19,
     "metadata": {},
     "output_type": "execute_result"
    }
   ],
   "source": [
    "balanced_df.columns"
   ]
  },
  {
   "cell_type": "markdown",
   "metadata": {},
   "source": [
    "Change all benign lables to simply 'benign'"
   ]
  },
  {
   "cell_type": "code",
   "execution_count": 8,
   "metadata": {},
   "outputs": [],
   "source": [
    "benign_filt = balanced_df['Malicious'] == 0\n",
    "balanced_df['Label'] = np.where(benign_filt, 'Benign', balanced_df['Label'])"
   ]
  },
  {
   "cell_type": "markdown",
   "metadata": {},
   "source": [
    "Check target distributions"
   ]
  },
  {
   "cell_type": "code",
   "execution_count": 9,
   "metadata": {},
   "outputs": [
    {
     "data": {
      "text/plain": [
       "1    21520\n",
       "0    21520\n",
       "Name: Malicious, dtype: int64"
      ]
     },
     "execution_count": 9,
     "metadata": {},
     "output_type": "execute_result"
    }
   ],
   "source": [
    "balanced_df['Malicious'].value_counts()"
   ]
  },
  {
   "cell_type": "code",
   "execution_count": 10,
   "metadata": {},
   "outputs": [
    {
     "data": {
      "text/plain": [
       "Benign     21520\n",
       "TFTP        2291\n",
       "Syn         2210\n",
       "DNS         2195\n",
       "NTP         2156\n",
       "NetBIOS     2094\n",
       "SNMP        2091\n",
       "UDP         2064\n",
       "MSSQL       1687\n",
       "LDAP        1677\n",
       "Portmap     1555\n",
       "SSDP        1500\n",
       "Name: Label, dtype: int64"
      ]
     },
     "execution_count": 10,
     "metadata": {},
     "output_type": "execute_result"
    }
   ],
   "source": [
    "balanced_df['Label'].value_counts()"
   ]
  },
  {
   "cell_type": "markdown",
   "metadata": {},
   "source": [
    "# Balanced Dataset"
   ]
  },
  {
   "cell_type": "markdown",
   "metadata": {},
   "source": [
    "## Binary Classification (Balanced)"
   ]
  },
  {
   "cell_type": "markdown",
   "metadata": {},
   "source": [
    "### Train Test Split"
   ]
  },
  {
   "cell_type": "code",
   "execution_count": 111,
   "metadata": {},
   "outputs": [],
   "source": [
    "bal_binary_X = balanced_df.drop(['Flow_ID', 'Label', 'HOPOPT', 'Malicious'], axis=1)\n",
    "bal_binary_y = balanced_df['Malicious']\n",
    "\n",
    "bal_binary_X_train, bal_binary_X_test, bal_binary_y_train, bal_binary_y_test = train_test_split(\n",
    "    bal_binary_X, bal_binary_y, test_size = 0.25, random_state = 0)\n",
    "\n",
    "# Convert to list to avoid type error\n",
    "bal_binary_y_train = list(bal_binary_y_train)\n",
    "bal_binary_y_test = list(bal_binary_y_test)"
   ]
  },
  {
   "cell_type": "markdown",
   "metadata": {},
   "source": [
    "### Standard Scalar"
   ]
  },
  {
   "cell_type": "code",
   "execution_count": 112,
   "metadata": {},
   "outputs": [],
   "source": [
    "std_scaler = StandardScaler()\n",
    "\n",
    "bal_binary_X_train_scl = std_scaler.fit_transform(bal_binary_X_train)\n",
    "bal_binary_X_test_scl = std_scaler.transform(bal_binary_X_test)"
   ]
  },
  {
   "cell_type": "markdown",
   "metadata": {},
   "source": [
    "### Dummy Classifier"
   ]
  },
  {
   "cell_type": "code",
   "execution_count": 113,
   "metadata": {},
   "outputs": [
    {
     "name": "stderr",
     "output_type": "stream",
     "text": [
      "/Users/eric/opt/anaconda3/lib/python3.7/site-packages/sklearn/dummy.py:132: FutureWarning: The default value of strategy will change from stratified to prior in 0.24.\n",
      "  \"stratified to prior in 0.24.\", FutureWarning)\n"
     ]
    }
   ],
   "source": [
    "bal_binary_dummy = DummyClassifier(random_state=0)\n",
    "bal_binary_dummy.fit(bal_binary_X_train_scl, bal_binary_y_train)\n",
    "bal_binary_dummy_preds = list(bal_binary_dummy.predict(bal_binary_X_test_scl))"
   ]
  },
  {
   "cell_type": "code",
   "execution_count": 114,
   "metadata": {},
   "outputs": [
    {
     "name": "stdout",
     "output_type": "stream",
     "text": [
      "Accuracy: 0.5013940520446096\n",
      "      F1: 0.5049367906247116\n"
     ]
    }
   ],
   "source": [
    "bal_binary_dummy_acc = accuracy_score(bal_binary_y_test, bal_binary_dummy_preds)\n",
    "bal_binary_dummy_f1 = f1_score(bal_binary_y_test, bal_binary_dummy_preds)\n",
    "\n",
    "print('Accuracy:', bal_binary_dummy_acc)\n",
    "print('      F1:', bal_binary_dummy_f1)"
   ]
  },
  {
   "cell_type": "markdown",
   "metadata": {},
   "source": [
    "### Gaussian Naive Bayes "
   ]
  },
  {
   "cell_type": "code",
   "execution_count": 48,
   "metadata": {},
   "outputs": [],
   "source": [
    "bal_binary_gnb = GaussianNB()\n",
    "bal_binary_gnb.fit(bal_binary_X_train_scl, bal_binary_y_train)\n",
    "bal_binary_gnb_preds = list(bal_binary_gnb.predict(bal_binary_X_test_scl))"
   ]
  },
  {
   "cell_type": "code",
   "execution_count": 49,
   "metadata": {},
   "outputs": [
    {
     "name": "stdout",
     "output_type": "stream",
     "text": [
      "Accuracy: 0.6943308550185874\n",
      "      F1: 0.749600304529882\n"
     ]
    }
   ],
   "source": [
    "bal_binary_gnb_acc = accuracy_score(bal_binary_y_test, bal_binary_gnb_preds)\n",
    "bal_binary_gnb_f1 = f1_score(bal_binary_y_test, bal_binary_gnb_preds)\n",
    "\n",
    "print('Accuracy:', bal_binary_gnb_acc)\n",
    "print('      F1:', bal_binary_gnb_f1)"
   ]
  },
  {
   "cell_type": "markdown",
   "metadata": {},
   "source": [
    "### Decision Tree"
   ]
  },
  {
   "cell_type": "code",
   "execution_count": 50,
   "metadata": {},
   "outputs": [],
   "source": [
    "bal_binary_dt = DecisionTreeClassifier(random_state=0)\n",
    "bal_binary_dt.fit(bal_binary_X_train_scl, bal_binary_y_train)\n",
    "bal_binary_dt_preds = list(bal_binary_dt.predict(bal_binary_X_test_scl))"
   ]
  },
  {
   "cell_type": "code",
   "execution_count": 51,
   "metadata": {},
   "outputs": [
    {
     "name": "stdout",
     "output_type": "stream",
     "text": [
      "Accuracy: 0.9979553903345725\n",
      "      F1: 0.9979749631811488\n"
     ]
    }
   ],
   "source": [
    "bal_binary_dt_acc = accuracy_score(bal_binary_y_test, bal_binary_dt_preds)\n",
    "bal_binary_dt_f1 = f1_score(bal_binary_y_test, bal_binary_dt_preds)\n",
    "\n",
    "print('Accuracy:', bal_binary_dt_acc)\n",
    "print('      F1:', bal_binary_dt_f1)"
   ]
  },
  {
   "cell_type": "markdown",
   "metadata": {},
   "source": [
    "### K Nearest Neighbors"
   ]
  },
  {
   "cell_type": "code",
   "execution_count": 52,
   "metadata": {},
   "outputs": [],
   "source": [
    "bal_binary_knn = KNeighborsClassifier()\n",
    "bal_binary_knn.fit(bal_binary_X_train_scl, bal_binary_y_train)\n",
    "bal_binary_knn_preds = list(bal_binary_knn.predict(bal_binary_X_test_scl))"
   ]
  },
  {
   "cell_type": "code",
   "execution_count": 53,
   "metadata": {},
   "outputs": [
    {
     "name": "stdout",
     "output_type": "stream",
     "text": [
      "Accuracy: 0.9960037174721189\n",
      "      F1: 0.9960416091319156\n"
     ]
    }
   ],
   "source": [
    "bal_binary_knn_acc = accuracy_score(bal_binary_y_test, bal_binary_knn_preds)\n",
    "bal_binary_knn_f1 = f1_score(bal_binary_y_test, bal_binary_knn_preds)\n",
    "\n",
    "print('Accuracy:', bal_binary_knn_acc)\n",
    "print('      F1:', bal_binary_knn_f1)"
   ]
  },
  {
   "cell_type": "markdown",
   "metadata": {},
   "source": [
    "### Random Forest"
   ]
  },
  {
   "cell_type": "code",
   "execution_count": 54,
   "metadata": {},
   "outputs": [],
   "source": [
    "bal_binary_rf = RandomForestClassifier(random_state=0, n_jobs=-1)\n",
    "bal_binary_rf.fit(bal_binary_X_train_scl, bal_binary_y_train)\n",
    "bal_binary_rf_preds = list(bal_binary_rf.predict(bal_binary_X_test_scl))"
   ]
  },
  {
   "cell_type": "code",
   "execution_count": 55,
   "metadata": {},
   "outputs": [
    {
     "name": "stdout",
     "output_type": "stream",
     "text": [
      "Accuracy: 0.9988847583643122\n",
      "      F1: 0.9988954344624447\n"
     ]
    }
   ],
   "source": [
    "bal_binary_rf_acc = accuracy_score(bal_binary_y_test, bal_binary_rf_preds)\n",
    "bal_binary_rf_f1 = f1_score(bal_binary_y_test, bal_binary_rf_preds)\n",
    "\n",
    "print('Accuracy:', bal_binary_rf_acc)\n",
    "print('      F1:', bal_binary_rf_f1)"
   ]
  },
  {
   "cell_type": "markdown",
   "metadata": {},
   "source": [
    "### XGBoost"
   ]
  },
  {
   "cell_type": "code",
   "execution_count": 56,
   "metadata": {},
   "outputs": [],
   "source": [
    "bal_binary_xgb = XGBClassifier(random_state=0, n_jobs=-1)\n",
    "bal_binary_xgb.fit(bal_binary_X_train_scl, bal_binary_y_train)\n",
    "bal_binary_xgb_preds = list(bal_binary_xgb.predict(bal_binary_X_test_scl))"
   ]
  },
  {
   "cell_type": "code",
   "execution_count": 57,
   "metadata": {},
   "outputs": [
    {
     "name": "stdout",
     "output_type": "stream",
     "text": [
      "Accuracy: 0.9994423791821562\n",
      "      F1: 0.9994477172312224\n"
     ]
    }
   ],
   "source": [
    "bal_binary_xgb_acc = accuracy_score(bal_binary_y_test, bal_binary_xgb_preds)\n",
    "bal_binary_xgb_f1 = f1_score(bal_binary_y_test, bal_binary_xgb_preds)\n",
    "\n",
    "print('Accuracy:', bal_binary_xgb_acc)\n",
    "print('      F1:', bal_binary_xgb_f1)"
   ]
  },
  {
   "cell_type": "markdown",
   "metadata": {},
   "source": [
    "### Feature Importances"
   ]
  },
  {
   "cell_type": "markdown",
   "metadata": {},
   "source": [
    "Decision Tree"
   ]
  },
  {
   "cell_type": "code",
   "execution_count": 58,
   "metadata": {},
   "outputs": [
    {
     "data": {
      "text/plain": [
       "[('Bwd_Pkt_Length_Max', 0.4321718724387804),\n",
       " ('Fwd_IAT_Min', 0.09638106984906894),\n",
       " ('ACK_Flag_Count', 0.09033950805271436),\n",
       " ('Bwd_Pkts_Sec', 0.04781227881326841),\n",
       " ('Pkt_Size_Mean', 0.047542461074881436),\n",
       " ('Fwd_Pkt_Length_Std', 0.047491182791384416),\n",
       " ('Fwd_Init_Win_Bytes', 0.041885485142335525),\n",
       " ('Bwd_Header_Length', 0.03417186684692964),\n",
       " ('Bwd_Init_Win_Bytes', 0.029978998366472578),\n",
       " ('URG_Flag_Count', 0.028887571059214186)]"
      ]
     },
     "execution_count": 58,
     "metadata": {},
     "output_type": "execute_result"
    }
   ],
   "source": [
    "bal_binary_dt_features = dict(zip(bal_binary_X.columns, bal_binary_dt.feature_importances_))\n",
    "bal_binary_dt_features = sorted(bal_binary_dt_features.items(), key=lambda x: x[1], reverse=True)\n",
    "bal_binary_dt_features[:10]"
   ]
  },
  {
   "cell_type": "markdown",
   "metadata": {},
   "source": [
    "Random Forest"
   ]
  },
  {
   "cell_type": "code",
   "execution_count": 59,
   "metadata": {},
   "outputs": [
    {
     "data": {
      "text/plain": [
       "[('Bwd_Segment_Size_Mean', 0.06479943731326662),\n",
       " ('Bwd_Pkt_Length_Max', 0.05768429926659383),\n",
       " ('Fwd_Init_Win_Bytes', 0.051959549429500464),\n",
       " ('Bwd_Pkt_Length_Mean', 0.051723724983398243),\n",
       " ('Pkt_Length_Var', 0.05011734358632702),\n",
       " ('Pkt_Length_Min', 0.03474782546490374),\n",
       " ('Bwd_Subflow_Bytes', 0.03389031994987526),\n",
       " ('Fwd_Pkt_Length_Min', 0.031065625410276246),\n",
       " ('Bwd_Total_Bytes', 0.02808381988258205),\n",
       " ('Pkt_Length_Std', 0.026423405011124897)]"
      ]
     },
     "execution_count": 59,
     "metadata": {},
     "output_type": "execute_result"
    }
   ],
   "source": [
    "bal_binary_rf_features = dict(zip(bal_binary_X.columns, bal_binary_rf.feature_importances_))\n",
    "bal_binary_rf_features = sorted(bal_binary_rf_features.items(), key=lambda x: x[1], reverse=True)\n",
    "bal_binary_rf_features[:10]"
   ]
  },
  {
   "cell_type": "markdown",
   "metadata": {},
   "source": [
    "XGBoost"
   ]
  },
  {
   "cell_type": "code",
   "execution_count": 60,
   "metadata": {},
   "outputs": [
    {
     "data": {
      "text/plain": [
       "[('Bwd_Pkt_Length_Max', 0.7066348),\n",
       " ('Bwd_Pkt_Length_Mean', 0.046133853),\n",
       " ('Fwd_Pkt_Length_Std', 0.02572131),\n",
       " ('ACK_Flag_Count', 0.023738889),\n",
       " ('Bwd_Pkts_Sec', 0.018046636),\n",
       " ('Bwd_Header_Length', 0.01647789),\n",
       " ('PSH_Flag_Count', 0.015690256),\n",
       " ('Fwd_IAT_Min', 0.015220775),\n",
       " ('Fwd_Total_Pkts', 0.015060951),\n",
       " ('Pkt_Size_Mean', 0.011617822)]"
      ]
     },
     "execution_count": 60,
     "metadata": {},
     "output_type": "execute_result"
    }
   ],
   "source": [
    "bal_binary_xgb_features = dict(zip(bal_binary_X.columns, bal_binary_xgb.feature_importances_))\n",
    "bal_binary_xgb_features = sorted(bal_binary_xgb_features.items(), key=lambda x: x[1], reverse=True)\n",
    "bal_binary_xgb_features[:10]"
   ]
  },
  {
   "cell_type": "markdown",
   "metadata": {},
   "source": [
    "## Multiclass Classification (Balanced)"
   ]
  },
  {
   "cell_type": "markdown",
   "metadata": {},
   "source": [
    "### Train Test Split"
   ]
  },
  {
   "cell_type": "code",
   "execution_count": 65,
   "metadata": {},
   "outputs": [],
   "source": [
    "bal_multi_X = balanced_df.drop(['Flow_ID', 'Label', 'HOPOPT', 'Malicious'], axis=1)\n",
    "bal_multi_y = balanced_df['Label']\n",
    "\n",
    "bal_multi_X_train, bal_multi_X_test, bal_multi_y_train, bal_multi_y_test = train_test_split(\n",
    "    bal_multi_X, bal_multi_y, test_size = 0.25, random_state = 0)\n",
    "\n",
    "# Convert to list to avoid type error\n",
    "bal_multi_y_train = list(bal_multi_y_train)\n",
    "bal_multi_y_test = list(bal_multi_y_test)"
   ]
  },
  {
   "cell_type": "markdown",
   "metadata": {},
   "source": [
    "### Standard Scalar"
   ]
  },
  {
   "cell_type": "code",
   "execution_count": 66,
   "metadata": {},
   "outputs": [],
   "source": [
    "std_scaler = StandardScaler()\n",
    "\n",
    "bal_multi_X_train_scl = std_scaler.fit_transform(bal_multi_X_train)\n",
    "bal_multi_X_test_scl = std_scaler.transform(bal_multi_X_test)"
   ]
  },
  {
   "cell_type": "markdown",
   "metadata": {},
   "source": [
    "### Dummy Classifier"
   ]
  },
  {
   "cell_type": "code",
   "execution_count": 73,
   "metadata": {},
   "outputs": [
    {
     "name": "stderr",
     "output_type": "stream",
     "text": [
      "/Users/eric/opt/anaconda3/lib/python3.7/site-packages/sklearn/dummy.py:132: FutureWarning: The default value of strategy will change from stratified to prior in 0.24.\n",
      "  \"stratified to prior in 0.24.\", FutureWarning)\n"
     ]
    }
   ],
   "source": [
    "bal_multi_dummy = DummyClassifier(random_state=0)\n",
    "bal_multi_dummy.fit(bal_multi_X_train_scl, bal_multi_y_train)\n",
    "bal_multi_dummy_preds = list(bal_multi_dummy.predict(bal_multi_X_test_scl))"
   ]
  },
  {
   "cell_type": "code",
   "execution_count": 74,
   "metadata": {},
   "outputs": [
    {
     "name": "stdout",
     "output_type": "stream",
     "text": [
      "Accuracy: 0.2776951672862453\n",
      "      F1: 0.27377289188976395\n"
     ]
    }
   ],
   "source": [
    "bal_multi_dummy_acc = accuracy_score(bal_multi_y_test, bal_multi_dummy_preds)\n",
    "bal_multi_dummy_f1 = f1_score(bal_multi_y_test, bal_multi_dummy_preds, average='weighted')\n",
    "\n",
    "print('Accuracy:', bal_multi_dummy_acc)\n",
    "print('      F1:', bal_multi_dummy_f1)"
   ]
  },
  {
   "cell_type": "markdown",
   "metadata": {},
   "source": [
    "### Gaussian Naive Bayes"
   ]
  },
  {
   "cell_type": "code",
   "execution_count": 69,
   "metadata": {},
   "outputs": [],
   "source": [
    "bal_multi_gnb = GaussianNB()\n",
    "bal_multi_gnb.fit(bal_multi_X_train_scl, bal_multi_y_train)\n",
    "bal_multi_gnb_preds = list(bal_multi_gnb.predict(bal_multi_X_test_scl))"
   ]
  },
  {
   "cell_type": "code",
   "execution_count": 70,
   "metadata": {},
   "outputs": [
    {
     "name": "stdout",
     "output_type": "stream",
     "text": [
      "Accuracy: 0.3140334572490706\n",
      "      F1: 0.3481777387956166\n"
     ]
    }
   ],
   "source": [
    "bal_multi_gnb_acc = accuracy_score(bal_multi_y_test, bal_multi_gnb_preds)\n",
    "bal_multi_gnb_f1 = f1_score(bal_multi_y_test, bal_multi_gnb_preds, average='weighted')\n",
    "\n",
    "print('Accuracy:', bal_multi_gnb_acc)\n",
    "print('      F1:', bal_multi_gnb_f1)"
   ]
  },
  {
   "cell_type": "markdown",
   "metadata": {},
   "source": [
    "### Decision Tree"
   ]
  },
  {
   "cell_type": "code",
   "execution_count": 71,
   "metadata": {},
   "outputs": [],
   "source": [
    "bal_multi_dt = DecisionTreeClassifier(random_state=0)\n",
    "bal_multi_dt.fit(bal_multi_X_train_scl, bal_multi_y_train)\n",
    "bal_multi_dt_preds = list(bal_multi_dt.predict(bal_multi_X_test_scl))"
   ]
  },
  {
   "cell_type": "code",
   "execution_count": 72,
   "metadata": {},
   "outputs": [
    {
     "name": "stdout",
     "output_type": "stream",
     "text": [
      "Accuracy: 0.8467472118959107\n",
      "      F1: 0.8472017627615264\n"
     ]
    }
   ],
   "source": [
    "bal_multi_dt_acc = accuracy_score(bal_multi_y_test, bal_multi_dt_preds)\n",
    "bal_multi_dt_f1 = f1_score(bal_multi_y_test, bal_multi_dt_preds, average='weighted')\n",
    "\n",
    "print('Accuracy:', bal_multi_dt_acc)\n",
    "print('      F1:', bal_multi_dt_f1)"
   ]
  },
  {
   "cell_type": "markdown",
   "metadata": {},
   "source": [
    "### K Nearest Neighbors"
   ]
  },
  {
   "cell_type": "code",
   "execution_count": 75,
   "metadata": {},
   "outputs": [],
   "source": [
    "bal_multi_knn = KNeighborsClassifier()\n",
    "bal_multi_knn.fit(bal_multi_X_train_scl, bal_multi_y_train)\n",
    "bal_multi_knn_preds = list(bal_multi_knn.predict(bal_multi_X_test_scl))"
   ]
  },
  {
   "cell_type": "code",
   "execution_count": 76,
   "metadata": {},
   "outputs": [
    {
     "name": "stdout",
     "output_type": "stream",
     "text": [
      "Accuracy: 0.8433085501858736\n",
      "      F1: 0.8396681128702419\n"
     ]
    }
   ],
   "source": [
    "bal_multi_knn_acc = accuracy_score(bal_multi_y_test, bal_multi_knn_preds)\n",
    "bal_multi_knn_f1 = f1_score(bal_multi_y_test, bal_multi_knn_preds, average='weighted')\n",
    "\n",
    "print('Accuracy:', bal_multi_knn_acc)\n",
    "print('      F1:', bal_multi_knn_f1)"
   ]
  },
  {
   "cell_type": "markdown",
   "metadata": {},
   "source": [
    "### Random Forest"
   ]
  },
  {
   "cell_type": "code",
   "execution_count": 77,
   "metadata": {},
   "outputs": [],
   "source": [
    "bal_multi_rf = RandomForestClassifier(random_state=0, n_jobs=-1)\n",
    "bal_multi_rf.fit(bal_multi_X_train_scl, bal_multi_y_train)\n",
    "bal_multi_rf_preds = list(bal_multi_rf.predict(bal_multi_X_test_scl))"
   ]
  },
  {
   "cell_type": "code",
   "execution_count": 80,
   "metadata": {},
   "outputs": [
    {
     "name": "stdout",
     "output_type": "stream",
     "text": [
      "Accuracy: 0.8523234200743495\n",
      "      F1: 0.8519008118496785\n"
     ]
    }
   ],
   "source": [
    "bal_multi_rf_acc = accuracy_score(bal_multi_y_test, bal_multi_rf_preds)\n",
    "bal_multi_rf_f1 = f1_score(bal_multi_y_test, bal_multi_rf_preds, average='weighted')\n",
    "\n",
    "print('Accuracy:', bal_multi_rf_acc)\n",
    "print('      F1:', bal_multi_rf_f1)"
   ]
  },
  {
   "cell_type": "markdown",
   "metadata": {},
   "source": [
    "### XGBoost"
   ]
  },
  {
   "cell_type": "code",
   "execution_count": 81,
   "metadata": {},
   "outputs": [],
   "source": [
    "bal_multi_xgb = XGBClassifier(random_state=0, n_jobs=-1)\n",
    "bal_multi_xgb.fit(bal_multi_X_train_scl, bal_multi_y_train)\n",
    "bal_multi_xgb_preds = list(bal_multi_xgb.predict(bal_multi_X_test_scl))"
   ]
  },
  {
   "cell_type": "code",
   "execution_count": 82,
   "metadata": {},
   "outputs": [
    {
     "name": "stdout",
     "output_type": "stream",
     "text": [
      "Accuracy: 0.8650557620817844\n",
      "      F1: 0.8647730500675536\n"
     ]
    }
   ],
   "source": [
    "bal_multi_xgb_acc = accuracy_score(bal_multi_y_test, bal_multi_xgb_preds)\n",
    "bal_multi_xgb_f1 = f1_score(bal_multi_y_test, bal_multi_xgb_preds, average='weighted')\n",
    "\n",
    "print('Accuracy:', bal_multi_xgb_acc)\n",
    "print('      F1:', bal_multi_xgb_f1)"
   ]
  },
  {
   "cell_type": "markdown",
   "metadata": {},
   "source": [
    "### Feature Importances"
   ]
  },
  {
   "cell_type": "markdown",
   "metadata": {},
   "source": [
    "Decision Tree"
   ]
  },
  {
   "cell_type": "code",
   "execution_count": 83,
   "metadata": {},
   "outputs": [
    {
     "data": {
      "text/plain": [
       "[('Bwd_Pkt_Length_Max', 0.17813608910486856),\n",
       " ('Pkt_Length_Min', 0.13232021964005997),\n",
       " ('Fwd_Init_Win_Bytes', 0.07129227402814149),\n",
       " ('Flow_Bytes_Sec', 0.05254508982369269),\n",
       " ('ACK_Flag_Count', 0.04822122872673132),\n",
       " ('Fwd_IAT_Min', 0.048125155685704676),\n",
       " ('Flow_IAT_Max', 0.04057134077946873),\n",
       " ('Bwd_Pkts_Sec', 0.02851069734541092),\n",
       " ('Fwd_Subflow_Bytes', 0.027439768028378247),\n",
       " ('Bwd_Header_Length', 0.027045377146699245)]"
      ]
     },
     "execution_count": 83,
     "metadata": {},
     "output_type": "execute_result"
    }
   ],
   "source": [
    "bal_multi_dt_features = dict(zip(bal_multi_X.columns, bal_multi_dt.feature_importances_))\n",
    "bal_multi_dt_features = sorted(bal_multi_dt_features.items(), key=lambda x: x[1], reverse=True)\n",
    "bal_multi_dt_features[:10]"
   ]
  },
  {
   "cell_type": "markdown",
   "metadata": {},
   "source": [
    "Random Forest"
   ]
  },
  {
   "cell_type": "code",
   "execution_count": 84,
   "metadata": {},
   "outputs": [
    {
     "data": {
      "text/plain": [
       "[('Fwd_Init_Win_Bytes', 0.052314072135577656),\n",
       " ('Pkt_Size_Mean', 0.033927197406239375),\n",
       " ('Pkt_Length_Min', 0.03362226368219828),\n",
       " ('Flow_IAT_Mean', 0.03229548261837191),\n",
       " ('Fwd_Pkt_Length_Min', 0.02929883891176453),\n",
       " ('Fwd_Segment_Size_Mean', 0.029189954369181214),\n",
       " ('Pkt_Length_Mean', 0.02841634731314821),\n",
       " ('Bwd_Segment_Size_Mean', 0.027442983138788266),\n",
       " ('Fwd_Pkts_Sec', 0.02733519211706754),\n",
       " ('Flow_IAT_Max', 0.02732665349636803)]"
      ]
     },
     "execution_count": 84,
     "metadata": {},
     "output_type": "execute_result"
    }
   ],
   "source": [
    "bal_multi_rf_features = dict(zip(bal_multi_X.columns, bal_multi_rf.feature_importances_))\n",
    "bal_multi_rf_features = sorted(bal_multi_rf_features.items(), key=lambda x: x[1], reverse=True)\n",
    "bal_multi_rf_features[:10]"
   ]
  },
  {
   "cell_type": "markdown",
   "metadata": {},
   "source": [
    "XGBoost"
   ]
  },
  {
   "cell_type": "code",
   "execution_count": 85,
   "metadata": {},
   "outputs": [
    {
     "data": {
      "text/plain": [
       "[('Bwd_Pkt_Length_Max', 0.8722749),\n",
       " ('Pkt_Length_Min', 0.014750869),\n",
       " ('ACK_Flag_Count', 0.01015347),\n",
       " ('CWE_Flag_Count', 0.008745772),\n",
       " ('Time_Idle_Std', 0.0071296976),\n",
       " ('PSH_Flag_Count', 0.005871469),\n",
       " ('Bwd_Header_Length', 0.0050045243),\n",
       " ('Fwd_Total_Bytes', 0.0049487054),\n",
       " ('UDP', 0.004383982),\n",
       " ('URG_Flag_Count', 0.0042051356)]"
      ]
     },
     "execution_count": 85,
     "metadata": {},
     "output_type": "execute_result"
    }
   ],
   "source": [
    "bal_multi_xgb_features = dict(zip(bal_multi_X.columns, bal_multi_xgb.feature_importances_))\n",
    "bal_multi_xgb_features = sorted(bal_multi_xgb_features.items(), key=lambda x: x[1], reverse=True)\n",
    "bal_multi_xgb_features[:10]"
   ]
  },
  {
   "cell_type": "markdown",
   "metadata": {},
   "source": [
    "## Confusion Matrix"
   ]
  },
  {
   "cell_type": "code",
   "execution_count": 93,
   "metadata": {
    "scrolled": false
   },
   "outputs": [
    {
     "name": "stdout",
     "output_type": "stream",
     "text": [
      "Normalized confusion matrix\n",
      "[[9.99624765e-01 0.00000000e+00 1.87617261e-04 0.00000000e+00\n",
      "  0.00000000e+00 0.00000000e+00 1.87617261e-04 0.00000000e+00\n",
      "  0.00000000e+00 0.00000000e+00 0.00000000e+00 0.00000000e+00]\n",
      " [1.70648464e-03 7.06484642e-01 2.21843003e-02 3.92491468e-02\n",
      "  6.14334471e-02 2.73037543e-02 8.53242321e-03 4.60750853e-02\n",
      "  4.09556314e-02 0.00000000e+00 1.70648464e-03 4.43686007e-02]\n",
      " [0.00000000e+00 6.50000000e-02 5.77500000e-01 2.50000000e-01\n",
      "  1.25000000e-02 2.00000000e-02 1.50000000e-02 3.25000000e-02\n",
      "  1.50000000e-02 5.00000000e-03 0.00000000e+00 7.50000000e-03]\n",
      " [0.00000000e+00 7.21649485e-02 3.32474227e-01 3.73711340e-01\n",
      "  6.44329897e-02 3.35051546e-02 2.83505155e-02 2.31958763e-02\n",
      "  3.35051546e-02 5.15463918e-03 0.00000000e+00 3.35051546e-02]\n",
      " [1.82481752e-03 4.19708029e-02 3.64963504e-03 7.29927007e-03\n",
      "  7.73722628e-01 5.47445255e-03 5.47445255e-03 4.74452555e-02\n",
      "  7.29927007e-03 0.00000000e+00 3.64963504e-03 1.02189781e-01]\n",
      " [0.00000000e+00 3.20641283e-02 1.00200401e-02 3.20641283e-02\n",
      "  3.60721443e-02 7.33466934e-01 4.80961924e-02 2.40480962e-02\n",
      "  2.60521042e-02 6.01202405e-03 2.00400802e-03 5.01002004e-02]\n",
      " [0.00000000e+00 2.23880597e-02 4.97512438e-03 9.95024876e-03\n",
      "  1.49253731e-02 3.48258706e-02 8.73134328e-01 7.46268657e-03\n",
      "  0.00000000e+00 9.95024876e-03 1.49253731e-02 7.46268657e-03]\n",
      " [0.00000000e+00 7.34463277e-02 1.69491525e-02 1.88323917e-02\n",
      "  1.07344633e-01 1.88323917e-02 0.00000000e+00 6.94915254e-01\n",
      "  1.12994350e-02 0.00000000e+00 0.00000000e+00 5.83804143e-02]\n",
      " [0.00000000e+00 6.17283951e-02 1.23456790e-02 2.22222222e-01\n",
      "  7.40740741e-02 4.19753086e-02 0.00000000e+00 2.22222222e-02\n",
      "  4.93827160e-01 0.00000000e+00 0.00000000e+00 7.16049383e-02]\n",
      " [0.00000000e+00 0.00000000e+00 1.79211470e-03 0.00000000e+00\n",
      "  0.00000000e+00 0.00000000e+00 7.34767025e-02 0.00000000e+00\n",
      "  0.00000000e+00 9.24731183e-01 0.00000000e+00 0.00000000e+00]\n",
      " [1.63398693e-03 1.63398693e-03 0.00000000e+00 0.00000000e+00\n",
      "  4.90196078e-03 1.63398693e-03 3.26797386e-03 0.00000000e+00\n",
      "  1.63398693e-03 0.00000000e+00 9.85294118e-01 0.00000000e+00]\n",
      " [0.00000000e+00 5.18962076e-02 5.98802395e-03 1.59680639e-02\n",
      "  1.15768463e-01 2.19560878e-02 0.00000000e+00 3.59281437e-02\n",
      "  1.99600798e-02 0.00000000e+00 1.19760479e-02 7.20558882e-01]]\n"
     ]
    },
    {
     "data": {
      "image/png": "[encoded data removed]",
      "text/plain": [
       "<Figure size 1440x1440 with 2 Axes>"
      ]
     },
     "metadata": {
      "needs_background": "dark"
     },
     "output_type": "display_data"
    }
   ],
   "source": [
    "cm_xgb_bal_multi = confusion_matrix(bal_multi_y_test, bal_multi_xgb_preds)\n",
    "classes = balanced_df['Label'].unique()\n",
    "plot_confusion_matrix(cm_xgb_bal_multi, classes, normalize=True,\n",
    "                      title='XGBoost Confusion Matrix', cmap=plt.cm.Blues)\n",
    "\n",
    "plt.savefig('Images/bal_multi_xgb_conf_matrix.png', dpi = 100)"
   ]
  },
  {
   "cell_type": "markdown",
   "metadata": {},
   "source": [
    "# Anomaly Detection Dataset"
   ]
  },
  {
   "cell_type": "markdown",
   "metadata": {},
   "source": [
    "## Binary Classification (Anomaly Detection)"
   ]
  },
  {
   "cell_type": "markdown",
   "metadata": {},
   "source": [
    "### Train Test Split"
   ]
  },
  {
   "cell_type": "code",
   "execution_count": 90,
   "metadata": {},
   "outputs": [],
   "source": [
    "anom_binary_X = anomaly_df.drop(['Flow_ID', 'Label', 'HOPOPT', 'Malicious'], axis=1)\n",
    "anom_binary_y = anomaly_df['Malicious']\n",
    "\n",
    "anom_binary_X_train, anom_binary_X_test, anom_binary_y_train, anom_binary_y_test = train_test_split(\n",
    "    anom_binary_X, anom_binary_y, stratify=anom_binary_y, test_size=0.25, random_state=0)\n",
    "\n",
    "# Convert to list to avoid type error\n",
    "anom_binary_y_train = list(anom_binary_y_train)\n",
    "anom_binary_y_test = list(anom_binary_y_test)"
   ]
  },
  {
   "cell_type": "markdown",
   "metadata": {},
   "source": [
    "### Standard Scalar"
   ]
  },
  {
   "cell_type": "code",
   "execution_count": 98,
   "metadata": {},
   "outputs": [],
   "source": [
    "std_scaler = StandardScaler()\n",
    "\n",
    "anom_binary_X_train_scl = std_scaler.fit_transform(anom_binary_X_train)\n",
    "anom_binary_X_test_scl = std_scaler.transform(anom_binary_X_test)"
   ]
  },
  {
   "cell_type": "markdown",
   "metadata": {},
   "source": [
    "### Dummy Classifier"
   ]
  },
  {
   "cell_type": "code",
   "execution_count": 99,
   "metadata": {},
   "outputs": [
    {
     "name": "stderr",
     "output_type": "stream",
     "text": [
      "/Users/eric/opt/anaconda3/lib/python3.7/site-packages/sklearn/dummy.py:132: FutureWarning: The default value of strategy will change from stratified to prior in 0.24.\n",
      "  \"stratified to prior in 0.24.\", FutureWarning)\n"
     ]
    }
   ],
   "source": [
    "anom_binary_dummy = DummyClassifier(random_state=0)\n",
    "anom_binary_dummy.fit(anom_binary_X_train_scl, anom_binary_y_train)\n",
    "anom_binary_dummy_preds = list(anom_binary_dummy.predict(anom_binary_X_test_scl))"
   ]
  },
  {
   "cell_type": "code",
   "execution_count": 104,
   "metadata": {},
   "outputs": [
    {
     "name": "stdout",
     "output_type": "stream",
     "text": [
      "Accuracy: 0.9777091491113331\n",
      "      F1: 0.009102730819245775\n"
     ]
    }
   ],
   "source": [
    "anom_binary_dummy_acc = accuracy_score(anom_binary_y_test, anom_binary_dummy_preds)\n",
    "anom_binary_dummy_f1 = f1_score(anom_binary_y_test, anom_binary_dummy_preds)\n",
    "\n",
    "print('Accuracy:', anom_binary_dummy_acc)\n",
    "print('      F1:', anom_binary_dummy_f1)"
   ]
  },
  {
   "cell_type": "markdown",
   "metadata": {},
   "source": [
    "### Gaussian Naive Bayes "
   ]
  },
  {
   "cell_type": "code",
   "execution_count": 105,
   "metadata": {},
   "outputs": [],
   "source": [
    "anom_binary_gnb = GaussianNB()\n",
    "anom_binary_gnb.fit(anom_binary_X_train_scl, anom_binary_y_train)\n",
    "anom_binary_gnb_preds = list(anom_binary_gnb.predict(anom_binary_X_test_scl))"
   ]
  },
  {
   "cell_type": "code",
   "execution_count": 106,
   "metadata": {},
   "outputs": [
    {
     "name": "stdout",
     "output_type": "stream",
     "text": [
      "Accuracy: 0.6333334726337388\n",
      "      F1: 0.055197811901018676\n"
     ]
    }
   ],
   "source": [
    "anom_binary_gnb_acc = accuracy_score(anom_binary_y_test, anom_binary_gnb_preds)\n",
    "anom_binary_gnb_f1 = f1_score(anom_binary_y_test, anom_binary_gnb_preds)\n",
    "\n",
    "print('Accuracy:', anom_binary_gnb_acc)\n",
    "print('      F1:', anom_binary_gnb_f1)"
   ]
  },
  {
   "cell_type": "markdown",
   "metadata": {},
   "source": [
    "### Decision Tree"
   ]
  },
  {
   "cell_type": "code",
   "execution_count": 108,
   "metadata": {},
   "outputs": [],
   "source": [
    "anom_binary_dt = DecisionTreeClassifier(random_state=0)\n",
    "anom_binary_dt.fit(anom_binary_X_train_scl, anom_binary_y_train)\n",
    "anom_binary_dt_preds = list(anom_binary_dt.predict(anom_binary_X_test_scl))"
   ]
  },
  {
   "cell_type": "code",
   "execution_count": 109,
   "metadata": {},
   "outputs": [
    {
     "name": "stdout",
     "output_type": "stream",
     "text": [
      "Accuracy: 0.9998579135863864\n",
      "      F1: 0.9936802973977695\n"
     ]
    }
   ],
   "source": [
    "anom_binary_dt_acc = accuracy_score(anom_binary_y_test, anom_binary_dt_preds)\n",
    "anom_binary_dt_f1 = f1_score(anom_binary_y_test, anom_binary_dt_preds)\n",
    "\n",
    "print('Accuracy:', anom_binary_dt_acc)\n",
    "print('      F1:', anom_binary_dt_f1)"
   ]
  },
  {
   "cell_type": "markdown",
   "metadata": {},
   "source": [
    "### K Nearest Neighbors"
   ]
  },
  {
   "cell_type": "code",
   "execution_count": null,
   "metadata": {},
   "outputs": [],
   "source": [
    "anom_binary_knn = KNeighborsClassifier()\n",
    "anom_binary_knn.fit(anom_binary_X_train_scl, anom_binary_y_train)\n",
    "anom_binary_knn_preds = list(anom_binary_knn.predict(anom_binary_X_test_scl))"
   ]
  },
  {
   "cell_type": "code",
   "execution_count": null,
   "metadata": {},
   "outputs": [],
   "source": [
    "anom_binary_knn_acc = accuracy_score(anom_binary_y_test, anom_binary_knn_preds)\n",
    "anom_binary_knn_f1 = f1_score(anom_binary_y_test, anom_binary_knn_preds)\n",
    "\n",
    "print('Accuracy:', anom_binary_knn_acc)\n",
    "print('      F1:', anom_binary_knn_f1)"
   ]
  },
  {
   "cell_type": "markdown",
   "metadata": {},
   "source": [
    "### Random Forest"
   ]
  },
  {
   "cell_type": "code",
   "execution_count": 54,
   "metadata": {},
   "outputs": [],
   "source": [
    "anom_binary_rf = RandomForestClassifier(random_state=0, n_jobs=-1)\n",
    "anom_binary_rf.fit(anom_binary_X_train_scl, anom_binary_y_train)\n",
    "anom_binary_rf_preds = list(anom_binary_rf.predict(anom_binary_X_test_scl))"
   ]
  },
  {
   "cell_type": "code",
   "execution_count": 55,
   "metadata": {},
   "outputs": [
    {
     "name": "stdout",
     "output_type": "stream",
     "text": [
      "Accuracy: 0.9988847583643122\n",
      "      F1: 0.9988954344624447\n"
     ]
    }
   ],
   "source": [
    "anom_binary_rf_acc = accuracy_score(anom_binary_y_test, anom_binary_rf_preds)\n",
    "anom_binary_rf_f1 = f1_score(anom_binary_y_test, anom_binary_rf_preds)\n",
    "\n",
    "print('Accuracy:', anom_binary_rf_acc)\n",
    "print('      F1:', anom_binary_rf_f1)"
   ]
  },
  {
   "cell_type": "markdown",
   "metadata": {},
   "source": [
    "### XGBoost"
   ]
  },
  {
   "cell_type": "code",
   "execution_count": 56,
   "metadata": {},
   "outputs": [],
   "source": [
    "anom_binary_xgb = XGBClassifier(random_state=0, n_jobs=-1)\n",
    "anom_binary_xgb.fit(anom_binary_X_train_scl, anom_binary_y_train)\n",
    "anom_binary_xgb_preds = list(anom_binary_xgb.predict(anom_binary_X_test_scl))"
   ]
  },
  {
   "cell_type": "code",
   "execution_count": 57,
   "metadata": {},
   "outputs": [
    {
     "name": "stdout",
     "output_type": "stream",
     "text": [
      "Accuracy: 0.9994423791821562\n",
      "      F1: 0.9994477172312224\n"
     ]
    }
   ],
   "source": [
    "anom_binary_xgb_acc = accuracy_score(anom_binary_y_test, anom_binary_xgb_preds)\n",
    "anom_binary_xgb_f1 = f1_score(anom_binary_y_test, anom_binary_xgb_preds)\n",
    "\n",
    "print('Accuracy:', anom_binary_xgb_acc)\n",
    "print('      F1:', anom_binary_xgb_f1)"
   ]
  },
  {
   "cell_type": "markdown",
   "metadata": {},
   "source": [
    "### Feature Importances"
   ]
  },
  {
   "cell_type": "markdown",
   "metadata": {},
   "source": [
    "Decision Tree"
   ]
  },
  {
   "cell_type": "code",
   "execution_count": 58,
   "metadata": {},
   "outputs": [
    {
     "data": {
      "text/plain": [
       "[('Bwd_Pkt_Length_Max', 0.4321718724387804),\n",
       " ('Fwd_IAT_Min', 0.09638106984906894),\n",
       " ('ACK_Flag_Count', 0.09033950805271436),\n",
       " ('Bwd_Pkts_Sec', 0.04781227881326841),\n",
       " ('Pkt_Size_Mean', 0.047542461074881436),\n",
       " ('Fwd_Pkt_Length_Std', 0.047491182791384416),\n",
       " ('Fwd_Init_Win_Bytes', 0.041885485142335525),\n",
       " ('Bwd_Header_Length', 0.03417186684692964),\n",
       " ('Bwd_Init_Win_Bytes', 0.029978998366472578),\n",
       " ('URG_Flag_Count', 0.028887571059214186)]"
      ]
     },
     "execution_count": 58,
     "metadata": {},
     "output_type": "execute_result"
    }
   ],
   "source": [
    "anom_binary_dt_features = dict(zip(anom_binary_X.columns, anom_binary_dt.feature_importances_))\n",
    "anom_binary_dt_features = sorted(anom_binary_dt_features.items(), key=lambda x: x[1], reverse=True)\n",
    "anom_binary_dt_features[:10]"
   ]
  },
  {
   "cell_type": "markdown",
   "metadata": {},
   "source": [
    "Random Forest"
   ]
  },
  {
   "cell_type": "code",
   "execution_count": 59,
   "metadata": {},
   "outputs": [
    {
     "data": {
      "text/plain": [
       "[('Bwd_Segment_Size_Mean', 0.06479943731326662),\n",
       " ('Bwd_Pkt_Length_Max', 0.05768429926659383),\n",
       " ('Fwd_Init_Win_Bytes', 0.051959549429500464),\n",
       " ('Bwd_Pkt_Length_Mean', 0.051723724983398243),\n",
       " ('Pkt_Length_Var', 0.05011734358632702),\n",
       " ('Pkt_Length_Min', 0.03474782546490374),\n",
       " ('Bwd_Subflow_Bytes', 0.03389031994987526),\n",
       " ('Fwd_Pkt_Length_Min', 0.031065625410276246),\n",
       " ('Bwd_Total_Bytes', 0.02808381988258205),\n",
       " ('Pkt_Length_Std', 0.026423405011124897)]"
      ]
     },
     "execution_count": 59,
     "metadata": {},
     "output_type": "execute_result"
    }
   ],
   "source": [
    "anom_binary_rf_features = dict(zip(anom_binary_X.columns, anom_binary_rf.feature_importances_))\n",
    "anom_binary_rf_features = sorted(anom_binary_rf_features.items(), key=lambda x: x[1], reverse=True)\n",
    "anom_binary_rf_features[:10]"
   ]
  },
  {
   "cell_type": "markdown",
   "metadata": {},
   "source": [
    "XGBoost"
   ]
  },
  {
   "cell_type": "code",
   "execution_count": 60,
   "metadata": {},
   "outputs": [
    {
     "data": {
      "text/plain": [
       "[('Bwd_Pkt_Length_Max', 0.7066348),\n",
       " ('Bwd_Pkt_Length_Mean', 0.046133853),\n",
       " ('Fwd_Pkt_Length_Std', 0.02572131),\n",
       " ('ACK_Flag_Count', 0.023738889),\n",
       " ('Bwd_Pkts_Sec', 0.018046636),\n",
       " ('Bwd_Header_Length', 0.01647789),\n",
       " ('PSH_Flag_Count', 0.015690256),\n",
       " ('Fwd_IAT_Min', 0.015220775),\n",
       " ('Fwd_Total_Pkts', 0.015060951),\n",
       " ('Pkt_Size_Mean', 0.011617822)]"
      ]
     },
     "execution_count": 60,
     "metadata": {},
     "output_type": "execute_result"
    }
   ],
   "source": [
    "anom_binary_xgb_features = dict(zip(anom_binary_X.columns, anom_binary_xgb.feature_importances_))\n",
    "anom_binary_xgb_features = sorted(anom_binary_xgb_features.items(), key=lambda x: x[1], reverse=True)\n",
    "anom_binary_xgb_features[:10]"
   ]
  },
  {
   "cell_type": "markdown",
   "metadata": {},
   "source": [
    "## Multiclass Classification (Anomaly Detection)"
   ]
  },
  {
   "cell_type": "markdown",
   "metadata": {},
   "source": [
    "### Train Test Split"
   ]
  },
  {
   "cell_type": "code",
   "execution_count": 65,
   "metadata": {},
   "outputs": [],
   "source": [
    "anom_multi_X = anomaly_df.drop(['Flow_ID', 'Label', 'HOPOPT', 'Malicious'], axis=1)\n",
    "anom_multi_y = anomaly_df['Label']\n",
    "\n",
    "anom_multi_X_train, anom_multi_X_test, anom_multi_y_train, anom_multi_y_test = train_test_split(\n",
    "    anom_multi_X, anom_multi_y, stratify=anom_multi_y, test_size=0.25, random_state=0)\n",
    "\n",
    "# Convert to list to avoid type error\n",
    "anom_multi_y_train = list(anom_multi_y_train)\n",
    "anom_multi_y_test = list(anom_multi_y_test)"
   ]
  },
  {
   "cell_type": "markdown",
   "metadata": {},
   "source": [
    "### Standard Scalar"
   ]
  },
  {
   "cell_type": "code",
   "execution_count": 66,
   "metadata": {},
   "outputs": [],
   "source": [
    "std_scaler = StandardScaler()\n",
    "\n",
    "anom_multi_X_train_scl = std_scaler.fit_transform(anom_multi_X_train)\n",
    "anom_multi_X_test_scl = std_scaler.transform(anom_multi_X_test)"
   ]
  },
  {
   "cell_type": "markdown",
   "metadata": {},
   "source": [
    "### Dummy Classifier"
   ]
  },
  {
   "cell_type": "code",
   "execution_count": 73,
   "metadata": {},
   "outputs": [
    {
     "name": "stderr",
     "output_type": "stream",
     "text": [
      "/Users/eric/opt/anaconda3/lib/python3.7/site-packages/sklearn/dummy.py:132: FutureWarning: The default value of strategy will change from stratified to prior in 0.24.\n",
      "  \"stratified to prior in 0.24.\", FutureWarning)\n"
     ]
    }
   ],
   "source": [
    "anom_multi_dummy = DummyClassifier(random_state=0)\n",
    "anom_multi_dummy.fit(anom_multi_X_train_scl, anom_multi_y_train)\n",
    "anom_multi_dummy_preds = list(anom_multi_dummy.predict(anom_multi_X_test_scl))"
   ]
  },
  {
   "cell_type": "code",
   "execution_count": 74,
   "metadata": {},
   "outputs": [
    {
     "name": "stdout",
     "output_type": "stream",
     "text": [
      "Accuracy: 0.2776951672862453\n",
      "      F1: 0.27377289188976395\n"
     ]
    }
   ],
   "source": [
    "anom_multi_dummy_acc = accuracy_score(anom_multi_y_test, anom_multi_dummy_preds)\n",
    "anom_multi_dummy_f1 = f1_score(anom_multi_y_test, anom_multi_dummy_preds, average='weighted')\n",
    "\n",
    "print('Accuracy:', anom_multi_dummy_acc)\n",
    "print('      F1:', anom_multi_dummy_f1)"
   ]
  },
  {
   "cell_type": "markdown",
   "metadata": {},
   "source": [
    "### Gaussian Naive Bayes"
   ]
  },
  {
   "cell_type": "code",
   "execution_count": 69,
   "metadata": {},
   "outputs": [],
   "source": [
    "anom_multi_gnb = GaussianNB()\n",
    "anom_multi_gnb.fit(anom_multi_X_train_scl, anom_multi_y_train)\n",
    "anom_multi_gnb_preds = list(anom_multi_gnb.predict(anom_multi_X_test_scl))"
   ]
  },
  {
   "cell_type": "code",
   "execution_count": 70,
   "metadata": {},
   "outputs": [
    {
     "name": "stdout",
     "output_type": "stream",
     "text": [
      "Accuracy: 0.3140334572490706\n",
      "      F1: 0.3481777387956166\n"
     ]
    }
   ],
   "source": [
    "anom_multi_gnb_acc = accuracy_score(anom_multi_y_test, anom_multi_gnb_preds)\n",
    "anom_multi_gnb_f1 = f1_score(anom_multi_y_test, anom_multi_gnb_preds, average='weighted')\n",
    "\n",
    "print('Accuracy:', anom_multi_gnb_acc)\n",
    "print('      F1:', anom_multi_gnb_f1)"
   ]
  },
  {
   "cell_type": "markdown",
   "metadata": {},
   "source": [
    "### Decision Tree"
   ]
  },
  {
   "cell_type": "code",
   "execution_count": 71,
   "metadata": {},
   "outputs": [],
   "source": [
    "anom_multi_dt = DecisionTreeClassifier(random_state=0)\n",
    "anom_multi_dt.fit(anom_multi_X_train_scl, anom_multi_y_train)\n",
    "anom_multi_dt_preds = list(anom_multi_dt.predict(anom_multi_X_test_scl))"
   ]
  },
  {
   "cell_type": "code",
   "execution_count": 72,
   "metadata": {},
   "outputs": [
    {
     "name": "stdout",
     "output_type": "stream",
     "text": [
      "Accuracy: 0.8467472118959107\n",
      "      F1: 0.8472017627615264\n"
     ]
    }
   ],
   "source": [
    "anom_multi_dt_acc = accuracy_score(anom_multi_y_test, anom_multi_dt_preds)\n",
    "anom_multi_dt_f1 = f1_score(anom_multi_y_test, anom_multi_dt_preds, average='weighted')\n",
    "\n",
    "print('Accuracy:', anom_multi_dt_acc)\n",
    "print('      F1:', anom_multi_dt_f1)"
   ]
  },
  {
   "cell_type": "markdown",
   "metadata": {},
   "source": [
    "### K Nearest Neighbors"
   ]
  },
  {
   "cell_type": "code",
   "execution_count": 75,
   "metadata": {},
   "outputs": [],
   "source": [
    "anom_multi_knn = KNeighborsClassifier()\n",
    "anom_multi_knn.fit(anom_multi_X_train_scl, anom_multi_y_train)\n",
    "anom_multi_knn_preds = list(anom_multi_knn.predict(anom_multi_X_test_scl))"
   ]
  },
  {
   "cell_type": "code",
   "execution_count": 76,
   "metadata": {},
   "outputs": [
    {
     "name": "stdout",
     "output_type": "stream",
     "text": [
      "Accuracy: 0.8433085501858736\n",
      "      F1: 0.8396681128702419\n"
     ]
    }
   ],
   "source": [
    "anom_multi_knn_acc = accuracy_score(anom_multi_y_test, anom_multi_knn_preds)\n",
    "anom_multi_knn_f1 = f1_score(anom_multi_y_test, anom_multi_knn_preds, average='weighted')\n",
    "\n",
    "print('Accuracy:', anom_multi_knn_acc)\n",
    "print('      F1:', anom_multi_knn_f1)"
   ]
  },
  {
   "cell_type": "markdown",
   "metadata": {},
   "source": [
    "### Random Forest"
   ]
  },
  {
   "cell_type": "code",
   "execution_count": 77,
   "metadata": {},
   "outputs": [],
   "source": [
    "anom_multi_rf = RandomForestClassifier(random_state=0, n_jobs=-1)\n",
    "anom_multi_rf.fit(anom_multi_X_train_scl, anom_multi_y_train)\n",
    "anom_multi_rf_preds = list(anom_multi_rf.predict(anom_multi_X_test_scl))"
   ]
  },
  {
   "cell_type": "code",
   "execution_count": 80,
   "metadata": {},
   "outputs": [
    {
     "name": "stdout",
     "output_type": "stream",
     "text": [
      "Accuracy: 0.8523234200743495\n",
      "      F1: 0.8519008118496785\n"
     ]
    }
   ],
   "source": [
    "anom_multi_rf_acc = accuracy_score(anom_multi_y_test, anom_multi_rf_preds)\n",
    "anom_multi_rf_f1 = f1_score(anom_multi_y_test, anom_multi_rf_preds, average='weighted')\n",
    "\n",
    "print('Accuracy:', anom_multi_rf_acc)\n",
    "print('      F1:', anom_multi_rf_f1)"
   ]
  },
  {
   "cell_type": "markdown",
   "metadata": {},
   "source": [
    "### XGBoost"
   ]
  },
  {
   "cell_type": "code",
   "execution_count": 81,
   "metadata": {},
   "outputs": [],
   "source": [
    "anom_multi_xgb = XGBClassifier(random_state=0, n_jobs=-1)\n",
    "anom_multi_xgb.fit(anom_multi_X_train_scl, anom_multi_y_train)\n",
    "anom_multi_xgb_preds = list(anom_multi_xgb.predict(anom_multi_X_test_scl))"
   ]
  },
  {
   "cell_type": "code",
   "execution_count": 82,
   "metadata": {},
   "outputs": [
    {
     "name": "stdout",
     "output_type": "stream",
     "text": [
      "Accuracy: 0.8650557620817844\n",
      "      F1: 0.8647730500675536\n"
     ]
    }
   ],
   "source": [
    "anom_multi_xgb_acc = accuracy_score(anom_multi_y_test, anom_multi_xgb_preds)\n",
    "anom_multi_xgb_f1 = f1_score(anom_multi_y_test, anom_multi_xgb_preds, average='weighted')\n",
    "\n",
    "print('Accuracy:', anom_multi_xgb_acc)\n",
    "print('      F1:', anom_multi_xgb_f1)"
   ]
  },
  {
   "cell_type": "markdown",
   "metadata": {},
   "source": [
    "### Feature Importances"
   ]
  },
  {
   "cell_type": "markdown",
   "metadata": {},
   "source": [
    "Decision Tree"
   ]
  },
  {
   "cell_type": "code",
   "execution_count": 83,
   "metadata": {},
   "outputs": [
    {
     "data": {
      "text/plain": [
       "[('Bwd_Pkt_Length_Max', 0.17813608910486856),\n",
       " ('Pkt_Length_Min', 0.13232021964005997),\n",
       " ('Fwd_Init_Win_Bytes', 0.07129227402814149),\n",
       " ('Flow_Bytes_Sec', 0.05254508982369269),\n",
       " ('ACK_Flag_Count', 0.04822122872673132),\n",
       " ('Fwd_IAT_Min', 0.048125155685704676),\n",
       " ('Flow_IAT_Max', 0.04057134077946873),\n",
       " ('Bwd_Pkts_Sec', 0.02851069734541092),\n",
       " ('Fwd_Subflow_Bytes', 0.027439768028378247),\n",
       " ('Bwd_Header_Length', 0.027045377146699245)]"
      ]
     },
     "execution_count": 83,
     "metadata": {},
     "output_type": "execute_result"
    }
   ],
   "source": [
    "anom_multi_dt_features = dict(zip(anom_multi_X.columns, anom_multi_dt.feature_importances_))\n",
    "anom_multi_dt_features = sorted(anom_multi_dt_features.items(), key=lambda x: x[1], reverse=True)\n",
    "anom_multi_dt_features[:10]"
   ]
  },
  {
   "cell_type": "markdown",
   "metadata": {},
   "source": [
    "Random Forest"
   ]
  },
  {
   "cell_type": "code",
   "execution_count": 84,
   "metadata": {},
   "outputs": [
    {
     "data": {
      "text/plain": [
       "[('Fwd_Init_Win_Bytes', 0.052314072135577656),\n",
       " ('Pkt_Size_Mean', 0.033927197406239375),\n",
       " ('Pkt_Length_Min', 0.03362226368219828),\n",
       " ('Flow_IAT_Mean', 0.03229548261837191),\n",
       " ('Fwd_Pkt_Length_Min', 0.02929883891176453),\n",
       " ('Fwd_Segment_Size_Mean', 0.029189954369181214),\n",
       " ('Pkt_Length_Mean', 0.02841634731314821),\n",
       " ('Bwd_Segment_Size_Mean', 0.027442983138788266),\n",
       " ('Fwd_Pkts_Sec', 0.02733519211706754),\n",
       " ('Flow_IAT_Max', 0.02732665349636803)]"
      ]
     },
     "execution_count": 84,
     "metadata": {},
     "output_type": "execute_result"
    }
   ],
   "source": [
    "anom_multi_rf_features = dict(zip(anom_multi_X.columns, anom_multi_rf.feature_importances_))\n",
    "anom_multi_rf_features = sorted(anom_multi_rf_features.items(), key=lambda x: x[1], reverse=True)\n",
    "anom_multi_rf_features[:10]"
   ]
  },
  {
   "cell_type": "markdown",
   "metadata": {},
   "source": [
    "XGBoost"
   ]
  },
  {
   "cell_type": "code",
   "execution_count": 85,
   "metadata": {},
   "outputs": [
    {
     "data": {
      "text/plain": [
       "[('Bwd_Pkt_Length_Max', 0.8722749),\n",
       " ('Pkt_Length_Min', 0.014750869),\n",
       " ('ACK_Flag_Count', 0.01015347),\n",
       " ('CWE_Flag_Count', 0.008745772),\n",
       " ('Time_Idle_Std', 0.0071296976),\n",
       " ('PSH_Flag_Count', 0.005871469),\n",
       " ('Bwd_Header_Length', 0.0050045243),\n",
       " ('Fwd_Total_Bytes', 0.0049487054),\n",
       " ('UDP', 0.004383982),\n",
       " ('URG_Flag_Count', 0.0042051356)]"
      ]
     },
     "execution_count": 85,
     "metadata": {},
     "output_type": "execute_result"
    }
   ],
   "source": [
    "anom_multi_xgb_features = dict(zip(anom_multi_X.columns, anom_multi_xgb.feature_importances_))\n",
    "anom_multi_xgb_features = sorted(anom_multi_xgb_features.items(), key=lambda x: x[1], reverse=True)\n",
    "anom_multi_xgb_features[:10]"
   ]
  },
  {
   "cell_type": "markdown",
   "metadata": {},
   "source": [
    "## Confusion Matrix"
   ]
  },
  {
   "cell_type": "code",
   "execution_count": 93,
   "metadata": {
    "scrolled": false
   },
   "outputs": [
    {
     "name": "stdout",
     "output_type": "stream",
     "text": [
      "Normalized confusion matrix\n",
      "[[9.99624765e-01 0.00000000e+00 1.87617261e-04 0.00000000e+00\n",
      "  0.00000000e+00 0.00000000e+00 1.87617261e-04 0.00000000e+00\n",
      "  0.00000000e+00 0.00000000e+00 0.00000000e+00 0.00000000e+00]\n",
      " [1.70648464e-03 7.06484642e-01 2.21843003e-02 3.92491468e-02\n",
      "  6.14334471e-02 2.73037543e-02 8.53242321e-03 4.60750853e-02\n",
      "  4.09556314e-02 0.00000000e+00 1.70648464e-03 4.43686007e-02]\n",
      " [0.00000000e+00 6.50000000e-02 5.77500000e-01 2.50000000e-01\n",
      "  1.25000000e-02 2.00000000e-02 1.50000000e-02 3.25000000e-02\n",
      "  1.50000000e-02 5.00000000e-03 0.00000000e+00 7.50000000e-03]\n",
      " [0.00000000e+00 7.21649485e-02 3.32474227e-01 3.73711340e-01\n",
      "  6.44329897e-02 3.35051546e-02 2.83505155e-02 2.31958763e-02\n",
      "  3.35051546e-02 5.15463918e-03 0.00000000e+00 3.35051546e-02]\n",
      " [1.82481752e-03 4.19708029e-02 3.64963504e-03 7.29927007e-03\n",
      "  7.73722628e-01 5.47445255e-03 5.47445255e-03 4.74452555e-02\n",
      "  7.29927007e-03 0.00000000e+00 3.64963504e-03 1.02189781e-01]\n",
      " [0.00000000e+00 3.20641283e-02 1.00200401e-02 3.20641283e-02\n",
      "  3.60721443e-02 7.33466934e-01 4.80961924e-02 2.40480962e-02\n",
      "  2.60521042e-02 6.01202405e-03 2.00400802e-03 5.01002004e-02]\n",
      " [0.00000000e+00 2.23880597e-02 4.97512438e-03 9.95024876e-03\n",
      "  1.49253731e-02 3.48258706e-02 8.73134328e-01 7.46268657e-03\n",
      "  0.00000000e+00 9.95024876e-03 1.49253731e-02 7.46268657e-03]\n",
      " [0.00000000e+00 7.34463277e-02 1.69491525e-02 1.88323917e-02\n",
      "  1.07344633e-01 1.88323917e-02 0.00000000e+00 6.94915254e-01\n",
      "  1.12994350e-02 0.00000000e+00 0.00000000e+00 5.83804143e-02]\n",
      " [0.00000000e+00 6.17283951e-02 1.23456790e-02 2.22222222e-01\n",
      "  7.40740741e-02 4.19753086e-02 0.00000000e+00 2.22222222e-02\n",
      "  4.93827160e-01 0.00000000e+00 0.00000000e+00 7.16049383e-02]\n",
      " [0.00000000e+00 0.00000000e+00 1.79211470e-03 0.00000000e+00\n",
      "  0.00000000e+00 0.00000000e+00 7.34767025e-02 0.00000000e+00\n",
      "  0.00000000e+00 9.24731183e-01 0.00000000e+00 0.00000000e+00]\n",
      " [1.63398693e-03 1.63398693e-03 0.00000000e+00 0.00000000e+00\n",
      "  4.90196078e-03 1.63398693e-03 3.26797386e-03 0.00000000e+00\n",
      "  1.63398693e-03 0.00000000e+00 9.85294118e-01 0.00000000e+00]\n",
      " [0.00000000e+00 5.18962076e-02 5.98802395e-03 1.59680639e-02\n",
      "  1.15768463e-01 2.19560878e-02 0.00000000e+00 3.59281437e-02\n",
      "  1.99600798e-02 0.00000000e+00 1.19760479e-02 7.20558882e-01]]\n"
     ]
    },
    {
     "data": {
      "image/png": "[encoded data removed]",
      "text/plain": [
       "<Figure size 1440x1440 with 2 Axes>"
      ]
     },
     "metadata": {
      "needs_background": "dark"
     },
     "output_type": "display_data"
    }
   ],
   "source": [
    "cm_xgb_anom_multi = confusion_matrix(anom_multi_y_test, anom_multi_xgb_preds)\n",
    "classes = anomaly_df['Label'].unique()\n",
    "plot_confusion_matrix(cm_xgb_anom_multi, classes, normalize=True,\n",
    "                      title='XGBoost Confusion Matrix', cmap=plt.cm.Blues)\n",
    "\n",
    "# plt.savefig('Images/bal_multi_xgb_conf_matrix.png', dpi = 100)"
   ]
  },
  {
   "cell_type": "markdown",
   "metadata": {},
   "source": [
    "# Export Model Results"
   ]
  },
  {
   "cell_type": "markdown",
   "metadata": {},
   "source": [
    "Scores"
   ]
  },
  {
   "cell_type": "code",
   "execution_count": 99,
   "metadata": {},
   "outputs": [
    {
     "data": {
      "text/html": [
       "<div>\n",
       "<style scoped>\n",
       "    .dataframe tbody tr th:only-of-type {\n",
       "        vertical-align: middle;\n",
       "    }\n",
       "\n",
       "    .dataframe tbody tr th {\n",
       "        vertical-align: top;\n",
       "    }\n",
       "\n",
       "    .dataframe thead th {\n",
       "        text-align: right;\n",
       "    }\n",
       "</style>\n",
       "<table border=\"1\" class=\"dataframe\">\n",
       "  <thead>\n",
       "    <tr style=\"text-align: right;\">\n",
       "      <th></th>\n",
       "      <th>Score</th>\n",
       "      <th>Bal_Binary_Dummy</th>\n",
       "      <th>Bal_Binary_GNB</th>\n",
       "      <th>Bal_Binary_DT</th>\n",
       "      <th>Bal_Binary_KNN</th>\n",
       "      <th>Bal_Binary_RF</th>\n",
       "      <th>Bal_Binary_XGB</th>\n",
       "      <th>Bal_Multicalss_Dummy</th>\n",
       "      <th>Bal_Multiclass_GNB</th>\n",
       "      <th>Bal_Multiclass_DT</th>\n",
       "      <th>Bal_Multiclass_KNN</th>\n",
       "      <th>Bal_Multiclass_RF</th>\n",
       "      <th>Bal_Multiclass_XGB</th>\n",
       "    </tr>\n",
       "  </thead>\n",
       "  <tbody>\n",
       "    <tr>\n",
       "      <th>0</th>\n",
       "      <td>Accuracy</td>\n",
       "      <td>0.503996</td>\n",
       "      <td>0.694331</td>\n",
       "      <td>0.997955</td>\n",
       "      <td>0.996004</td>\n",
       "      <td>0.998885</td>\n",
       "      <td>0.999442</td>\n",
       "      <td>0.277695</td>\n",
       "      <td>0.314033</td>\n",
       "      <td>0.846747</td>\n",
       "      <td>0.843309</td>\n",
       "      <td>0.852323</td>\n",
       "      <td>0.865056</td>\n",
       "    </tr>\n",
       "    <tr>\n",
       "      <th>1</th>\n",
       "      <td>F1_Score</td>\n",
       "      <td>0.501075</td>\n",
       "      <td>0.749600</td>\n",
       "      <td>0.997975</td>\n",
       "      <td>0.996042</td>\n",
       "      <td>0.998895</td>\n",
       "      <td>0.999448</td>\n",
       "      <td>0.273773</td>\n",
       "      <td>0.749600</td>\n",
       "      <td>0.847202</td>\n",
       "      <td>0.839668</td>\n",
       "      <td>0.851901</td>\n",
       "      <td>0.864773</td>\n",
       "    </tr>\n",
       "  </tbody>\n",
       "</table>\n",
       "</div>"
      ],
      "text/plain": [
       "      Score  Bal_Binary_Dummy  Bal_Binary_GNB  Bal_Binary_DT  Bal_Binary_KNN  \\\n",
       "0  Accuracy          0.503996        0.694331       0.997955        0.996004   \n",
       "1  F1_Score          0.501075        0.749600       0.997975        0.996042   \n",
       "\n",
       "   Bal_Binary_RF  Bal_Binary_XGB  Bal_Multicalss_Dummy  Bal_Multiclass_GNB  \\\n",
       "0       0.998885        0.999442              0.277695            0.314033   \n",
       "1       0.998895        0.999448              0.273773            0.749600   \n",
       "\n",
       "   Bal_Multiclass_DT  Bal_Multiclass_KNN  Bal_Multiclass_RF  \\\n",
       "0           0.846747            0.843309           0.852323   \n",
       "1           0.847202            0.839668           0.851901   \n",
       "\n",
       "   Bal_Multiclass_XGB  \n",
       "0            0.865056  \n",
       "1            0.864773  "
      ]
     },
     "execution_count": 99,
     "metadata": {},
     "output_type": "execute_result"
    }
   ],
   "source": [
    "model_scores = pd.DataFrame({\n",
    "    'Score':['Accuracy', 'F1_Score'],\n",
    "    'Bal_Binary_Dummy':[bal_binary_dummy_acc, bal_binary_dummy_f1],\n",
    "    'Bal_Binary_GNB':[bal_binary_gnb_acc, bal_binary_gnb_f1],\n",
    "    'Bal_Binary_DT':[bal_binary_dt_acc, bal_binary_dt_f1],\n",
    "    'Bal_Binary_KNN':[bal_binary_knn_acc, bal_binary_knn_f1],\n",
    "    'Bal_Binary_RF':[bal_binary_rf_acc, bal_binary_rf_f1],\n",
    "    'Bal_Binary_XGB':[bal_binary_xgb_acc, bal_binary_xgb_f1],\n",
    "    'Bal_Multicalss_Dummy':[bal_multi_dummy_acc, bal_multi_dummy_f1],\n",
    "    'Bal_Multiclass_GNB':[bal_multi_gnb_acc, bal_binary_gnb_f1],\n",
    "    'Bal_Multiclass_DT':[bal_multi_dt_acc, bal_multi_dt_f1],\n",
    "    'Bal_Multiclass_KNN':[bal_multi_knn_acc, bal_multi_knn_f1],\n",
    "    'Bal_Multiclass_RF':[bal_multi_rf_acc, bal_multi_rf_f1],\n",
    "    'Bal_Multiclass_XGB':[bal_multi_xgb_acc, bal_multi_xgb_f1]\n",
    "})\n",
    "\n",
    "model_scores"
   ]
  },
  {
   "cell_type": "code",
   "execution_count": 103,
   "metadata": {},
   "outputs": [],
   "source": [
    "# model_scores.to_csv('Model_Results/Model_Scores.csv')"
   ]
  },
  {
   "cell_type": "markdown",
   "metadata": {},
   "source": [
    "Feature importances"
   ]
  },
  {
   "cell_type": "code",
   "execution_count": 101,
   "metadata": {},
   "outputs": [],
   "source": [
    "features = []\n",
    "for i in range(1, len(bal_binary_dt_features)+1):\n",
    "    features.append(f'Feature_{i}')"
   ]
  },
  {
   "cell_type": "code",
   "execution_count": 102,
   "metadata": {},
   "outputs": [
    {
     "data": {
      "text/html": [
       "<div>\n",
       "<style scoped>\n",
       "    .dataframe tbody tr th:only-of-type {\n",
       "        vertical-align: middle;\n",
       "    }\n",
       "\n",
       "    .dataframe tbody tr th {\n",
       "        vertical-align: top;\n",
       "    }\n",
       "\n",
       "    .dataframe thead th {\n",
       "        text-align: right;\n",
       "    }\n",
       "</style>\n",
       "<table border=\"1\" class=\"dataframe\">\n",
       "  <thead>\n",
       "    <tr style=\"text-align: right;\">\n",
       "      <th></th>\n",
       "      <th>Feature</th>\n",
       "      <th>Bal_Binary_DT</th>\n",
       "      <th>Bal_Binary_RF</th>\n",
       "      <th>Bal_Binary_XGB</th>\n",
       "      <th>Bal_Multiclass_DT</th>\n",
       "      <th>Bal_Multiclass_RF</th>\n",
       "      <th>Bal_Multiclass_XGB</th>\n",
       "    </tr>\n",
       "  </thead>\n",
       "  <tbody>\n",
       "    <tr>\n",
       "      <th>0</th>\n",
       "      <td>Feature_1</td>\n",
       "      <td>(Bwd_Pkt_Length_Max, 0.4321718724387804)</td>\n",
       "      <td>(Bwd_Segment_Size_Mean, 0.06479943731326662)</td>\n",
       "      <td>(Bwd_Pkt_Length_Max, 0.7066348)</td>\n",
       "      <td>(Bwd_Pkt_Length_Max, 0.17813608910486856)</td>\n",
       "      <td>(Fwd_Init_Win_Bytes, 0.052314072135577656)</td>\n",
       "      <td>(Bwd_Pkt_Length_Max, 0.8722749)</td>\n",
       "    </tr>\n",
       "    <tr>\n",
       "      <th>1</th>\n",
       "      <td>Feature_2</td>\n",
       "      <td>(Fwd_IAT_Min, 0.09638106984906894)</td>\n",
       "      <td>(Bwd_Pkt_Length_Max, 0.05768429926659383)</td>\n",
       "      <td>(Bwd_Pkt_Length_Mean, 0.046133853)</td>\n",
       "      <td>(Pkt_Length_Min, 0.13232021964005997)</td>\n",
       "      <td>(Pkt_Size_Mean, 0.033927197406239375)</td>\n",
       "      <td>(Pkt_Length_Min, 0.014750869)</td>\n",
       "    </tr>\n",
       "    <tr>\n",
       "      <th>2</th>\n",
       "      <td>Feature_3</td>\n",
       "      <td>(ACK_Flag_Count, 0.09033950805271436)</td>\n",
       "      <td>(Fwd_Init_Win_Bytes, 0.051959549429500464)</td>\n",
       "      <td>(Fwd_Pkt_Length_Std, 0.02572131)</td>\n",
       "      <td>(Fwd_Init_Win_Bytes, 0.07129227402814149)</td>\n",
       "      <td>(Pkt_Length_Min, 0.03362226368219828)</td>\n",
       "      <td>(ACK_Flag_Count, 0.01015347)</td>\n",
       "    </tr>\n",
       "    <tr>\n",
       "      <th>3</th>\n",
       "      <td>Feature_4</td>\n",
       "      <td>(Bwd_Pkts_Sec, 0.04781227881326841)</td>\n",
       "      <td>(Bwd_Pkt_Length_Mean, 0.051723724983398243)</td>\n",
       "      <td>(ACK_Flag_Count, 0.023738889)</td>\n",
       "      <td>(Flow_Bytes_Sec, 0.05254508982369269)</td>\n",
       "      <td>(Flow_IAT_Mean, 0.03229548261837191)</td>\n",
       "      <td>(CWE_Flag_Count, 0.008745772)</td>\n",
       "    </tr>\n",
       "    <tr>\n",
       "      <th>4</th>\n",
       "      <td>Feature_5</td>\n",
       "      <td>(Pkt_Size_Mean, 0.047542461074881436)</td>\n",
       "      <td>(Pkt_Length_Var, 0.05011734358632702)</td>\n",
       "      <td>(Bwd_Pkts_Sec, 0.018046636)</td>\n",
       "      <td>(ACK_Flag_Count, 0.04822122872673132)</td>\n",
       "      <td>(Fwd_Pkt_Length_Min, 0.02929883891176453)</td>\n",
       "      <td>(Time_Idle_Std, 0.0071296976)</td>\n",
       "    </tr>\n",
       "  </tbody>\n",
       "</table>\n",
       "</div>"
      ],
      "text/plain": [
       "     Feature                             Bal_Binary_DT  \\\n",
       "0  Feature_1  (Bwd_Pkt_Length_Max, 0.4321718724387804)   \n",
       "1  Feature_2        (Fwd_IAT_Min, 0.09638106984906894)   \n",
       "2  Feature_3     (ACK_Flag_Count, 0.09033950805271436)   \n",
       "3  Feature_4       (Bwd_Pkts_Sec, 0.04781227881326841)   \n",
       "4  Feature_5     (Pkt_Size_Mean, 0.047542461074881436)   \n",
       "\n",
       "                                  Bal_Binary_RF  \\\n",
       "0  (Bwd_Segment_Size_Mean, 0.06479943731326662)   \n",
       "1     (Bwd_Pkt_Length_Max, 0.05768429926659383)   \n",
       "2    (Fwd_Init_Win_Bytes, 0.051959549429500464)   \n",
       "3   (Bwd_Pkt_Length_Mean, 0.051723724983398243)   \n",
       "4         (Pkt_Length_Var, 0.05011734358632702)   \n",
       "\n",
       "                       Bal_Binary_XGB  \\\n",
       "0     (Bwd_Pkt_Length_Max, 0.7066348)   \n",
       "1  (Bwd_Pkt_Length_Mean, 0.046133853)   \n",
       "2    (Fwd_Pkt_Length_Std, 0.02572131)   \n",
       "3       (ACK_Flag_Count, 0.023738889)   \n",
       "4         (Bwd_Pkts_Sec, 0.018046636)   \n",
       "\n",
       "                           Bal_Multiclass_DT  \\\n",
       "0  (Bwd_Pkt_Length_Max, 0.17813608910486856)   \n",
       "1      (Pkt_Length_Min, 0.13232021964005997)   \n",
       "2  (Fwd_Init_Win_Bytes, 0.07129227402814149)   \n",
       "3      (Flow_Bytes_Sec, 0.05254508982369269)   \n",
       "4      (ACK_Flag_Count, 0.04822122872673132)   \n",
       "\n",
       "                            Bal_Multiclass_RF               Bal_Multiclass_XGB  \n",
       "0  (Fwd_Init_Win_Bytes, 0.052314072135577656)  (Bwd_Pkt_Length_Max, 0.8722749)  \n",
       "1       (Pkt_Size_Mean, 0.033927197406239375)    (Pkt_Length_Min, 0.014750869)  \n",
       "2       (Pkt_Length_Min, 0.03362226368219828)     (ACK_Flag_Count, 0.01015347)  \n",
       "3        (Flow_IAT_Mean, 0.03229548261837191)    (CWE_Flag_Count, 0.008745772)  \n",
       "4   (Fwd_Pkt_Length_Min, 0.02929883891176453)    (Time_Idle_Std, 0.0071296976)  "
      ]
     },
     "execution_count": 102,
     "metadata": {},
     "output_type": "execute_result"
    }
   ],
   "source": [
    "feature_importances = pd.DataFrame({\n",
    "    'Feature':features,\n",
    "    'Bal_Binary_DT':bal_binary_dt_features,\n",
    "    'Bal_Binary_RF':bal_binary_rf_features,\n",
    "    'Bal_Binary_XGB':bal_binary_xgb_features,\n",
    "    'Bal_Multiclass_DT':bal_multi_dt_features,\n",
    "    'Bal_Multiclass_RF':bal_multi_rf_features,\n",
    "    'Bal_Multiclass_XGB':bal_multi_xgb_features\n",
    "})\n",
    "\n",
    "feature_importances.head()"
   ]
  },
  {
   "cell_type": "code",
   "execution_count": 104,
   "metadata": {},
   "outputs": [],
   "source": [
    "# feature_importances.to_csv('Model_Results/Feature_Importances.csv')"
   ]
  },
  {
   "cell_type": "code",
   "execution_count": null,
   "metadata": {},
   "outputs": [],
   "source": []
  }
 ],
 "metadata": {
  "kernelspec": {
   "display_name": "Python 3",
   "language": "python",
   "name": "python3"
  },
  "language_info": {
   "codemirror_mode": {
    "name": "ipython",
    "version": 3
   },
   "file_extension": ".py",
   "mimetype": "text/x-python",
   "name": "python",
   "nbconvert_exporter": "python",
   "pygments_lexer": "ipython3",
   "version": "3.7.7"
  }
 },
 "nbformat": 4,
 "nbformat_minor": 4
}
