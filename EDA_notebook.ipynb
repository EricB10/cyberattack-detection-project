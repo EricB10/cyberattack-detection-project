{
 "cells": [
  {
   "cell_type": "markdown",
   "metadata": {},
   "source": [
    "# Imports"
   ]
  },
  {
   "cell_type": "code",
   "execution_count": 1,
   "metadata": {},
   "outputs": [],
   "source": [
    "import numpy as np\n",
    "import pandas as pd\n",
    "import sqlalchemy\n",
    "\n",
    "import os\n",
    "from datetime import datetime\n",
    "\n",
    "import matplotlib\n",
    "import matplotlib.pyplot as plt\n",
    "%matplotlib inline\n",
    "\n",
    "import seaborn as sns "
   ]
  },
  {
   "cell_type": "code",
   "execution_count": 2,
   "metadata": {},
   "outputs": [],
   "source": [
    "from functions import load_balanced_df"
   ]
  },
  {
   "cell_type": "code",
   "execution_count": 3,
   "metadata": {},
   "outputs": [
    {
     "data": {
      "text/plain": [
       "(22000, 83)"
      ]
     },
     "execution_count": 3,
     "metadata": {},
     "output_type": "execute_result"
    }
   ],
   "source": [
    "balanced_df = load_balanced_df(sample_size=1000)\n",
    "balanced_df.shape"
   ]
  },
  {
   "cell_type": "markdown",
   "metadata": {},
   "source": [
    "Change all benign lables to simply 'benign'"
   ]
  },
  {
   "cell_type": "code",
   "execution_count": 4,
   "metadata": {},
   "outputs": [],
   "source": [
    "benign_filt = balanced_df['Malicious'] == 0\n",
    "balanced_df['Label'] = np.where(benign_filt, 'Benign', balanced_df['Label'])"
   ]
  },
  {
   "cell_type": "markdown",
   "metadata": {},
   "source": [
    "Check target distributions\n"
   ]
  },
  {
   "cell_type": "code",
   "execution_count": 5,
   "metadata": {},
   "outputs": [
    {
     "data": {
      "text/plain": [
       "1    11000\n",
       "0    11000\n",
       "Name: Malicious, dtype: int64"
      ]
     },
     "execution_count": 5,
     "metadata": {},
     "output_type": "execute_result"
    }
   ],
   "source": [
    "balanced_df['Malicious'].value_counts()"
   ]
  },
  {
   "cell_type": "code",
   "execution_count": 6,
   "metadata": {},
   "outputs": [
    {
     "data": {
      "text/plain": [
       "Benign     11000\n",
       "UDP         1000\n",
       "MSSQL       1000\n",
       "SSDP        1000\n",
       "DNS         1000\n",
       "Portmap     1000\n",
       "TFTP        1000\n",
       "SNMP        1000\n",
       "NetBIOS     1000\n",
       "NTP         1000\n",
       "Syn         1000\n",
       "LDAP        1000\n",
       "Name: Label, dtype: int64"
      ]
     },
     "execution_count": 6,
     "metadata": {},
     "output_type": "execute_result"
    }
   ],
   "source": [
    "balanced_df['Label'].value_counts()"
   ]
  },
  {
   "cell_type": "markdown",
   "metadata": {},
   "source": [
    "Model results"
   ]
  },
  {
   "cell_type": "code",
   "execution_count": 7,
   "metadata": {},
   "outputs": [],
   "source": [
    "model_scores = pd.read_csv('Model_Scores.csv', index_col=0)"
   ]
  },
  {
   "cell_type": "code",
   "execution_count": 8,
   "metadata": {},
   "outputs": [],
   "source": [
    "feature_importances = pd.read_csv('Feature_Importances.csv', index_col=0)"
   ]
  },
  {
   "cell_type": "markdown",
   "metadata": {},
   "source": [
    "# Feature Importances"
   ]
  },
  {
   "cell_type": "code",
   "execution_count": 9,
   "metadata": {},
   "outputs": [
    {
     "data": {
      "text/html": [
       "<div>\n",
       "<style scoped>\n",
       "    .dataframe tbody tr th:only-of-type {\n",
       "        vertical-align: middle;\n",
       "    }\n",
       "\n",
       "    .dataframe tbody tr th {\n",
       "        vertical-align: top;\n",
       "    }\n",
       "\n",
       "    .dataframe thead th {\n",
       "        text-align: right;\n",
       "    }\n",
       "</style>\n",
       "<table border=\"1\" class=\"dataframe\">\n",
       "  <thead>\n",
       "    <tr style=\"text-align: right;\">\n",
       "      <th></th>\n",
       "      <th>Score</th>\n",
       "      <th>Bal_Binary_Dummy</th>\n",
       "      <th>Bal_Binary_GNB</th>\n",
       "      <th>Bal_Binary_DT</th>\n",
       "      <th>Bal_Binary_KNN</th>\n",
       "      <th>Bal_Binary_RF</th>\n",
       "      <th>Bal_Binary_XGB</th>\n",
       "      <th>Bal_Multicalss_Dummy</th>\n",
       "      <th>Bal_Multiclass_GNB</th>\n",
       "      <th>Bal_Multiclass_DT</th>\n",
       "      <th>Bal_Multiclass_KNN</th>\n",
       "      <th>Bal_Multiclass_RF</th>\n",
       "      <th>Bal_Multiclass_XGB</th>\n",
       "    </tr>\n",
       "  </thead>\n",
       "  <tbody>\n",
       "    <tr>\n",
       "      <th>0</th>\n",
       "      <td>Accuracy</td>\n",
       "      <td>0.512182</td>\n",
       "      <td>0.822364</td>\n",
       "      <td>0.999091</td>\n",
       "      <td>0.997273</td>\n",
       "      <td>0.998727</td>\n",
       "      <td>1.0</td>\n",
       "      <td>0.000000</td>\n",
       "      <td>0.661636</td>\n",
       "      <td>0.924000</td>\n",
       "      <td>0.919636</td>\n",
       "      <td>0.928000</td>\n",
       "      <td>0.929455</td>\n",
       "    </tr>\n",
       "    <tr>\n",
       "      <th>1</th>\n",
       "      <td>F1_Score</td>\n",
       "      <td>0.512979</td>\n",
       "      <td>0.843855</td>\n",
       "      <td>0.999083</td>\n",
       "      <td>0.997254</td>\n",
       "      <td>0.998715</td>\n",
       "      <td>1.0</td>\n",
       "      <td>0.273325</td>\n",
       "      <td>0.843855</td>\n",
       "      <td>0.932673</td>\n",
       "      <td>0.926212</td>\n",
       "      <td>0.936837</td>\n",
       "      <td>0.938113</td>\n",
       "    </tr>\n",
       "  </tbody>\n",
       "</table>\n",
       "</div>"
      ],
      "text/plain": [
       "      Score  Bal_Binary_Dummy  Bal_Binary_GNB  Bal_Binary_DT  Bal_Binary_KNN  \\\n",
       "0  Accuracy          0.512182        0.822364       0.999091        0.997273   \n",
       "1  F1_Score          0.512979        0.843855       0.999083        0.997254   \n",
       "\n",
       "   Bal_Binary_RF  Bal_Binary_XGB  Bal_Multicalss_Dummy  Bal_Multiclass_GNB  \\\n",
       "0       0.998727             1.0              0.000000            0.661636   \n",
       "1       0.998715             1.0              0.273325            0.843855   \n",
       "\n",
       "   Bal_Multiclass_DT  Bal_Multiclass_KNN  Bal_Multiclass_RF  \\\n",
       "0           0.924000            0.919636           0.928000   \n",
       "1           0.932673            0.926212           0.936837   \n",
       "\n",
       "   Bal_Multiclass_XGB  \n",
       "0            0.929455  \n",
       "1            0.938113  "
      ]
     },
     "execution_count": 9,
     "metadata": {},
     "output_type": "execute_result"
    }
   ],
   "source": [
    "model_scores"
   ]
  },
  {
   "cell_type": "code",
   "execution_count": 10,
   "metadata": {},
   "outputs": [
    {
     "data": {
      "text/html": [
       "<div>\n",
       "<style scoped>\n",
       "    .dataframe tbody tr th:only-of-type {\n",
       "        vertical-align: middle;\n",
       "    }\n",
       "\n",
       "    .dataframe tbody tr th {\n",
       "        vertical-align: top;\n",
       "    }\n",
       "\n",
       "    .dataframe thead th {\n",
       "        text-align: right;\n",
       "    }\n",
       "</style>\n",
       "<table border=\"1\" class=\"dataframe\">\n",
       "  <thead>\n",
       "    <tr style=\"text-align: right;\">\n",
       "      <th></th>\n",
       "      <th>Feature</th>\n",
       "      <th>Bal_Binary_DT</th>\n",
       "      <th>Bal_Binary_RF</th>\n",
       "      <th>Bal_Binary_XGB</th>\n",
       "      <th>Bal_Multiclass_DT</th>\n",
       "      <th>Bal_Multiclass_RF</th>\n",
       "      <th>Bal_Multiclass_XGB</th>\n",
       "    </tr>\n",
       "  </thead>\n",
       "  <tbody>\n",
       "    <tr>\n",
       "      <th>0</th>\n",
       "      <td>Feature_1</td>\n",
       "      <td>('Fwd_Init_Win_Bytes', 0.6428306338135531)</td>\n",
       "      <td>('Fwd_Init_Win_Bytes', 0.13006379633919796)</td>\n",
       "      <td>('Pkt_Size_Mean', 0.36486617)</td>\n",
       "      <td>('Fwd_Init_Win_Bytes', 0.3760219415463435)</td>\n",
       "      <td>('Fwd_Init_Win_Bytes', 0.09528108518799236)</td>\n",
       "      <td>('Time_Idle_Std', 0.5322768)</td>\n",
       "    </tr>\n",
       "    <tr>\n",
       "      <th>1</th>\n",
       "      <td>Feature_2</td>\n",
       "      <td>('Pkt_Size_Mean', 0.1930210912747058)</td>\n",
       "      <td>('TCP', 0.07753190823840336)</td>\n",
       "      <td>('CWE_Flag_Count', 0.14011626)</td>\n",
       "      <td>('Pkt_Size_Mean', 0.2068695948593409)</td>\n",
       "      <td>('Pkt_Length_Min', 0.05587349828782531)</td>\n",
       "      <td>('CWE_Flag_Count', 0.09333151)</td>\n",
       "    </tr>\n",
       "    <tr>\n",
       "      <th>2</th>\n",
       "      <td>Feature_3</td>\n",
       "      <td>('ACK_Flag_Count', 0.06833403894335129)</td>\n",
       "      <td>('Pkt_Length_Min', 0.06621859113300392)</td>\n",
       "      <td>('Fwd_Init_Win_Bytes', 0.13416831)</td>\n",
       "      <td>('Pkt_Length_Max', 0.07462927073131587)</td>\n",
       "      <td>('Pkt_Size_Mean', 0.04205806720737576)</td>\n",
       "      <td>('Fwd_Pkt_Length_Std', 0.060551565)</td>\n",
       "    </tr>\n",
       "    <tr>\n",
       "      <th>3</th>\n",
       "      <td>Feature_4</td>\n",
       "      <td>('URG_Flag_Count', 0.018841893148837326)</td>\n",
       "      <td>('UDP', 0.05545832025128266)</td>\n",
       "      <td>('Fwd_Seg_Size_Min', 0.116157554)</td>\n",
       "      <td>('Fwd_Pkt_Length_Min', 0.06567930518050154)</td>\n",
       "      <td>('Fwd_Pkt_Length_Min', 0.042047606803231656)</td>\n",
       "      <td>('Fwd_Init_Win_Bytes', 0.039122608)</td>\n",
       "    </tr>\n",
       "    <tr>\n",
       "      <th>4</th>\n",
       "      <td>Feature_5</td>\n",
       "      <td>('Fwd_IAT_Std', 0.0170630742980684)</td>\n",
       "      <td>('PSH_Flag_Count', 0.04537413078590603)</td>\n",
       "      <td>('Fwd_PSH_Flags', 0.06968633)</td>\n",
       "      <td>('Fwd_IAT_Max', 0.05131909490594675)</td>\n",
       "      <td>('TCP', 0.04123283077516715)</td>\n",
       "      <td>('Pkt_Length_Min', 0.034679733)</td>\n",
       "    </tr>\n",
       "  </tbody>\n",
       "</table>\n",
       "</div>"
      ],
      "text/plain": [
       "     Feature                               Bal_Binary_DT  \\\n",
       "0  Feature_1  ('Fwd_Init_Win_Bytes', 0.6428306338135531)   \n",
       "1  Feature_2       ('Pkt_Size_Mean', 0.1930210912747058)   \n",
       "2  Feature_3     ('ACK_Flag_Count', 0.06833403894335129)   \n",
       "3  Feature_4    ('URG_Flag_Count', 0.018841893148837326)   \n",
       "4  Feature_5         ('Fwd_IAT_Std', 0.0170630742980684)   \n",
       "\n",
       "                                 Bal_Binary_RF  \\\n",
       "0  ('Fwd_Init_Win_Bytes', 0.13006379633919796)   \n",
       "1                 ('TCP', 0.07753190823840336)   \n",
       "2      ('Pkt_Length_Min', 0.06621859113300392)   \n",
       "3                 ('UDP', 0.05545832025128266)   \n",
       "4      ('PSH_Flag_Count', 0.04537413078590603)   \n",
       "\n",
       "                       Bal_Binary_XGB  \\\n",
       "0       ('Pkt_Size_Mean', 0.36486617)   \n",
       "1      ('CWE_Flag_Count', 0.14011626)   \n",
       "2  ('Fwd_Init_Win_Bytes', 0.13416831)   \n",
       "3   ('Fwd_Seg_Size_Min', 0.116157554)   \n",
       "4       ('Fwd_PSH_Flags', 0.06968633)   \n",
       "\n",
       "                             Bal_Multiclass_DT  \\\n",
       "0   ('Fwd_Init_Win_Bytes', 0.3760219415463435)   \n",
       "1        ('Pkt_Size_Mean', 0.2068695948593409)   \n",
       "2      ('Pkt_Length_Max', 0.07462927073131587)   \n",
       "3  ('Fwd_Pkt_Length_Min', 0.06567930518050154)   \n",
       "4         ('Fwd_IAT_Max', 0.05131909490594675)   \n",
       "\n",
       "                              Bal_Multiclass_RF  \\\n",
       "0   ('Fwd_Init_Win_Bytes', 0.09528108518799236)   \n",
       "1       ('Pkt_Length_Min', 0.05587349828782531)   \n",
       "2        ('Pkt_Size_Mean', 0.04205806720737576)   \n",
       "3  ('Fwd_Pkt_Length_Min', 0.042047606803231656)   \n",
       "4                  ('TCP', 0.04123283077516715)   \n",
       "\n",
       "                    Bal_Multiclass_XGB  \n",
       "0         ('Time_Idle_Std', 0.5322768)  \n",
       "1       ('CWE_Flag_Count', 0.09333151)  \n",
       "2  ('Fwd_Pkt_Length_Std', 0.060551565)  \n",
       "3  ('Fwd_Init_Win_Bytes', 0.039122608)  \n",
       "4      ('Pkt_Length_Min', 0.034679733)  "
      ]
     },
     "execution_count": 10,
     "metadata": {},
     "output_type": "execute_result"
    }
   ],
   "source": [
    "feature_importances.head()"
   ]
  },
  {
   "cell_type": "markdown",
   "metadata": {},
   "source": [
    "Most important features across all models"
   ]
  },
  {
   "cell_type": "code",
   "execution_count": 11,
   "metadata": {},
   "outputs": [
    {
     "data": {
      "text/plain": [
       "['Fwd_Init_Win_Bytes',\n",
       " 'Pkt_Size_Mean',\n",
       " 'Time_Idle_Std',\n",
       " 'Pkt_Length_Mean',\n",
       " 'Pkt_Length_Min',\n",
       " 'Pkt_Length_Max',\n",
       " 'CWE_Flag_Count',\n",
       " 'TCP',\n",
       " 'UDP']"
      ]
     },
     "execution_count": 11,
     "metadata": {},
     "output_type": "execute_result"
    }
   ],
   "source": [
    "important_features = ['Fwd_Init_Win_Bytes', 'Pkt_Size_Mean', 'Time_Idle_Std', 'Pkt_Length_Mean', 'Pkt_Length_Min',\n",
    "                      'Pkt_Length_Max', 'CWE_Flag_Count', 'TCP', 'UDP']\n",
    "important_features"
   ]
  },
  {
   "cell_type": "markdown",
   "metadata": {},
   "source": [
    "## Protocol EDA"
   ]
  },
  {
   "cell_type": "code",
   "execution_count": 12,
   "metadata": {},
   "outputs": [
    {
     "data": {
      "text/plain": [
       "Text(0, 0.5, 'Num Data Flows')"
      ]
     },
     "execution_count": 12,
     "metadata": {},
     "output_type": "execute_result"
    },
    {
     "data": {
      "image/png": "[encoded data removed]",
      "text/plain": [
       "<Figure size 720x432 with 1 Axes>"
      ]
     },
     "metadata": {
      "needs_background": "dark"
     },
     "output_type": "display_data"
    }
   ],
   "source": [
    "plot = balanced_df[balanced_df['TCP'] == 1]['Malicious'].value_counts(sort=False).plot(kind='bar', figsize=(10,6), fontsize=14)\n",
    "\n",
    "plot.set_title('TCP', fontsize=20, pad=10)\n",
    "plot.set_ylabel('Num Data Flows', fontsize=18, labelpad=10)\n",
    "#plot.set_xticklabels(['Benign', 'Malicious'], rotation=0)"
   ]
  },
  {
   "cell_type": "code",
   "execution_count": 13,
   "metadata": {},
   "outputs": [
    {
     "data": {
      "text/plain": [
       "Text(0, 0.5, 'Num Data Flows')"
      ]
     },
     "execution_count": 13,
     "metadata": {},
     "output_type": "execute_result"
    },
    {
     "data": {
      "image/png": "[encoded data removed]",
      "text/plain": [
       "<Figure size 720x432 with 1 Axes>"
      ]
     },
     "metadata": {
      "needs_background": "dark"
     },
     "output_type": "display_data"
    }
   ],
   "source": [
    "plot = balanced_df[balanced_df['UDP'] == 1]['Malicious'].value_counts(sort=False).plot(kind='bar', figsize=(10,6), fontsize=14)\n",
    "\n",
    "plot.set_title('UDP', fontsize=20, pad=10)\n",
    "plot.set_ylabel('Num Data Flows', fontsize=18, labelpad=10)\n",
    "#plot.set_xticklabels(['Benign', 'Malicious'], rotation=0)"
   ]
  },
  {
   "cell_type": "code",
   "execution_count": 14,
   "metadata": {},
   "outputs": [
    {
     "data": {
      "text/plain": [
       "Text(0, 0.5, 'Num Data Flows')"
      ]
     },
     "execution_count": 14,
     "metadata": {},
     "output_type": "execute_result"
    },
    {
     "data": {
      "image/png": "[encoded data removed]",
      "text/plain": [
       "<Figure size 720x432 with 1 Axes>"
      ]
     },
     "metadata": {
      "needs_background": "dark"
     },
     "output_type": "display_data"
    }
   ],
   "source": [
    "plot = balanced_df[balanced_df['HOPOPT'] == 1]['Malicious'].value_counts(sort=False).plot(kind='bar', figsize=(10,6), fontsize=14)\n",
    "\n",
    "plot.set_title('HOPOPT', fontsize=20, pad=10)\n",
    "plot.set_ylabel('Num Data Flows', fontsize=18, labelpad=10)\n",
    "#plot.set_xticklabels(['Benign', 'Malicious'], rotation=0)"
   ]
  },
  {
   "cell_type": "markdown",
   "metadata": {},
   "source": [
    "Most of the benign data collected is TCP, but there is still enough benign UDP in the dataset.\n",
    "\n",
    "The majority of DDOS attacks use UDP, but some can be executed over TCP.\n",
    "\n",
    "Almost "
   ]
  },
  {
   "cell_type": "markdown",
   "metadata": {},
   "source": [
    "# Initial Flow Window EDA"
   ]
  },
  {
   "cell_type": "code",
   "execution_count": 15,
   "metadata": {},
   "outputs": [
    {
     "data": {
      "text/plain": [
       "count    11000.000000\n",
       "mean      9997.901273\n",
       "std      15485.562218\n",
       "min          0.000000\n",
       "25%        327.000000\n",
       "50%       8192.000000\n",
       "75%      14600.000000\n",
       "max      65535.000000\n",
       "Name: Fwd_Init_Win_Bytes, dtype: float64"
      ]
     },
     "execution_count": 15,
     "metadata": {},
     "output_type": "execute_result"
    }
   ],
   "source": [
    "balanced_df[balanced_df['Malicious'] == 0]['Fwd_Init_Win_Bytes'].describe()"
   ]
  },
  {
   "cell_type": "code",
   "execution_count": 16,
   "metadata": {},
   "outputs": [
    {
     "data": {
      "text/plain": [
       "<seaborn.axisgrid.FacetGrid at 0x7fbb31d0cf90>"
      ]
     },
     "execution_count": 16,
     "metadata": {},
     "output_type": "execute_result"
    },
    {
     "data": {
      "image/png": "[encoded data removed]",
      "text/plain": [
       "<Figure size 814.985x720 with 1 Axes>"
      ]
     },
     "metadata": {
      "needs_background": "dark"
     },
     "output_type": "display_data"
    }
   ],
   "source": [
    "plot = sns.catplot(x='Malicious', y='Fwd_Init_Win_Bytes', hue='Label', data=balanced_df, height=10, aspect=1)\n",
    "\n",
    "plt.title('Num of Bytes in Initial Forward Flow', fontsize=20)\n",
    "plt.xlabel('')\n",
    "plt.ylabel('Bytes', fontsize=20)\n",
    "plt.setp(plot._legend.get_title(), fontsize=20)\n",
    "plot.set_xticklabels(['Benign', 'Malicious'], fontsize=20)"
   ]
  },
  {
   "cell_type": "code",
   "execution_count": null,
   "metadata": {},
   "outputs": [],
   "source": []
  },
  {
   "cell_type": "code",
   "execution_count": null,
   "metadata": {},
   "outputs": [],
   "source": []
  },
  {
   "cell_type": "code",
   "execution_count": null,
   "metadata": {},
   "outputs": [],
   "source": [
    "# LDA topic distribution over time\n",
    "topics_over_time = df.groupby('date').lda.value_counts(normalize=True).unstack()\n",
    "\n",
    "p1 = topics_over_time.plot.area(stacked = True, figsize=(10,6), alpha = .70, fontsize=14)\n",
    "\n",
    "p1.set_title('Topic Distribution Over Time', fontsize=20, pad=10)\n",
    "p1.set_xlabel('Date', fontsize=18, labelpad=10)\n",
    "p1.set_ylabel('Percentage of Tweets', fontsize=18, labelpad=10)\n",
    "p1.legend(['lda_0', 'lda_1','lda_2', 'lda_3', 'lda_4'], facecolor='white',\n",
    "          framealpha=1, bbox_to_anchor=(1.01, 1.0), loc='upper left')\n",
    "\n",
    "# plt.savefig('Images/topic_distribution_over_time.png', dpi = 100)"
   ]
  },
  {
   "cell_type": "code",
   "execution_count": null,
   "metadata": {},
   "outputs": [],
   "source": []
  },
  {
   "cell_type": "code",
   "execution_count": null,
   "metadata": {},
   "outputs": [],
   "source": []
  },
  {
   "cell_type": "code",
   "execution_count": null,
   "metadata": {},
   "outputs": [],
   "source": []
  },
  {
   "cell_type": "markdown",
   "metadata": {},
   "source": [
    "# SQL"
   ]
  },
  {
   "cell_type": "code",
   "execution_count": 25,
   "metadata": {},
   "outputs": [],
   "source": [
    "engine = sqlalchemy.create_engine('sqlite:///test.sqlite')"
   ]
  },
  {
   "cell_type": "code",
   "execution_count": 26,
   "metadata": {},
   "outputs": [],
   "source": [
    "df.to_sql(name='test', con=engine, if_exists='replace')"
   ]
  },
  {
   "cell_type": "code",
   "execution_count": null,
   "metadata": {},
   "outputs": [],
   "source": []
  }
 ],
 "metadata": {
  "kernelspec": {
   "display_name": "Python 3",
   "language": "python",
   "name": "python3"
  },
  "language_info": {
   "codemirror_mode": {
    "name": "ipython",
    "version": 3
   },
   "file_extension": ".py",
   "mimetype": "text/x-python",
   "name": "python",
   "nbconvert_exporter": "python",
   "pygments_lexer": "ipython3",
   "version": "3.7.7"
  }
 },
 "nbformat": 4,
 "nbformat_minor": 4
}
