{
 "cells": [
  {
   "cell_type": "markdown",
   "metadata": {},
   "source": [
    "# Imports"
   ]
  },
  {
   "cell_type": "code",
   "execution_count": 1,
   "metadata": {},
   "outputs": [],
   "source": [
    "import numpy as np\n",
    "import pandas as pd\n",
    "import sqlalchemy\n",
    "\n",
    "import os\n",
    "from datetime import datetime\n",
    "\n",
    "import matplotlib\n",
    "import matplotlib.pyplot as plt\n",
    "%matplotlib inline\n",
    "\n",
    "import seaborn as sns "
   ]
  },
  {
   "cell_type": "code",
   "execution_count": 2,
   "metadata": {},
   "outputs": [],
   "source": [
    "from functions import load_balanced_df"
   ]
  },
  {
   "cell_type": "code",
   "execution_count": 3,
   "metadata": {},
   "outputs": [
    {
     "data": {
      "text/plain": [
       "(22000, 83)"
      ]
     },
     "execution_count": 3,
     "metadata": {},
     "output_type": "execute_result"
    }
   ],
   "source": [
    "balanced_df = load_balanced_df(sample_size=1000)\n",
    "balanced_df.shape"
   ]
  },
  {
   "cell_type": "code",
   "execution_count": 20,
   "metadata": {},
   "outputs": [],
   "source": [
    "feature_importances = pd.read_csv('Feature_Importances.csv', index_col=0)"
   ]
  },
  {
   "cell_type": "markdown",
   "metadata": {},
   "source": [
    "# Feature Importances"
   ]
  },
  {
   "cell_type": "code",
   "execution_count": 22,
   "metadata": {},
   "outputs": [
    {
     "data": {
      "text/html": [
       "<div>\n",
       "<style scoped>\n",
       "    .dataframe tbody tr th:only-of-type {\n",
       "        vertical-align: middle;\n",
       "    }\n",
       "\n",
       "    .dataframe tbody tr th {\n",
       "        vertical-align: top;\n",
       "    }\n",
       "\n",
       "    .dataframe thead th {\n",
       "        text-align: right;\n",
       "    }\n",
       "</style>\n",
       "<table border=\"1\" class=\"dataframe\">\n",
       "  <thead>\n",
       "    <tr style=\"text-align: right;\">\n",
       "      <th></th>\n",
       "      <th>Bal_Binary_DT</th>\n",
       "      <th>Bal_Binary_RF</th>\n",
       "      <th>Bal_Binary_XGB</th>\n",
       "      <th>Bal_Multiclass_DT</th>\n",
       "      <th>Bal_Multiclass_RF</th>\n",
       "      <th>Bal_Multiclass_XGB</th>\n",
       "    </tr>\n",
       "  </thead>\n",
       "  <tbody>\n",
       "    <tr>\n",
       "      <th>0</th>\n",
       "      <td>('Fwd_Init_Win_Bytes', 0.6428306338135531)</td>\n",
       "      <td>('Fwd_Init_Win_Bytes', 0.13006379633919796)</td>\n",
       "      <td>('Pkt_Size_Mean', 0.36486617)</td>\n",
       "      <td>('Fwd_Init_Win_Bytes', 0.2143835961687491)</td>\n",
       "      <td>('Fwd_Init_Win_Bytes', 0.08034806436338668)</td>\n",
       "      <td>('CWE_Flag_Count', 0.28047776)</td>\n",
       "    </tr>\n",
       "    <tr>\n",
       "      <th>1</th>\n",
       "      <td>('Pkt_Size_Mean', 0.1930210912747058)</td>\n",
       "      <td>('TCP', 0.07753190823840336)</td>\n",
       "      <td>('CWE_Flag_Count', 0.14011626)</td>\n",
       "      <td>('Pkt_Length_Max', 0.09423744659378896)</td>\n",
       "      <td>('Pkt_Size_Mean', 0.03643291733160851)</td>\n",
       "      <td>('Time_Idle_Std', 0.2735688)</td>\n",
       "    </tr>\n",
       "    <tr>\n",
       "      <th>2</th>\n",
       "      <td>('ACK_Flag_Count', 0.06833403894335129)</td>\n",
       "      <td>('Pkt_Length_Min', 0.06621859113300392)</td>\n",
       "      <td>('Fwd_Init_Win_Bytes', 0.13416831)</td>\n",
       "      <td>('Pkt_Size_Mean', 0.08632271001755208)</td>\n",
       "      <td>('Pkt_Length_Mean', 0.03487357452590774)</td>\n",
       "      <td>('URG_Flag_Count', 0.07246596)</td>\n",
       "    </tr>\n",
       "    <tr>\n",
       "      <th>3</th>\n",
       "      <td>('URG_Flag_Count', 0.018841893148837326)</td>\n",
       "      <td>('UDP', 0.05545832025128266)</td>\n",
       "      <td>('Fwd_Seg_Size_Min', 0.116157554)</td>\n",
       "      <td>('Bwd_Init_Win_Bytes', 0.05655107384553676)</td>\n",
       "      <td>('Pkt_Length_Min', 0.034734471535705094)</td>\n",
       "      <td>('Fwd_PSH_Flags', 0.041315567)</td>\n",
       "    </tr>\n",
       "    <tr>\n",
       "      <th>4</th>\n",
       "      <td>('Fwd_IAT_Std', 0.0170630742980684)</td>\n",
       "      <td>('PSH_Flag_Count', 0.04537413078590603)</td>\n",
       "      <td>('Fwd_PSH_Flags', 0.06968633)</td>\n",
       "      <td>('Fwd_IAT_Max', 0.055096038638832355)</td>\n",
       "      <td>('Pkt_Length_Max', 0.034538801613073135)</td>\n",
       "      <td>('Pkt_Length_Min', 0.041182514)</td>\n",
       "    </tr>\n",
       "  </tbody>\n",
       "</table>\n",
       "</div>"
      ],
      "text/plain": [
       "                                Bal_Binary_DT  \\\n",
       "0  ('Fwd_Init_Win_Bytes', 0.6428306338135531)   \n",
       "1       ('Pkt_Size_Mean', 0.1930210912747058)   \n",
       "2     ('ACK_Flag_Count', 0.06833403894335129)   \n",
       "3    ('URG_Flag_Count', 0.018841893148837326)   \n",
       "4         ('Fwd_IAT_Std', 0.0170630742980684)   \n",
       "\n",
       "                                 Bal_Binary_RF  \\\n",
       "0  ('Fwd_Init_Win_Bytes', 0.13006379633919796)   \n",
       "1                 ('TCP', 0.07753190823840336)   \n",
       "2      ('Pkt_Length_Min', 0.06621859113300392)   \n",
       "3                 ('UDP', 0.05545832025128266)   \n",
       "4      ('PSH_Flag_Count', 0.04537413078590603)   \n",
       "\n",
       "                       Bal_Binary_XGB  \\\n",
       "0       ('Pkt_Size_Mean', 0.36486617)   \n",
       "1      ('CWE_Flag_Count', 0.14011626)   \n",
       "2  ('Fwd_Init_Win_Bytes', 0.13416831)   \n",
       "3   ('Fwd_Seg_Size_Min', 0.116157554)   \n",
       "4       ('Fwd_PSH_Flags', 0.06968633)   \n",
       "\n",
       "                             Bal_Multiclass_DT  \\\n",
       "0   ('Fwd_Init_Win_Bytes', 0.2143835961687491)   \n",
       "1      ('Pkt_Length_Max', 0.09423744659378896)   \n",
       "2       ('Pkt_Size_Mean', 0.08632271001755208)   \n",
       "3  ('Bwd_Init_Win_Bytes', 0.05655107384553676)   \n",
       "4        ('Fwd_IAT_Max', 0.055096038638832355)   \n",
       "\n",
       "                             Bal_Multiclass_RF  \\\n",
       "0  ('Fwd_Init_Win_Bytes', 0.08034806436338668)   \n",
       "1       ('Pkt_Size_Mean', 0.03643291733160851)   \n",
       "2     ('Pkt_Length_Mean', 0.03487357452590774)   \n",
       "3     ('Pkt_Length_Min', 0.034734471535705094)   \n",
       "4     ('Pkt_Length_Max', 0.034538801613073135)   \n",
       "\n",
       "                Bal_Multiclass_XGB  \n",
       "0   ('CWE_Flag_Count', 0.28047776)  \n",
       "1     ('Time_Idle_Std', 0.2735688)  \n",
       "2   ('URG_Flag_Count', 0.07246596)  \n",
       "3   ('Fwd_PSH_Flags', 0.041315567)  \n",
       "4  ('Pkt_Length_Min', 0.041182514)  "
      ]
     },
     "execution_count": 22,
     "metadata": {},
     "output_type": "execute_result"
    }
   ],
   "source": [
    "feature_importances.head()"
   ]
  },
  {
   "cell_type": "markdown",
   "metadata": {},
   "source": [
    "Most important features across all models"
   ]
  },
  {
   "cell_type": "code",
   "execution_count": 19,
   "metadata": {},
   "outputs": [
    {
     "data": {
      "text/plain": [
       "['Fwd_Init_Win_Bytes',\n",
       " 'Pkt_Size_Mean',\n",
       " 'Pkt_Length_Mean',\n",
       " 'CWE_Flag_Count',\n",
       " 'URG_Flag_Count',\n",
       " 'Time_Idle_Std',\n",
       " 'TCP',\n",
       " 'UDP']"
      ]
     },
     "execution_count": 19,
     "metadata": {},
     "output_type": "execute_result"
    }
   ],
   "source": [
    "important_features = ['Fwd_Init_Win_Bytes', 'Pkt_Size_Mean', 'Pkt_Length_Mean', 'CWE_Flag_Count', 'URG_Flag_Count', 'Time_Idle_Std', 'TCP', 'UDP']\n",
    "important_features"
   ]
  },
  {
   "cell_type": "markdown",
   "metadata": {},
   "source": [
    "## By Protocol"
   ]
  },
  {
   "cell_type": "code",
   "execution_count": 17,
   "metadata": {},
   "outputs": [
    {
     "data": {
      "text/plain": [
       "0    7518\n",
       "1    3482\n",
       "Name: TCP, dtype: int64"
      ]
     },
     "execution_count": 17,
     "metadata": {},
     "output_type": "execute_result"
    }
   ],
   "source": [
    "balanced_df[balanced_df['Malicious'] == 1]['TCP'].value_counts()"
   ]
  },
  {
   "cell_type": "code",
   "execution_count": 24,
   "metadata": {},
   "outputs": [
    {
     "data": {
      "text/plain": [
       "1    7490\n",
       "0    3510\n",
       "Name: UDP, dtype: int64"
      ]
     },
     "execution_count": 24,
     "metadata": {},
     "output_type": "execute_result"
    }
   ],
   "source": [
    "balanced_df[balanced_df['Malicious'] == 1]['UDP'].value_counts()"
   ]
  },
  {
   "cell_type": "code",
   "execution_count": null,
   "metadata": {},
   "outputs": [],
   "source": [
    "balanced_df[balanced_df['Malicious'] == 1]['UDP'].value_counts()"
   ]
  },
  {
   "cell_type": "code",
   "execution_count": 25,
   "metadata": {},
   "outputs": [],
   "source": [
    "engine = sqlalchemy.create_engine('sqlite:///test.sqlite')"
   ]
  },
  {
   "cell_type": "code",
   "execution_count": 26,
   "metadata": {},
   "outputs": [],
   "source": [
    "df.to_sql(name='test', con=engine, if_exists='replace')"
   ]
  },
  {
   "cell_type": "code",
   "execution_count": null,
   "metadata": {},
   "outputs": [],
   "source": []
  }
 ],
 "metadata": {
  "kernelspec": {
   "display_name": "Python 3",
   "language": "python",
   "name": "python3"
  },
  "language_info": {
   "codemirror_mode": {
    "name": "ipython",
    "version": 3
   },
   "file_extension": ".py",
   "mimetype": "text/x-python",
   "name": "python",
   "nbconvert_exporter": "python",
   "pygments_lexer": "ipython3",
   "version": "3.7.7"
  }
 },
 "nbformat": 4,
 "nbformat_minor": 4
}
