{
 "cells": [
  {
   "cell_type": "markdown",
   "metadata": {},
   "source": [
    "# Imports"
   ]
  },
  {
   "cell_type": "code",
   "execution_count": 1,
   "metadata": {},
   "outputs": [],
   "source": [
    "import numpy as np\n",
    "import pandas as pd\n",
    "\n",
    "import os\n",
    "\n",
    "from datetime import datetime\n",
    "\n",
    "import matplotlib\n",
    "import matplotlib.pyplot as plt\n",
    "%matplotlib inline\n",
    "\n",
    "import seaborn as sns"
   ]
  },
  {
   "cell_type": "markdown",
   "metadata": {},
   "source": [
    "# EDA"
   ]
  },
  {
   "cell_type": "code",
   "execution_count": 2,
   "metadata": {},
   "outputs": [
    {
     "data": {
      "text/plain": [
       "(100000, 82)"
      ]
     },
     "execution_count": 2,
     "metadata": {},
     "output_type": "execute_result"
    }
   ],
   "source": [
    "df = pd.read_csv('Datasets/Cleaned/clean_01-12_DrDoS_DNS.csv', index_col=0, nrows=100000)\n",
    "df.shape"
   ]
  },
  {
   "cell_type": "code",
   "execution_count": 3,
   "metadata": {},
   "outputs": [
    {
     "data": {
      "text/plain": [
       "Index(['Flow_Duration', 'Fwd_Total_Pkts', 'Bwd_Total_Pkts', 'Fwd_Total_Bytes',\n",
       "       'Bwd_Total_Bytes', 'Fwd_Pkt_Length_Max', 'Fwd_Pkt_Length_Min',\n",
       "       'Fwd_Pkt_Length_Mean', 'Fwd_Pkt_Length_Std', 'Bwd_Pkt_Length_Max',\n",
       "       'Bwd_Pkt_Length_Min', 'Bwd_Pkt_Length_Mean', 'Bwd_Pkt_Length_Std',\n",
       "       'Flow_Bytes_Sec', 'Flow_Pkts_Sec', 'Flow_IAT_Mean', 'Flow_IAT_Std',\n",
       "       'Flow_IAT_Max', 'Flow_IAT_Min', 'Fwd_IAT_Total', 'Fwd_IAT_Mean',\n",
       "       'Fwd_IAT_Std', 'Fwd_IAT_Max', 'Fwd_IAT_Min', 'Bwd_IAT_Total',\n",
       "       'Bwd_IAT_Mean', 'Bwd_IAT_Std', 'Bwd_IAT_Max', 'Bwd_IAT_Min',\n",
       "       'Fwd_PSH_Flags', 'Bwd_PSH_Flags', 'Fwd_URG_Flags', 'Bwd_URG_Flags',\n",
       "       'Fwd_Header_Length', 'Bwd_Header_Length', 'Fwd_Pkts_Sec',\n",
       "       'Bwd_Pkts_Sec', 'Pkt_Length_Min', 'Pkt_Length_Max', 'Pkt_Length_Mean',\n",
       "       'Pkt_Length_Std', 'Pkt_Length_Var', 'FIN_Flag_Count', 'SYN_Flag_Count',\n",
       "       'RST_Flag_Count', 'PSH_Flag_Count', 'ACK_Flag_Count', 'URG_Flag_Count',\n",
       "       'CWE_Flag_Count', 'ECE_Flag_Count', 'Down_Up_Ratio', 'Pkt_Size_Mean',\n",
       "       'Fwd_Segment_Size_Mean', 'Bwd_Segment_Size_Mean', 'Fwd_Header_Length_1',\n",
       "       'Fwd_Byte_Bulk_Rate_Mean', 'Fwd_Pkt_Bulk_Rate_Mean',\n",
       "       'Fwd_Num_Bulk_Rate_Mean', 'Bwd_Byte_Bulk_Rate_Mean',\n",
       "       'Bwd_Pkt_Bulk_Rate_Mean', 'Bwd_Num_Bulk_Rate_Mean', 'Fwd_Subflow_Pkts',\n",
       "       'Fwd_Subflow_Bytes', 'Bwd_Subflow_Pkts', 'Bwd_Subflow_Bytes',\n",
       "       'Fwd_Init_Win_Bytes', 'Bwd_Init_Win_Bytes', 'Fwd_Act_Data_Pkt',\n",
       "       'Fwd_Seg_Size_Min', 'Time_Active_Mean', 'Time_Active_Std',\n",
       "       'Time_Active_Max', 'Time_Active_Min', 'Time_Idle_Mean', 'Time_Idle_Std',\n",
       "       'Time_Idle_Max', 'Time_Idle_Min', 'Label', 'HOPOPT', 'TCP', 'UDP',\n",
       "       'Malicious'],\n",
       "      dtype='object')"
      ]
     },
     "execution_count": 3,
     "metadata": {},
     "output_type": "execute_result"
    }
   ],
   "source": [
    "df.columns"
   ]
  },
  {
   "cell_type": "code",
   "execution_count": 4,
   "metadata": {},
   "outputs": [
    {
     "data": {
      "text/html": [
       "<div>\n",
       "<style scoped>\n",
       "    .dataframe tbody tr th:only-of-type {\n",
       "        vertical-align: middle;\n",
       "    }\n",
       "\n",
       "    .dataframe tbody tr th {\n",
       "        vertical-align: top;\n",
       "    }\n",
       "\n",
       "    .dataframe thead th {\n",
       "        text-align: right;\n",
       "    }\n",
       "</style>\n",
       "<table border=\"1\" class=\"dataframe\">\n",
       "  <thead>\n",
       "    <tr style=\"text-align: right;\">\n",
       "      <th></th>\n",
       "      <th>Flow_Duration</th>\n",
       "      <th>Fwd_Total_Pkts</th>\n",
       "      <th>Bwd_Total_Pkts</th>\n",
       "      <th>Fwd_Total_Bytes</th>\n",
       "      <th>Bwd_Total_Bytes</th>\n",
       "      <th>Fwd_Pkt_Length_Max</th>\n",
       "      <th>Fwd_Pkt_Length_Min</th>\n",
       "      <th>Fwd_Pkt_Length_Mean</th>\n",
       "      <th>Fwd_Pkt_Length_Std</th>\n",
       "      <th>Bwd_Pkt_Length_Max</th>\n",
       "      <th>...</th>\n",
       "      <th>Time_Active_Min</th>\n",
       "      <th>Time_Idle_Mean</th>\n",
       "      <th>Time_Idle_Std</th>\n",
       "      <th>Time_Idle_Max</th>\n",
       "      <th>Time_Idle_Min</th>\n",
       "      <th>Label</th>\n",
       "      <th>HOPOPT</th>\n",
       "      <th>TCP</th>\n",
       "      <th>UDP</th>\n",
       "      <th>Malicious</th>\n",
       "    </tr>\n",
       "  </thead>\n",
       "  <tbody>\n",
       "    <tr>\n",
       "      <th>0</th>\n",
       "      <td>28415</td>\n",
       "      <td>97</td>\n",
       "      <td>0</td>\n",
       "      <td>42680.0</td>\n",
       "      <td>0.0</td>\n",
       "      <td>440.0</td>\n",
       "      <td>440.0</td>\n",
       "      <td>440.0</td>\n",
       "      <td>0.0</td>\n",
       "      <td>0.0</td>\n",
       "      <td>...</td>\n",
       "      <td>0.0</td>\n",
       "      <td>0.0</td>\n",
       "      <td>0.0</td>\n",
       "      <td>0.0</td>\n",
       "      <td>0.0</td>\n",
       "      <td>DrDoS_DNS</td>\n",
       "      <td>0</td>\n",
       "      <td>0</td>\n",
       "      <td>1</td>\n",
       "      <td>1</td>\n",
       "    </tr>\n",
       "    <tr>\n",
       "      <th>1</th>\n",
       "      <td>2</td>\n",
       "      <td>2</td>\n",
       "      <td>0</td>\n",
       "      <td>880.0</td>\n",
       "      <td>0.0</td>\n",
       "      <td>440.0</td>\n",
       "      <td>440.0</td>\n",
       "      <td>440.0</td>\n",
       "      <td>0.0</td>\n",
       "      <td>0.0</td>\n",
       "      <td>...</td>\n",
       "      <td>0.0</td>\n",
       "      <td>0.0</td>\n",
       "      <td>0.0</td>\n",
       "      <td>0.0</td>\n",
       "      <td>0.0</td>\n",
       "      <td>DrDoS_DNS</td>\n",
       "      <td>0</td>\n",
       "      <td>0</td>\n",
       "      <td>1</td>\n",
       "      <td>1</td>\n",
       "    </tr>\n",
       "    <tr>\n",
       "      <th>2</th>\n",
       "      <td>48549</td>\n",
       "      <td>200</td>\n",
       "      <td>0</td>\n",
       "      <td>88000.0</td>\n",
       "      <td>0.0</td>\n",
       "      <td>440.0</td>\n",
       "      <td>440.0</td>\n",
       "      <td>440.0</td>\n",
       "      <td>0.0</td>\n",
       "      <td>0.0</td>\n",
       "      <td>...</td>\n",
       "      <td>0.0</td>\n",
       "      <td>0.0</td>\n",
       "      <td>0.0</td>\n",
       "      <td>0.0</td>\n",
       "      <td>0.0</td>\n",
       "      <td>DrDoS_DNS</td>\n",
       "      <td>0</td>\n",
       "      <td>0</td>\n",
       "      <td>1</td>\n",
       "      <td>1</td>\n",
       "    </tr>\n",
       "    <tr>\n",
       "      <th>3</th>\n",
       "      <td>48337</td>\n",
       "      <td>200</td>\n",
       "      <td>0</td>\n",
       "      <td>88000.0</td>\n",
       "      <td>0.0</td>\n",
       "      <td>440.0</td>\n",
       "      <td>440.0</td>\n",
       "      <td>440.0</td>\n",
       "      <td>0.0</td>\n",
       "      <td>0.0</td>\n",
       "      <td>...</td>\n",
       "      <td>0.0</td>\n",
       "      <td>0.0</td>\n",
       "      <td>0.0</td>\n",
       "      <td>0.0</td>\n",
       "      <td>0.0</td>\n",
       "      <td>DrDoS_DNS</td>\n",
       "      <td>0</td>\n",
       "      <td>0</td>\n",
       "      <td>1</td>\n",
       "      <td>1</td>\n",
       "    </tr>\n",
       "    <tr>\n",
       "      <th>4</th>\n",
       "      <td>32026</td>\n",
       "      <td>200</td>\n",
       "      <td>0</td>\n",
       "      <td>88000.0</td>\n",
       "      <td>0.0</td>\n",
       "      <td>440.0</td>\n",
       "      <td>440.0</td>\n",
       "      <td>440.0</td>\n",
       "      <td>0.0</td>\n",
       "      <td>0.0</td>\n",
       "      <td>...</td>\n",
       "      <td>0.0</td>\n",
       "      <td>0.0</td>\n",
       "      <td>0.0</td>\n",
       "      <td>0.0</td>\n",
       "      <td>0.0</td>\n",
       "      <td>DrDoS_DNS</td>\n",
       "      <td>0</td>\n",
       "      <td>0</td>\n",
       "      <td>1</td>\n",
       "      <td>1</td>\n",
       "    </tr>\n",
       "  </tbody>\n",
       "</table>\n",
       "<p>5 rows × 82 columns</p>\n",
       "</div>"
      ],
      "text/plain": [
       "   Flow_Duration  Fwd_Total_Pkts  Bwd_Total_Pkts  Fwd_Total_Bytes  \\\n",
       "0          28415              97               0          42680.0   \n",
       "1              2               2               0            880.0   \n",
       "2          48549             200               0          88000.0   \n",
       "3          48337             200               0          88000.0   \n",
       "4          32026             200               0          88000.0   \n",
       "\n",
       "   Bwd_Total_Bytes  Fwd_Pkt_Length_Max  Fwd_Pkt_Length_Min  \\\n",
       "0              0.0               440.0               440.0   \n",
       "1              0.0               440.0               440.0   \n",
       "2              0.0               440.0               440.0   \n",
       "3              0.0               440.0               440.0   \n",
       "4              0.0               440.0               440.0   \n",
       "\n",
       "   Fwd_Pkt_Length_Mean  Fwd_Pkt_Length_Std  Bwd_Pkt_Length_Max  ...  \\\n",
       "0                440.0                 0.0                 0.0  ...   \n",
       "1                440.0                 0.0                 0.0  ...   \n",
       "2                440.0                 0.0                 0.0  ...   \n",
       "3                440.0                 0.0                 0.0  ...   \n",
       "4                440.0                 0.0                 0.0  ...   \n",
       "\n",
       "   Time_Active_Min  Time_Idle_Mean  Time_Idle_Std  Time_Idle_Max  \\\n",
       "0              0.0             0.0            0.0            0.0   \n",
       "1              0.0             0.0            0.0            0.0   \n",
       "2              0.0             0.0            0.0            0.0   \n",
       "3              0.0             0.0            0.0            0.0   \n",
       "4              0.0             0.0            0.0            0.0   \n",
       "\n",
       "   Time_Idle_Min      Label  HOPOPT  TCP  UDP  Malicious  \n",
       "0            0.0  DrDoS_DNS       0    0    1          1  \n",
       "1            0.0  DrDoS_DNS       0    0    1          1  \n",
       "2            0.0  DrDoS_DNS       0    0    1          1  \n",
       "3            0.0  DrDoS_DNS       0    0    1          1  \n",
       "4            0.0  DrDoS_DNS       0    0    1          1  \n",
       "\n",
       "[5 rows x 82 columns]"
      ]
     },
     "execution_count": 4,
     "metadata": {},
     "output_type": "execute_result"
    }
   ],
   "source": [
    "df.head()"
   ]
  },
  {
   "cell_type": "code",
   "execution_count": 6,
   "metadata": {},
   "outputs": [
    {
     "data": {
      "text/plain": [
       "1472.0    62302\n",
       "440.0     12001\n",
       "1448.0     9976\n",
       "1464.0     2910\n",
       "0.0         983\n",
       "          ...  \n",
       "1136.0        1\n",
       "547.0         1\n",
       "1919.0        1\n",
       "270.0         1\n",
       "1066.0        1\n",
       "Name: Fwd_Pkt_Length_Max, Length: 1017, dtype: int64"
      ]
     },
     "execution_count": 6,
     "metadata": {},
     "output_type": "execute_result"
    }
   ],
   "source": [
    "df['Fwd_Pkt_Length_Max'].value_counts()"
   ]
  },
  {
   "cell_type": "code",
   "execution_count": null,
   "metadata": {},
   "outputs": [],
   "source": []
  }
 ],
 "metadata": {
  "kernelspec": {
   "display_name": "Python 3",
   "language": "python",
   "name": "python3"
  },
  "language_info": {
   "codemirror_mode": {
    "name": "ipython",
    "version": 3
   },
   "file_extension": ".py",
   "mimetype": "text/x-python",
   "name": "python",
   "nbconvert_exporter": "python",
   "pygments_lexer": "ipython3",
   "version": "3.7.7"
  }
 },
 "nbformat": 4,
 "nbformat_minor": 4
}
